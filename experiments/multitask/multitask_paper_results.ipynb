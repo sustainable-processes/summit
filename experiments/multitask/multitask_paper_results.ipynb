{
  "cells": [
    {
      "cell_type": "code",
      "source": [
        "%load_ext autoreload\n",
        "%autoreload 2"
      ],
      "outputs": [
        {
          "output_type": "stream",
          "name": "stdout",
          "text": [
            "The autoreload extension is already loaded. To reload it, use:\n",
            "  %reload_ext autoreload\n"
          ]
        }
      ],
      "execution_count": 2,
      "metadata": {}
    },
    {
      "cell_type": "markdown",
      "source": [
        "# Multi-Task BO NIPS Paper\n",
        "\nThis is a paper for the [ML4Molecules workshop](https://ml4molecules.github.io/) at NIPS 2020."
      ],
      "metadata": {}
    },
    {
      "cell_type": "code",
      "source": [
        "from summit.strategies import STBO, MTBO, Transform, LHS, Chimera\n",
        "from summit.benchmarks import (\n",
        "    MIT_case1,\n",
        "    MIT_case2,MIT_case3,\n",
        "    MIT_case4,\n",
        "    MIT_case5,\n",
        "    BaumgartnerCrossCouplingEmulator,\n",
        "    get_pretrained_baumgartner_cc_emulator,\n",
        "    ExperimentalEmulator\n",
        ")\n",
        "from summit.utils.dataset import DataSet\n",
        "from summit.domain import *\n",
        "import summit\n",
        "import pathlib\n",
        "import pandas as pd\n",
        "import numpy as np\n",
        "import matplotlib.pyplot as plt\n",
        "from typing import List\n",
        "from IPython.display import clear_output\n",
        "from copy import deepcopy\n",
        "import pathlib"
      ],
      "outputs": [],
      "execution_count": 3,
      "metadata": {}
    },
    {
      "cell_type": "code",
      "source": [
        "def run_stbo(exp, max_iterations=10, categorical_method=\"one-hot\"):\n",
        "    exp.reset()\n",
        "    strategy = STBO(exp.domain, \n",
        "                    categorical_method=categorical_method)\n",
        "    r = summit.Runner(strategy=strategy, \n",
        "                      experiment=exp, \n",
        "                      max_iterations=max_iterations)\n",
        "    r.run()\n",
        "    return r\n",
        "\n",
        "def run_mtbo(exp, pt_data, max_iterations=10):\n",
        "    strategy = MTBO(exp.domain, \n",
        "                    pretraining_data=pt_data,\n",
        "                    categorical_method=\"one-hot\", \n",
        "                    task=1)\n",
        "    r = summit.Runner(strategy=strategy,\n",
        "                      experiment=exp, \n",
        "                      max_iterations=max_iterations)\n",
        "    r.run()\n",
        "    return r\n",
        "\n",
        "def make_average_plot(results: List[summit.Runner], ax, label=None, color=None):\n",
        "    objective = results[0].experiment.domain.output_variables[0].name\n",
        "    yields = [r.experiment.data[objective] for r in results]\n",
        "    yields = np.array(yields)\n",
        "    mean_yield = np.mean(yields, axis=0)\n",
        "    std_yield = np.std(yields, axis=0)\n",
        "    x = np.arange(0, len(mean_yield), 1).astype(int)\n",
        "    ax.plot(x, mean_yield, label=label, linewidth=2)\n",
        "    ax.fill_between(x, mean_yield-std_yield, mean_yield+std_yield, alpha=0.1)\n",
        "\n",
        "def make_comparison_plot(*args):\n",
        "    fig, ax = plt.subplots(1)\n",
        "    for arg in args:\n",
        "        make_average_plot(arg['results'], ax, label=arg[\"label\"], color=arg.get(\"color\"))\n",
        "    fontdict = fontdict={\"size\":12}\n",
        "    ax.legend(loc = \"lower right\", prop=fontdict)\n",
        "    ax.set_xlim(0,20)\n",
        "    ax.set_xticks(np.arange(0, 20, 2).astype(int))\n",
        "    ax.set_ylabel('Yield', fontdict=fontdict)\n",
        "    ax.set_xlabel('Reactions', fontdict=fontdict)\n",
        "    ax.tick_params(direction='in')\n",
        "    return fig, ax"
      ],
      "outputs": [],
      "execution_count": 4,
      "metadata": {}
    },
    {
      "cell_type": "code",
      "source": [
        "N_REPEATS = 10\n",
        "MAX_ITERATIONS = 20"
      ],
      "outputs": [],
      "execution_count": 39,
      "metadata": {}
    },
    {
      "cell_type": "markdown",
      "source": [
        "## Kinetic Models"
      ],
      "metadata": {}
    },
    {
      "cell_type": "markdown",
      "source": [
        "![](figures/baumgartner_mechanisms.png)"
      ],
      "metadata": {}
    },
    {
      "cell_type": "markdown",
      "source": [
        "We will use MIT case 1 as the auxiliary task for pretraining."
      ],
      "metadata": {}
    },
    {
      "cell_type": "code",
      "source": [
        "exp_pt = MIT_case1(noise_level=1)\n",
        "exp_pt.domain"
      ],
      "outputs": [],
      "execution_count": null,
      "metadata": {}
    },
    {
      "cell_type": "markdown",
      "source": [
        "We first generate different amounts of data using latin hypercube sampling."
      ],
      "metadata": {}
    },
    {
      "cell_type": "markdown",
      "source": [
        "Now, we can run single-task and multi-task Bayesian optimization."
      ],
      "metadata": {}
    },
    {
      "cell_type": "code",
      "source": [
        "def generate_mit_case_1_data(n_points):\n",
        "    exp_pt = MIT_case1(noise_level=1)\n",
        "    rs = np.random.RandomState(100)\n",
        "    lhs = LHS(exp_pt.domain, random_state=rs)\n",
        "    conditions = lhs.suggest_experiments(n_points)\n",
        "    exp_pt.run_experiments(conditions)\n",
        "    pt_data = exp_pt.data\n",
        "    pt_data['task', 'METADATA'] = 0\n",
        "    return pt_data\n",
        "\n",
        "n_aux = [5, 10, 50]\n",
        "aux_datasets = [generate_mit_case_1_data(n) for n in n_aux]"
      ],
      "outputs": [],
      "execution_count": null,
      "metadata": {}
    },
    {
      "cell_type": "markdown",
      "source": [
        "### Same Mechanism"
      ],
      "metadata": {}
    },
    {
      "cell_type": "code",
      "source": [
        "#Single-Task Bayesian Optimization\n",
        "for i in range(N_REPEATS):\n",
        "    print(f\"Repeat {i}\")\n",
        "    exp = MIT_case2(noise_level=1)\n",
        "    result = run_stbo(exp, max_iterations=MAX_ITERATIONS)\n",
        "    result.save(f\"data/kinetics_similar/stbo_case1-2_noise_repeat_{i}.json\")\n",
        "    clear_output(wait=True)"
      ],
      "outputs": [],
      "execution_count": null,
      "metadata": {}
    },
    {
      "cell_type": "code",
      "source": [
        "#Multi-Task Bayesian Optimization\n",
        "for n, dataset in zip(n_aux, aux_datasets):\n",
        "    for i in range(N_REPEATS):\n",
        "        print(f\"Repeat {i}\")\n",
        "        exp = MIT_case2(noise_level=1)\n",
        "        result = run_mtbo(exp, dataset, max_iterations=MAX_ITERATIONS)\n",
        "        result.save(f\"data/kinetics_similar/mtbo_case1-2_noise_{n}-pre-train_repeat_{i}.json\")\n",
        "        clear_output(wait=True)"
      ],
      "outputs": [],
      "execution_count": null,
      "metadata": {}
    },
    {
      "cell_type": "markdown",
      "source": [
        "Finally, we can make a plot for the paper."
      ],
      "metadata": {}
    },
    {
      "cell_type": "code",
      "source": [
        "stbo_results = [summit.Runner.load(f\"data/kinetics_similar/stbo_case1-2_noise_repeat_{i}.json\") for i in range(10)]\n",
        "mtbo_results_lists = [[summit.Runner.load(f\"data/kinetics_similar/mtbo_case1-2_noise_{n}-pre-train_repeat_{i}.json\") \n",
        "                      for i in range(10)]\n",
        "                      for n in n_aux]\n",
        "fig, ax = make_comparison_plot(\n",
        "    dict(results=stbo_results, label=\"STBO\"),\n",
        "#     dict(results=mtbo_results_lists[0],label=\"MTBO, n=5\"),\n",
        "    dict(results=mtbo_results_lists[1],label=\"MTBO, n=10\"),\n",
        "    dict(results=mtbo_results_lists[2],label=\"MTBO, n=50\")\n",
        ")\n",
        "fig.savefig(\"figures/stbo_mtbo_kinetics_case1-2_noise_comparison.png\", bbox_inches='tight', dpi=300)"
      ],
      "outputs": [],
      "execution_count": null,
      "metadata": {}
    },
    {
      "cell_type": "markdown",
      "source": [
        "### Different Mechanisms"
      ],
      "metadata": {}
    },
    {
      "cell_type": "markdown",
      "source": [
        "This adds an extra wrinkle because there is a competing reaction which consumes B (see Case 3 from figure above)."
      ],
      "metadata": {}
    },
    {
      "cell_type": "code",
      "source": [
        "#Single-Task Bayesian Optimization\n",
        "for i in range(N_REPEATS):\n",
        "    print(f\"Repeat {i}\")\n",
        "    exp = MIT_case3(noise_level=1)\n",
        "    result = run_stbo(exp, max_iterations=MAX_ITERATIONS)\n",
        "    result.save(f\"data/kinetics_different/stbo_case1-3_noise_repeat_{i}.json\")\n",
        "    clear_output(wait=True)"
      ],
      "outputs": [],
      "execution_count": null,
      "metadata": {}
    },
    {
      "cell_type": "code",
      "source": [
        "#Multi-Task Bayesian Optimization\n",
        "for n, dataset in zip(n_aux, aux_datasets):\n",
        "    for i in range(N_REPEATS):\n",
        "        print(f\"Repeat {i}\")\n",
        "        exp = MIT_case3(noise_level=1)\n",
        "        result = run_mtbo(exp, dataset, max_iterations=MAX_ITERATIONS)\n",
        "        result.save(f\"data/kinetics_different/mtbo_case1-3_noise_{n}-pre-train_repeat_{i}.json\")\n",
        "        clear_output(wait=True)"
      ],
      "outputs": [],
      "execution_count": null,
      "metadata": {}
    },
    {
      "cell_type": "code",
      "source": [
        "stbo_results = [summit.Runner.load(f\"data/kinetics_different/stbo_case1-3_noise_repeat_{i}.json\") \n",
        "                for i in range(10)]\n",
        "mtbo_results_lists = [[summit.Runner.load(f\"data/kinetics_similar/mtbo_case1-2_noise_{n}-pre-train_repeat_{i}.json\") \n",
        "                      for i in range(10)]\n",
        "                      for n in [10,50]]\n",
        "fig, ax = make_comparison_plot(\n",
        "    dict(results=stbo_results, label=\"STBO\"),\n",
        "    dict(results=mtbo_results_lists[0],label=\"MTBO, n=10\"),\n",
        "    dict(results=mtbo_results_lists[1],label=\"MTBO, n=50\")\n",
        ")\n",
        "fig.savefig(\"figures/stbo_mtbo_kinetics_case1-3_noise_comparison.png\", bbox_inches='tight', dpi=300)"
      ],
      "outputs": [],
      "execution_count": null,
      "metadata": {}
    },
    {
      "cell_type": "markdown",
      "source": [
        "## C-N Cross Couplings"
      ],
      "metadata": {}
    },
    {
      "cell_type": "markdown",
      "source": [
        "First we need to get the data from the Baumgartner paper and do some manipulation to get it in the form we want"
      ],
      "metadata": {}
    },
    {
      "cell_type": "code",
      "source": [
        "b_df = pd.read_excel(\"data/baumgartner_data.xlsx\", sheet_name=\"Reaction data\")\n",
        "# Just the columns we want\n",
        "b_df = b_df[[\n",
        "    \"Optimization\", \n",
        "    \"Base\",\n",
        "    \"Base equivalents\",\n",
        "    \"Temperature (degC)\",\n",
        "    \"Residence Time Actual (s)\",\n",
        "    \"Reaction Yield\"\n",
        "]]\n",
        "# Rename columns\n",
        "columns =  {\"Optimization\": \"catalyst\", \n",
        "    \"Base\": \"base\",\n",
        "    \"Base equivalents\": \"base_equivalents\",\n",
        "    \"Temperature (degC)\": \"temperature\",\n",
        "    \"Residence Time Actual (s)\": \"t_res\",\n",
        "    \"Reaction Yield\": \"yield\"\n",
        "}\n",
        "b_df = b_df.rename(columns=columns)\n",
        "\n",
        "# Drop preliminary reactions\n",
        "b_df = b_df.iloc[:363,:] \n",
        "#Split catalyst column into nucleophile and catlyst\n",
        "new = b_df[\"catalyst\"].str.split(\" - \", n=1, expand=True)\n",
        "# Create new columns\n",
        "b_df[\"nucleophile\"] = new[0]\n",
        "b_df[\"catalyst\"] = new[1]\n",
        "# Create a dtaset for each nucleophile\n",
        "nucleophiles = pd.unique(b_df[\"nucleophile\"])\n",
        "dfs = {nucleophile: b_df[b_df[\"nucleophile\"]==nucleophile]\n",
        "       for nucleophile in nucleophiles}\n",
        "datasets = {nucleophile: DataSet.from_df(dfs[nucleophile], metadata_columns=\"nucleophile\")\n",
        "            for nucleophile in nucleophiles}"
      ],
      "outputs": [
        {
          "output_type": "stream",
          "name": "stderr",
          "text": [
            "/Users/Kobi/Library/Caches/pypoetry/virtualenvs/summit-TfmmV07p-py3.7/lib/python3.7/site-packages/ipykernel_launcher.py:1: FutureWarning: Your version of xlrd is 1.2.0. In xlrd >= 2.0, only the xls format is supported. As a result, the openpyxl engine will be used if it is installed and the engine argument is not specified. Install openpyxl instead.\n",
            "  \"\"\"Entry point for launching an IPython kernel.\n"
          ]
        }
      ],
      "execution_count": 5,
      "metadata": {}
    },
    {
      "cell_type": "code",
      "source": [
        "fig, axes = plt.subplots(1,2, figsize=(10,5))\n",
        "fig.subplots_adjust(wspace=0.2)\n",
        "# Counts of different catalysts grouped by nucleophile\n",
        "(b_df.\n",
        " groupby(\"nucleophile\").\n",
        " catalyst.\n",
        " value_counts().\n",
        " unstack(0).\n",
        " plot.bar(ax=axes[0])\n",
        ")\n",
        "# Counts of different bases grouped by nucleophile\n",
        "(b_df.\n",
        " groupby(\"nucleophile\").\n",
        " base.\n",
        " value_counts().\n",
        " unstack(0).\n",
        " plot.bar(ax=axes[1])\n",
        ")\n",
        "for ax in axes:\n",
        "    ax.set_ylabel(\"Counts\")\n",
        "fig.tight_layout()\n",
        "fig.savefig(\"figures/baumgartner_catalyst_base_distribution.png\", dpi=300)"
      ],
      "outputs": [
        {
          "output_type": "display_data",
          "data": {
            "text/plain": [
              "<Figure size 720x360 with 2 Axes>"
            ],
            "image/png": "[encoded data removed]"
          },
          "metadata": {
            "needs_background": "light"
          }
        }
      ],
      "execution_count": 14,
      "metadata": {
        "collapsed": false,
        "inputHidden": false,
        "jupyter": {
          "outputs_hidden": false
        },
        "outputHidden": false
      }
    },
    {
      "cell_type": "code",
      "source": [
        "fig, axes = plt.subplots(1,2, figsize=(10,5))\n",
        "fig.subplots_adjust(wspace=0.2)\n",
        "# Counts of different catalysts grouped by nucleophile\n",
        "(b_df.replace(\"≥90%\", 0.9).\n",
        " groupby([\"nucleophile\", \"catalyst\"])\n",
        " [\"yield\"].\n",
        " mean().\n",
        " unstack(0).\n",
        " plot.bar(ax=axes[0])\n",
        ")\n",
        "# Counts of different bases grouped by nucleophile\n",
        "(b_df.replace(\"≥90%\", 0.9).\n",
        " groupby([\"nucleophile\", \"base\"])\n",
        " [\"yield\"].\n",
        " mean().\n",
        " unstack(0).\n",
        " plot.bar(ax=axes[1])\n",
        ")\n",
        "for ax in axes:\n",
        "    ax.set_ylabel(\"average yield\")\n",
        "fig.tight_layout()\n",
        "fig.savefig(\"figures/baumgartner_catalyst_base_yields.png\", dpi=300)"
      ],
      "outputs": [
        {
          "output_type": "display_data",
          "data": {
            "text/plain": [
              "<Figure size 720x360 with 2 Axes>"
            ],
            "image/png": "[encoded data removed]"
          },
          "metadata": {
            "needs_background": "light"
          }
        }
      ],
      "execution_count": 13,
      "metadata": {
        "collapsed": false,
        "inputHidden": false,
        "jupyter": {
          "outputs_hidden": false
        },
        "outputHidden": false
      }
    },
    {
      "cell_type": "markdown",
      "source": [
        "### Differing Substrates"
      ],
      "metadata": {}
    },
    {
      "cell_type": "markdown",
      "source": [
        "Optimize aniline case with auxiliary data from benzamide case."
      ],
      "metadata": {}
    },
    {
      "cell_type": "code",
      "source": [
        "#Single-Task Bayesian Optimization\n",
        "for i in range(N_REPEATS):\n",
        "    print(f\"Repeat {i}\")\n",
        "    exp = get_pretrained_baumgartner_cc_emulator()\n",
        "    result = run_stbo(exp, max_iterations=MAX_ITERATIONS)\n",
        "    result.save(f\"data/cross_coupling_different/stbo_cn_noise_repeat_{i}.json\")\n",
        "    clear_output(wait=True)"
      ],
      "outputs": [],
      "execution_count": null,
      "metadata": {}
    },
    {
      "cell_type": "code",
      "source": [
        "#Multi-Task Bayesian Optimization\n",
        "pt_data = datasets[\"Benzamide\"]\n",
        "pt_data[\"task\", \"METADATA\"] = 0\n",
        "# Drop base=MTBD because not in other dataset\n",
        "pt_data = pt_data[pt_data[\"base\"] != \"MTBD\"]\n",
        "# Clean data\n",
        "pt_data = pt_data.replace(\"≥90%\", 0.9)\n",
        "for i in range(N_REPEATS):\n",
        "    print(f\"Repeat {i}\")\n",
        "    exp = get_pretrained_baumgartner_cc_emulator()\n",
        "    result = run_mtbo(exp, pt_data, max_iterations=MAX_ITERATIONS)\n",
        "    result.save(f\"data/cross_coupling_different/mtbo_cn_repeat_{i}.json\")\n",
        "    clear_output(wait=True)"
      ],
      "outputs": [],
      "execution_count": null,
      "metadata": {}
    },
    {
      "cell_type": "code",
      "source": [
        "stbo_results = [summit.Runner.load(f\"data/cross_coupling_different/stbo_cn_noise_repeat_{i}.json\") \n",
        "                for i in range(10)]\n",
        "mtbo_results = [summit.Runner.load(f\"data/cross_coupling_different/mtbo_cn_repeat_{i}.json\") \n",
        "                for i in range(10)]\n",
        "fig, ax = make_comparison_plot(\n",
        "    dict(results=stbo_results, label=\"STBO\"),\n",
        "    dict(results=mtbo_results,label=\"MTBO, n=43\"),\n",
        ")\n",
        "fig.savefig(\"figures/stbo_mtbo_cn_different.png\", bbox_inches='tight', dpi=300)"
      ],
      "outputs": [
        {
          "output_type": "stream",
          "name": "stderr",
          "text": [
            "/Users/Kobi/Library/Caches/pypoetry/virtualenvs/summit-TfmmV07p-py3.7/lib/python3.7/site-packages/sklearn/metrics/_regression.py:682: UndefinedMetricWarning: R^2 score is not well-defined with less than two samples.\n",
            "  warnings.warn(msg, UndefinedMetricWarning)\n",
            "/Users/Kobi/Library/Caches/pypoetry/virtualenvs/summit-TfmmV07p-py3.7/lib/python3.7/site-packages/sklearn/metrics/_regression.py:682: UndefinedMetricWarning: R^2 score is not well-defined with less than two samples.\n",
            "  warnings.warn(msg, UndefinedMetricWarning)\n",
            "/Users/Kobi/Library/Caches/pypoetry/virtualenvs/summit-TfmmV07p-py3.7/lib/python3.7/site-packages/sklearn/metrics/_regression.py:682: UndefinedMetricWarning: R^2 score is not well-defined with less than two samples.\n",
            "  warnings.warn(msg, UndefinedMetricWarning)\n",
            "/Users/Kobi/Library/Caches/pypoetry/virtualenvs/summit-TfmmV07p-py3.7/lib/python3.7/site-packages/sklearn/metrics/_regression.py:682: UndefinedMetricWarning: R^2 score is not well-defined with less than two samples.\n",
            "  warnings.warn(msg, UndefinedMetricWarning)\n",
            "/Users/Kobi/Library/Caches/pypoetry/virtualenvs/summit-TfmmV07p-py3.7/lib/python3.7/site-packages/sklearn/metrics/_regression.py:682: UndefinedMetricWarning: R^2 score is not well-defined with less than two samples.\n",
            "  warnings.warn(msg, UndefinedMetricWarning)\n",
            "/Users/Kobi/Library/Caches/pypoetry/virtualenvs/summit-TfmmV07p-py3.7/lib/python3.7/site-packages/sklearn/metrics/_regression.py:682: UndefinedMetricWarning: R^2 score is not well-defined with less than two samples.\n",
            "  warnings.warn(msg, UndefinedMetricWarning)\n",
            "/Users/Kobi/Library/Caches/pypoetry/virtualenvs/summit-TfmmV07p-py3.7/lib/python3.7/site-packages/sklearn/metrics/_regression.py:682: UndefinedMetricWarning: R^2 score is not well-defined with less than two samples.\n",
            "  warnings.warn(msg, UndefinedMetricWarning)\n",
            "/Users/Kobi/Library/Caches/pypoetry/virtualenvs/summit-TfmmV07p-py3.7/lib/python3.7/site-packages/sklearn/metrics/_regression.py:682: UndefinedMetricWarning: R^2 score is not well-defined with less than two samples.\n",
            "  warnings.warn(msg, UndefinedMetricWarning)\n",
            "/Users/Kobi/Library/Caches/pypoetry/virtualenvs/summit-TfmmV07p-py3.7/lib/python3.7/site-packages/sklearn/metrics/_regression.py:682: UndefinedMetricWarning: R^2 score is not well-defined with less than two samples.\n",
            "  warnings.warn(msg, UndefinedMetricWarning)\n",
            "/Users/Kobi/Library/Caches/pypoetry/virtualenvs/summit-TfmmV07p-py3.7/lib/python3.7/site-packages/sklearn/metrics/_regression.py:682: UndefinedMetricWarning: R^2 score is not well-defined with less than two samples.\n",
            "  warnings.warn(msg, UndefinedMetricWarning)\n",
            "/Users/Kobi/Library/Caches/pypoetry/virtualenvs/summit-TfmmV07p-py3.7/lib/python3.7/site-packages/sklearn/metrics/_regression.py:682: UndefinedMetricWarning: R^2 score is not well-defined with less than two samples.\n",
            "  warnings.warn(msg, UndefinedMetricWarning)\n",
            "/Users/Kobi/Library/Caches/pypoetry/virtualenvs/summit-TfmmV07p-py3.7/lib/python3.7/site-packages/sklearn/metrics/_regression.py:682: UndefinedMetricWarning: R^2 score is not well-defined with less than two samples.\n",
            "  warnings.warn(msg, UndefinedMetricWarning)\n",
            "/Users/Kobi/Library/Caches/pypoetry/virtualenvs/summit-TfmmV07p-py3.7/lib/python3.7/site-packages/sklearn/metrics/_regression.py:682: UndefinedMetricWarning: R^2 score is not well-defined with less than two samples.\n",
            "  warnings.warn(msg, UndefinedMetricWarning)\n",
            "/Users/Kobi/Library/Caches/pypoetry/virtualenvs/summit-TfmmV07p-py3.7/lib/python3.7/site-packages/sklearn/metrics/_regression.py:682: UndefinedMetricWarning: R^2 score is not well-defined with less than two samples.\n",
            "  warnings.warn(msg, UndefinedMetricWarning)\n",
            "/Users/Kobi/Library/Caches/pypoetry/virtualenvs/summit-TfmmV07p-py3.7/lib/python3.7/site-packages/sklearn/metrics/_regression.py:682: UndefinedMetricWarning: R^2 score is not well-defined with less than two samples.\n",
            "  warnings.warn(msg, UndefinedMetricWarning)\n",
            "/Users/Kobi/Library/Caches/pypoetry/virtualenvs/summit-TfmmV07p-py3.7/lib/python3.7/site-packages/sklearn/metrics/_regression.py:682: UndefinedMetricWarning: R^2 score is not well-defined with less than two samples.\n",
            "  warnings.warn(msg, UndefinedMetricWarning)\n",
            "/Users/Kobi/Library/Caches/pypoetry/virtualenvs/summit-TfmmV07p-py3.7/lib/python3.7/site-packages/sklearn/metrics/_regression.py:682: UndefinedMetricWarning: R^2 score is not well-defined with less than two samples.\n",
            "  warnings.warn(msg, UndefinedMetricWarning)\n",
            "/Users/Kobi/Library/Caches/pypoetry/virtualenvs/summit-TfmmV07p-py3.7/lib/python3.7/site-packages/sklearn/metrics/_regression.py:682: UndefinedMetricWarning: R^2 score is not well-defined with less than two samples.\n",
            "  warnings.warn(msg, UndefinedMetricWarning)\n",
            "/Users/Kobi/Library/Caches/pypoetry/virtualenvs/summit-TfmmV07p-py3.7/lib/python3.7/site-packages/sklearn/metrics/_regression.py:682: UndefinedMetricWarning: R^2 score is not well-defined with less than two samples.\n",
            "  warnings.warn(msg, UndefinedMetricWarning)\n",
            "/Users/Kobi/Library/Caches/pypoetry/virtualenvs/summit-TfmmV07p-py3.7/lib/python3.7/site-packages/sklearn/metrics/_regression.py:682: UndefinedMetricWarning: R^2 score is not well-defined with less than two samples.\n",
            "  warnings.warn(msg, UndefinedMetricWarning)\n"
          ]
        },
        {
          "output_type": "display_data",
          "data": {
            "text/plain": [
              "<Figure size 432x288 with 1 Axes>"
            ],
            "image/png": "[encoded data removed]"
          },
          "metadata": {
            "needs_background": "light"
          }
        }
      ],
      "execution_count": 15,
      "metadata": {
        "scrolled": true
      }
    },
    {
      "cell_type": "code",
      "source": [],
      "outputs": [
        {
          "output_type": "execute_result",
          "execution_count": 18,
          "data": {
            "text/plain": [
              "NAME      catalyst base base_equivalents temperature        t_res     yield  \\\n",
              "TYPE          DATA DATA             DATA        DATA         DATA      DATA   \n",
              "0         tBuXPhos  DBU         1.375000   82.500000  1365.000000  0.888505   \n",
              "1     tBuBrettPhos  TMG         2.125000   47.500000   495.000000  0.086979   \n",
              "2         tBuXPhos  DBU         1.380267   82.829384  1395.393066  0.895618   \n",
              "3         tBuXPhos  DBU         1.541958   83.641937  1363.182617  0.906691   \n",
              "4         tBuXPhos  DBU         1.549197   71.723419  1789.764160  0.865854   \n",
              "..             ...  ...              ...         ...          ...       ...   \n",
              "16        tBuXPhos  TMG         2.024388  100.000000  1159.117065  0.883003   \n",
              "17        tBuXPhos  TMG         1.948155  100.000000  1188.951904  0.882904   \n",
              "18        tBuXPhos  TMG         1.870981  100.000000  1158.173096  0.883244   \n",
              "19        tBuXPhos  TMG         1.913444  100.000000  1100.192871  0.883185   \n",
              "20        tBuXPhos  TMG         1.945152  100.000000  1147.914551  0.883768   \n",
              "\n",
              "NAME computation_t experiment_t strategy     task  \n",
              "TYPE      METADATA     METADATA METADATA METADATA  \n",
              "0         0.000000     0.048193      LHS      1.0  \n",
              "1         0.000000     0.052553      LHS      1.0  \n",
              "2         2.136502     0.035443     MTBO      1.0  \n",
              "3         2.521018     0.034423     MTBO      1.0  \n",
              "4         2.032697     0.033817     MTBO      1.0  \n",
              "..             ...          ...      ...      ...  \n",
              "16        1.829988     0.030292     MTBO      1.0  \n",
              "17        1.378010     0.027179     MTBO      1.0  \n",
              "18        1.666886     0.028165     MTBO      1.0  \n",
              "19        2.182215     0.032504     MTBO      1.0  \n",
              "20        1.214195     0.030377     MTBO      1.0  \n",
              "\n[210 rows x 10 columns]"
            ],
            "text/html": [
              "<div>\n",
              "<style scoped>\n",
              "    .dataframe tbody tr th:only-of-type {\n",
              "        vertical-align: middle;\n",
              "    }\n",
              "\n",
              "    .dataframe tbody tr th {\n",
              "        vertical-align: top;\n",
              "    }\n",
              "\n",
              "    .dataframe thead th {\n",
              "        text-align: right;\n",
              "    }\n",
              "</style>\n",
              "<table border=\"1\" class=\"dataframe\">\n",
              "  <thead>\n",
              "    <tr style=\"text-align: right;\">\n",
              "      <th></th>\n",
              "      <th>catalyst</th>\n",
              "      <th>base</th>\n",
              "      <th>base_equivalents</th>\n",
              "      <th>temperature</th>\n",
              "      <th>t_res</th>\n",
              "      <th>yield</th>\n",
              "      <th>computation_t</th>\n",
              "      <th>experiment_t</th>\n",
              "      <th>strategy</th>\n",
              "      <th>task</th>\n",
              "    </tr>\n",
              "  </thead>\n",
              "  <tbody>\n",
              "    <tr>\n",
              "      <th>0</th>\n",
              "      <td>tBuXPhos</td>\n",
              "      <td>DBU</td>\n",
              "      <td>1.375000</td>\n",
              "      <td>82.500000</td>\n",
              "      <td>1365.000000</td>\n",
              "      <td>0.888505</td>\n",
              "      <td>0.000000</td>\n",
              "      <td>0.048193</td>\n",
              "      <td>LHS</td>\n",
              "      <td>1.0</td>\n",
              "    </tr>\n",
              "    <tr>\n",
              "      <th>1</th>\n",
              "      <td>tBuBrettPhos</td>\n",
              "      <td>TMG</td>\n",
              "      <td>2.125000</td>\n",
              "      <td>47.500000</td>\n",
              "      <td>495.000000</td>\n",
              "      <td>0.086979</td>\n",
              "      <td>0.000000</td>\n",
              "      <td>0.052553</td>\n",
              "      <td>LHS</td>\n",
              "      <td>1.0</td>\n",
              "    </tr>\n",
              "    <tr>\n",
              "      <th>2</th>\n",
              "      <td>tBuXPhos</td>\n",
              "      <td>DBU</td>\n",
              "      <td>1.380267</td>\n",
              "      <td>82.829384</td>\n",
              "      <td>1395.393066</td>\n",
              "      <td>0.895618</td>\n",
              "      <td>2.136502</td>\n",
              "      <td>0.035443</td>\n",
              "      <td>MTBO</td>\n",
              "      <td>1.0</td>\n",
              "    </tr>\n",
              "    <tr>\n",
              "      <th>3</th>\n",
              "      <td>tBuXPhos</td>\n",
              "      <td>DBU</td>\n",
              "      <td>1.541958</td>\n",
              "      <td>83.641937</td>\n",
              "      <td>1363.182617</td>\n",
              "      <td>0.906691</td>\n",
              "      <td>2.521018</td>\n",
              "      <td>0.034423</td>\n",
              "      <td>MTBO</td>\n",
              "      <td>1.0</td>\n",
              "    </tr>\n",
              "    <tr>\n",
              "      <th>4</th>\n",
              "      <td>tBuXPhos</td>\n",
              "      <td>DBU</td>\n",
              "      <td>1.549197</td>\n",
              "      <td>71.723419</td>\n",
              "      <td>1789.764160</td>\n",
              "      <td>0.865854</td>\n",
              "      <td>2.032697</td>\n",
              "      <td>0.033817</td>\n",
              "      <td>MTBO</td>\n",
              "      <td>1.0</td>\n",
              "    </tr>\n",
              "    <tr>\n",
              "      <th>...</th>\n",
              "      <td>...</td>\n",
              "      <td>...</td>\n",
              "      <td>...</td>\n",
              "      <td>...</td>\n",
              "      <td>...</td>\n",
              "      <td>...</td>\n",
              "      <td>...</td>\n",
              "      <td>...</td>\n",
              "      <td>...</td>\n",
              "      <td>...</td>\n",
              "    </tr>\n",
              "    <tr>\n",
              "      <th>16</th>\n",
              "      <td>tBuXPhos</td>\n",
              "      <td>TMG</td>\n",
              "      <td>2.024388</td>\n",
              "      <td>100.000000</td>\n",
              "      <td>1159.117065</td>\n",
              "      <td>0.883003</td>\n",
              "      <td>1.829988</td>\n",
              "      <td>0.030292</td>\n",
              "      <td>MTBO</td>\n",
              "      <td>1.0</td>\n",
              "    </tr>\n",
              "    <tr>\n",
              "      <th>17</th>\n",
              "      <td>tBuXPhos</td>\n",
              "      <td>TMG</td>\n",
              "      <td>1.948155</td>\n",
              "      <td>100.000000</td>\n",
              "      <td>1188.951904</td>\n",
              "      <td>0.882904</td>\n",
              "      <td>1.378010</td>\n",
              "      <td>0.027179</td>\n",
              "      <td>MTBO</td>\n",
              "      <td>1.0</td>\n",
              "    </tr>\n",
              "    <tr>\n",
              "      <th>18</th>\n",
              "      <td>tBuXPhos</td>\n",
              "      <td>TMG</td>\n",
              "      <td>1.870981</td>\n",
              "      <td>100.000000</td>\n",
              "      <td>1158.173096</td>\n",
              "      <td>0.883244</td>\n",
              "      <td>1.666886</td>\n",
              "      <td>0.028165</td>\n",
              "      <td>MTBO</td>\n",
              "      <td>1.0</td>\n",
              "    </tr>\n",
              "    <tr>\n",
              "      <th>19</th>\n",
              "      <td>tBuXPhos</td>\n",
              "      <td>TMG</td>\n",
              "      <td>1.913444</td>\n",
              "      <td>100.000000</td>\n",
              "      <td>1100.192871</td>\n",
              "      <td>0.883185</td>\n",
              "      <td>2.182215</td>\n",
              "      <td>0.032504</td>\n",
              "      <td>MTBO</td>\n",
              "      <td>1.0</td>\n",
              "    </tr>\n",
              "    <tr>\n",
              "      <th>20</th>\n",
              "      <td>tBuXPhos</td>\n",
              "      <td>TMG</td>\n",
              "      <td>1.945152</td>\n",
              "      <td>100.000000</td>\n",
              "      <td>1147.914551</td>\n",
              "      <td>0.883768</td>\n",
              "      <td>1.214195</td>\n",
              "      <td>0.030377</td>\n",
              "      <td>MTBO</td>\n",
              "      <td>1.0</td>\n",
              "    </tr>\n",
              "  </tbody>\n",
              "</table>\n",
              "<p>210 rows × 10 columns</p>\n",
              "</div>"
            ]
          },
          "metadata": {}
        }
      ],
      "execution_count": 18,
      "metadata": {
        "collapsed": false,
        "outputHidden": false,
        "inputHidden": false
      }
    },
    {
      "cell_type": "code",
      "source": [
        "fig, axes = plt.subplots(1,2, figsize=(10,5))\n",
        "fig.subplots_adjust(wspace=0.2)\n",
        "data = [r.experiment.data for r in mtbo_results]\n",
        "big_data= pd.concat(data)\n",
        "big_data[\"nucleophile\", \"METADATA\"] = \"Aniline (optimization)\"\n",
        "pt_data = datasets[\"Benzamide\"]\n",
        "pt_data[\"task\", \"METADATA\"] = 0\n",
        "# Drop base=MTBD because not in other dataset\n",
        "pt_data = pt_data[pt_data[\"base\"] != \"MTBD\"]\n",
        "# Clean data\n",
        "pt_data = pt_data.replace(\"≥90%\", 0.9)\n",
        "pt_data[\"nucleophile\", \"METADATA\"] = \"Benzamide (pretraining)\"\n",
        "big_data = big_data.append(pt_data)\n",
        "# Counts of different catalysts grouped by nucleophile\n",
        "(big_data.\n",
        " groupby([\"nucleophile\", \"catalyst\"])\n",
        " [\"yield\"].\n",
        " mean().\n",
        " unstack(0).\n",
        " plot.bar(ax=axes[0])\n",
        ")\n",
        "# Counts of different bases grouped by nucleophile\n",
        "(big_data.\n",
        " groupby([\"nucleophile\", \"base\"])\n",
        " [\"yield\"].\n",
        " mean().\n",
        " unstack(0).\n",
        " plot.bar(ax=axes[1])\n",
        ")\n",
        "for ax in axes:\n",
        "    ax.set_ylabel(\"average yield\")\n",
        "fig.tight_layout()\n",
        "fig.savefig(\"figures/yield_distribution_different_catalyst_base.png\", dpi=300)"
      ],
      "outputs": [
        {
          "output_type": "display_data",
          "data": {
            "text/plain": [
              "<Figure size 720x360 with 2 Axes>"
            ],
            "image/png": "[encoded data removed]"
          },
          "metadata": {
            "needs_background": "light"
          }
        }
      ],
      "execution_count": 84,
      "metadata": {
        "collapsed": false,
        "outputHidden": false,
        "inputHidden": false
      }
    },
    {
      "cell_type": "markdown",
      "source": [
        "### Similar Substrates"
      ],
      "metadata": {}
    },
    {
      "cell_type": "markdown",
      "source": [
        "What if our auxiliary data is similar to the task being optimized? In this case primary amine to secondary amine.\n",
        "\nSince we don't have a benchmark for this, we first need to train a model."
      ],
      "metadata": {}
    },
    {
      "cell_type": "code",
      "source": [
        "#Create the domain based on Baumgartner, but with different bases\n",
        "bases_primary = pd.unique(datasets[\"Phenethylamine\"][\"base\"])\n",
        "bases_secondary = pd.unique(datasets[\"Morpholine\"][\"base\"])\n",
        "assert bases_primary.all() == bases_secondary.all()\n",
        "domain = BaumgartnerCrossCouplingEmulator.setup_domain()\n",
        "new_domain = deepcopy(domain)\n",
        "bases = list(pd.unique(datasets[\"Morpholine\"][\"base\"]))\n",
        "new_domain[\"base\"] = CategoricalVariable(name=\"base\", description=\"Base\", levels=bases)\n",
        "new_domain"
      ],
      "outputs": [
        {
          "output_type": "execute_result",
          "execution_count": 23,
          "data": {
            "text/html": [
              "<table id='domain' width=100%><tr><td><b>Name</b></td><td><b>Type</b></td><td><b>Description</b></td><td><b>Values</b></td></tr><tr><td>catalyst</td><td>categorical, input</td><td>Catalyst type</td><td>3 levels</td></tr><tr><td>base</td><td>categorical, input</td><td>Base</td><td>4 levels</td></tr><tr><td>base_equivalents</td><td>continuous, input</td><td>Base equivalents</td><td>[1.0,2.5]</td></tr><tr><td>temperature</td><td>continuous, input</td><td>Temperature in degrees Celsius (ºC)</td><td>[30,100]</td></tr><tr><td>t_res</td><td>continuous, input</td><td>residence time in seconds (s)</td><td>[60,1800]</td></tr><tr><td>yield</td><td>continuous, maximize objective</td><td>Yield</td><td>[0.0,1.0]</td></tr></table>"
            ],
            "text/plain": [
              "<summit.domain.Domain at 0x13631b390>"
            ]
          },
          "metadata": {}
        }
      ],
      "execution_count": 23,
      "metadata": {}
    },
    {
      "cell_type": "code",
      "source": [
        "# Load or train primary amine benchmark model\n",
        "save_dir = pathlib.Path(\"baumgartner_phenethylamine_emulator/\")\n",
        "if save_dir.exists():\n",
        "    exp_amine = ExperimentalEmulator.load(\"baumgartner_primary_amine\", save_dir)\n",
        "else:\n",
        "    exp_amine = ExperimentalEmulator(\n",
        "        domain=new_domain,\n",
        "        model_name=\"baumgartner_primary_amine\",\n",
        "        dataset=datasets[\"Phenethylamine\"].replace(\"≥90%\", 0.9)\n",
        "    )\n",
        "    exp_amine.train(max_epochs=1000, cv_fold=2, test_size=0.25, verbose=False)\n",
        "    exp_amine.save(\"baumgartner_phenethylamine_emulator\")\n",
        "exp_amine.parity_plot()"
      ],
      "outputs": [
        {
          "output_type": "execute_result",
          "execution_count": 24,
          "data": {
            "text/plain": [
              "(<Figure size 720x360 with 1 Axes>,\n",
              " array([<AxesSubplot:title={'center':'yield'}, xlabel='Measured', ylabel='Predicted'>],\n",
              "       dtype=object))"
            ]
          },
          "metadata": {}
        },
        {
          "output_type": "display_data",
          "data": {
            "image/png": "[encoded data removed]",
            "text/plain": [
              "<Figure size 720x360 with 1 Axes>"
            ]
          },
          "metadata": {
            "needs_background": "light"
          }
        }
      ],
      "execution_count": 24,
      "metadata": {}
    },
    {
      "cell_type": "code",
      "source": [
        "#Single-Task Bayesian Optimization\n",
        "for i in range(N_REPEATS):\n",
        "    print(f\"Repeat {i}\")\n",
        "    result = run_stbo(exp_amine, max_iterations=MAX_ITERATIONS)\n",
        "    result.save(f\"data/cross_coupling_similar/stbo_cn_noise_repeat_{i}.json\")\n",
        "    clear_output(wait=True) "
      ],
      "outputs": [],
      "execution_count": null,
      "metadata": {}
    },
    {
      "cell_type": "code",
      "source": [
        "#Multi-Task Bayesian Optimization\n",
        "pt_data = datasets[\"Morpholine\"].copy()\n",
        "pt_data[(\"task\", \"METADATA\")] = 0\n",
        "pt_data = pt_data.replace(\"≥90%\", 0.9)\n",
        "for i in range(N_REPEATS):\n",
        "    print(f\"Repeat {i}\") \n",
        "    exp_amine.reset()\n",
        "    result = run_mtbo(exp_amine, pt_data, max_iterations=MAX_ITERATIONS)\n",
        "    result.save(f\"data/cross_coupling_similar/mtbo_pre-train_repeat_{i}.json\")\n",
        "    clear_output(wait=True)"
      ],
      "outputs": [
        {
          "output_type": "stream",
          "name": "stdout",
          "text": [
            "Repeat 9\n"
          ]
        },
        {
          "output_type": "display_data",
          "data": {
            "text/html": [
              "\n",
              "    <div>\n",
              "        <style>\n",
              "            /* Turns off some styling */\n",
              "            progress {\n",
              "                /* gets rid of default border in Firefox and Opera. */\n",
              "                border: none;\n",
              "                /* Needs to be in here for Safari polyfill so background images work as expected. */\n",
              "                background-size: auto;\n",
              "            }\n",
              "            .progress-bar-interrupted, .progress-bar-interrupted::-webkit-progress-bar {\n",
              "                background: #F44336;\n",
              "            }\n",
              "        </style>\n",
              "      <progress value='20' class='' max='20' style='width:300px; height:20px; vertical-align: middle;'></progress>\n",
              "      100.00% [20/20 01:36<00:00]\n",
              "    </div>\n",
              "    "
            ],
            "text/plain": [
              "<IPython.core.display.HTML object>"
            ]
          },
          "metadata": {}
        },
        {
          "output_type": "stream",
          "name": "stderr",
          "text": [
            "/Users/Kobi/Library/Caches/pypoetry/virtualenvs/summit-TfmmV07p-py3.7/lib/python3.7/site-packages/pandas/core/generic.py:4152: PerformanceWarning: dropping on a non-lexsorted multi-index without a level parameter may impact performance.\n",
            "  obj = obj._drop_axis(labels, axis, level=level, errors=errors)\n",
            "/Users/Kobi/Library/Caches/pypoetry/virtualenvs/summit-TfmmV07p-py3.7/lib/python3.7/site-packages/pandas/core/generic.py:4152: PerformanceWarning: dropping on a non-lexsorted multi-index without a level parameter may impact performance.\n",
            "  obj = obj._drop_axis(labels, axis, level=level, errors=errors)\n",
            "/Users/Kobi/Library/Caches/pypoetry/virtualenvs/summit-TfmmV07p-py3.7/lib/python3.7/site-packages/pandas/core/generic.py:4152: PerformanceWarning: dropping on a non-lexsorted multi-index without a level parameter may impact performance.\n",
            "  obj = obj._drop_axis(labels, axis, level=level, errors=errors)\n",
            "/Users/Kobi/Library/Caches/pypoetry/virtualenvs/summit-TfmmV07p-py3.7/lib/python3.7/site-packages/pandas/core/generic.py:4152: PerformanceWarning: dropping on a non-lexsorted multi-index without a level parameter may impact performance.\n",
            "  obj = obj._drop_axis(labels, axis, level=level, errors=errors)\n",
            "/Users/Kobi/Library/Caches/pypoetry/virtualenvs/summit-TfmmV07p-py3.7/lib/python3.7/site-packages/pandas/core/generic.py:4152: PerformanceWarning: dropping on a non-lexsorted multi-index without a level parameter may impact performance.\n",
            "  obj = obj._drop_axis(labels, axis, level=level, errors=errors)\n",
            "/Users/Kobi/Library/Caches/pypoetry/virtualenvs/summit-TfmmV07p-py3.7/lib/python3.7/site-packages/pandas/core/generic.py:4152: PerformanceWarning: dropping on a non-lexsorted multi-index without a level parameter may impact performance.\n",
            "  obj = obj._drop_axis(labels, axis, level=level, errors=errors)\n",
            "/Users/Kobi/Library/Caches/pypoetry/virtualenvs/summit-TfmmV07p-py3.7/lib/python3.7/site-packages/pandas/core/generic.py:4152: PerformanceWarning: dropping on a non-lexsorted multi-index without a level parameter may impact performance.\n",
            "  obj = obj._drop_axis(labels, axis, level=level, errors=errors)\n",
            "/Users/Kobi/Library/Caches/pypoetry/virtualenvs/summit-TfmmV07p-py3.7/lib/python3.7/site-packages/pandas/core/generic.py:4152: PerformanceWarning: dropping on a non-lexsorted multi-index without a level parameter may impact performance.\n",
            "  obj = obj._drop_axis(labels, axis, level=level, errors=errors)\n",
            "/Users/Kobi/Library/Caches/pypoetry/virtualenvs/summit-TfmmV07p-py3.7/lib/python3.7/site-packages/pandas/core/generic.py:4152: PerformanceWarning: dropping on a non-lexsorted multi-index without a level parameter may impact performance.\n",
            "  obj = obj._drop_axis(labels, axis, level=level, errors=errors)\n",
            "/Users/Kobi/Library/Caches/pypoetry/virtualenvs/summit-TfmmV07p-py3.7/lib/python3.7/site-packages/pandas/core/generic.py:4152: PerformanceWarning: dropping on a non-lexsorted multi-index without a level parameter may impact performance.\n",
            "  obj = obj._drop_axis(labels, axis, level=level, errors=errors)\n",
            "/Users/Kobi/Library/Caches/pypoetry/virtualenvs/summit-TfmmV07p-py3.7/lib/python3.7/site-packages/pandas/core/generic.py:4152: PerformanceWarning: dropping on a non-lexsorted multi-index without a level parameter may impact performance.\n",
            "  obj = obj._drop_axis(labels, axis, level=level, errors=errors)\n",
            "/Users/Kobi/Library/Caches/pypoetry/virtualenvs/summit-TfmmV07p-py3.7/lib/python3.7/site-packages/pandas/core/generic.py:4152: PerformanceWarning: dropping on a non-lexsorted multi-index without a level parameter may impact performance.\n",
            "  obj = obj._drop_axis(labels, axis, level=level, errors=errors)\n",
            "/Users/Kobi/Library/Caches/pypoetry/virtualenvs/summit-TfmmV07p-py3.7/lib/python3.7/site-packages/pandas/core/generic.py:4152: PerformanceWarning: dropping on a non-lexsorted multi-index without a level parameter may impact performance.\n",
            "  obj = obj._drop_axis(labels, axis, level=level, errors=errors)\n",
            "/Users/Kobi/Library/Caches/pypoetry/virtualenvs/summit-TfmmV07p-py3.7/lib/python3.7/site-packages/pandas/core/generic.py:4152: PerformanceWarning: dropping on a non-lexsorted multi-index without a level parameter may impact performance.\n",
            "  obj = obj._drop_axis(labels, axis, level=level, errors=errors)\n",
            "/Users/Kobi/Library/Caches/pypoetry/virtualenvs/summit-TfmmV07p-py3.7/lib/python3.7/site-packages/pandas/core/generic.py:4152: PerformanceWarning: dropping on a non-lexsorted multi-index without a level parameter may impact performance.\n",
            "  obj = obj._drop_axis(labels, axis, level=level, errors=errors)\n",
            "/Users/Kobi/Library/Caches/pypoetry/virtualenvs/summit-TfmmV07p-py3.7/lib/python3.7/site-packages/pandas/core/generic.py:4152: PerformanceWarning: dropping on a non-lexsorted multi-index without a level parameter may impact performance.\n",
            "  obj = obj._drop_axis(labels, axis, level=level, errors=errors)\n",
            "/Users/Kobi/Library/Caches/pypoetry/virtualenvs/summit-TfmmV07p-py3.7/lib/python3.7/site-packages/pandas/core/generic.py:4152: PerformanceWarning: dropping on a non-lexsorted multi-index without a level parameter may impact performance.\n",
            "  obj = obj._drop_axis(labels, axis, level=level, errors=errors)\n",
            "/Users/Kobi/Library/Caches/pypoetry/virtualenvs/summit-TfmmV07p-py3.7/lib/python3.7/site-packages/pandas/core/generic.py:4152: PerformanceWarning: dropping on a non-lexsorted multi-index without a level parameter may impact performance.\n",
            "  obj = obj._drop_axis(labels, axis, level=level, errors=errors)\n",
            "/Users/Kobi/Library/Caches/pypoetry/virtualenvs/summit-TfmmV07p-py3.7/lib/python3.7/site-packages/pandas/core/generic.py:4152: PerformanceWarning: dropping on a non-lexsorted multi-index without a level parameter may impact performance.\n",
            "  obj = obj._drop_axis(labels, axis, level=level, errors=errors)\n",
            "/Users/Kobi/Library/Caches/pypoetry/virtualenvs/summit-TfmmV07p-py3.7/lib/python3.7/site-packages/pandas/core/generic.py:4152: PerformanceWarning: dropping on a non-lexsorted multi-index without a level parameter may impact performance.\n",
            "  obj = obj._drop_axis(labels, axis, level=level, errors=errors)\n",
            "/Users/Kobi/Library/Caches/pypoetry/virtualenvs/summit-TfmmV07p-py3.7/lib/python3.7/site-packages/pandas/core/generic.py:4152: PerformanceWarning: dropping on a non-lexsorted multi-index without a level parameter may impact performance.\n",
            "  obj = obj._drop_axis(labels, axis, level=level, errors=errors)\n",
            "/Users/Kobi/Library/Caches/pypoetry/virtualenvs/summit-TfmmV07p-py3.7/lib/python3.7/site-packages/pandas/core/generic.py:4152: PerformanceWarning: dropping on a non-lexsorted multi-index without a level parameter may impact performance.\n",
            "  obj = obj._drop_axis(labels, axis, level=level, errors=errors)\n",
            "/Users/Kobi/Library/Caches/pypoetry/virtualenvs/summit-TfmmV07p-py3.7/lib/python3.7/site-packages/pandas/core/generic.py:4152: PerformanceWarning: dropping on a non-lexsorted multi-index without a level parameter may impact performance.\n",
            "  obj = obj._drop_axis(labels, axis, level=level, errors=errors)\n",
            "/Users/Kobi/Library/Caches/pypoetry/virtualenvs/summit-TfmmV07p-py3.7/lib/python3.7/site-packages/pandas/core/generic.py:4152: PerformanceWarning: dropping on a non-lexsorted multi-index without a level parameter may impact performance.\n",
            "  obj = obj._drop_axis(labels, axis, level=level, errors=errors)\n",
            "/Users/Kobi/Library/Caches/pypoetry/virtualenvs/summit-TfmmV07p-py3.7/lib/python3.7/site-packages/pandas/core/generic.py:4152: PerformanceWarning: dropping on a non-lexsorted multi-index without a level parameter may impact performance.\n",
            "  obj = obj._drop_axis(labels, axis, level=level, errors=errors)\n",
            "/Users/Kobi/Library/Caches/pypoetry/virtualenvs/summit-TfmmV07p-py3.7/lib/python3.7/site-packages/pandas/core/generic.py:4152: PerformanceWarning: dropping on a non-lexsorted multi-index without a level parameter may impact performance.\n",
            "  obj = obj._drop_axis(labels, axis, level=level, errors=errors)\n",
            "/Users/Kobi/Library/Caches/pypoetry/virtualenvs/summit-TfmmV07p-py3.7/lib/python3.7/site-packages/pandas/core/generic.py:4152: PerformanceWarning: dropping on a non-lexsorted multi-index without a level parameter may impact performance.\n",
            "  obj = obj._drop_axis(labels, axis, level=level, errors=errors)\n",
            "/Users/Kobi/Library/Caches/pypoetry/virtualenvs/summit-TfmmV07p-py3.7/lib/python3.7/site-packages/pandas/core/generic.py:4152: PerformanceWarning: dropping on a non-lexsorted multi-index without a level parameter may impact performance.\n",
            "  obj = obj._drop_axis(labels, axis, level=level, errors=errors)\n",
            "/Users/Kobi/Library/Caches/pypoetry/virtualenvs/summit-TfmmV07p-py3.7/lib/python3.7/site-packages/pandas/core/generic.py:4152: PerformanceWarning: dropping on a non-lexsorted multi-index without a level parameter may impact performance.\n",
            "  obj = obj._drop_axis(labels, axis, level=level, errors=errors)\n",
            "/Users/Kobi/Library/Caches/pypoetry/virtualenvs/summit-TfmmV07p-py3.7/lib/python3.7/site-packages/pandas/core/generic.py:4152: PerformanceWarning: dropping on a non-lexsorted multi-index without a level parameter may impact performance.\n",
            "  obj = obj._drop_axis(labels, axis, level=level, errors=errors)\n",
            "/Users/Kobi/Library/Caches/pypoetry/virtualenvs/summit-TfmmV07p-py3.7/lib/python3.7/site-packages/pandas/core/generic.py:4152: PerformanceWarning: dropping on a non-lexsorted multi-index without a level parameter may impact performance.\n",
            "  obj = obj._drop_axis(labels, axis, level=level, errors=errors)\n",
            "/Users/Kobi/Library/Caches/pypoetry/virtualenvs/summit-TfmmV07p-py3.7/lib/python3.7/site-packages/pandas/core/generic.py:4152: PerformanceWarning: dropping on a non-lexsorted multi-index without a level parameter may impact performance.\n",
            "  obj = obj._drop_axis(labels, axis, level=level, errors=errors)\n",
            "/Users/Kobi/Library/Caches/pypoetry/virtualenvs/summit-TfmmV07p-py3.7/lib/python3.7/site-packages/pandas/core/generic.py:4152: PerformanceWarning: dropping on a non-lexsorted multi-index without a level parameter may impact performance.\n",
            "  obj = obj._drop_axis(labels, axis, level=level, errors=errors)\n",
            "/Users/Kobi/Library/Caches/pypoetry/virtualenvs/summit-TfmmV07p-py3.7/lib/python3.7/site-packages/pandas/core/generic.py:4152: PerformanceWarning: dropping on a non-lexsorted multi-index without a level parameter may impact performance.\n",
            "  obj = obj._drop_axis(labels, axis, level=level, errors=errors)\n",
            "/Users/Kobi/Library/Caches/pypoetry/virtualenvs/summit-TfmmV07p-py3.7/lib/python3.7/site-packages/pandas/core/generic.py:4152: PerformanceWarning: dropping on a non-lexsorted multi-index without a level parameter may impact performance.\n",
            "  obj = obj._drop_axis(labels, axis, level=level, errors=errors)\n",
            "/Users/Kobi/Library/Caches/pypoetry/virtualenvs/summit-TfmmV07p-py3.7/lib/python3.7/site-packages/pandas/core/generic.py:4152: PerformanceWarning: dropping on a non-lexsorted multi-index without a level parameter may impact performance.\n",
            "  obj = obj._drop_axis(labels, axis, level=level, errors=errors)\n",
            "/Users/Kobi/Library/Caches/pypoetry/virtualenvs/summit-TfmmV07p-py3.7/lib/python3.7/site-packages/pandas/core/generic.py:4152: PerformanceWarning: dropping on a non-lexsorted multi-index without a level parameter may impact performance.\n",
            "  obj = obj._drop_axis(labels, axis, level=level, errors=errors)\n",
            "/Users/Kobi/Library/Caches/pypoetry/virtualenvs/summit-TfmmV07p-py3.7/lib/python3.7/site-packages/pandas/core/generic.py:4152: PerformanceWarning: dropping on a non-lexsorted multi-index without a level parameter may impact performance.\n",
            "  obj = obj._drop_axis(labels, axis, level=level, errors=errors)\n",
            "/Users/Kobi/Library/Caches/pypoetry/virtualenvs/summit-TfmmV07p-py3.7/lib/python3.7/site-packages/pandas/core/generic.py:4152: PerformanceWarning: dropping on a non-lexsorted multi-index without a level parameter may impact performance.\n",
            "  obj = obj._drop_axis(labels, axis, level=level, errors=errors)\n",
            "/Users/Kobi/Library/Caches/pypoetry/virtualenvs/summit-TfmmV07p-py3.7/lib/python3.7/site-packages/pandas/core/generic.py:4152: PerformanceWarning: dropping on a non-lexsorted multi-index without a level parameter may impact performance.\n",
            "  obj = obj._drop_axis(labels, axis, level=level, errors=errors)\n",
            "/Users/Kobi/Library/Caches/pypoetry/virtualenvs/summit-TfmmV07p-py3.7/lib/python3.7/site-packages/pandas/core/generic.py:4152: PerformanceWarning: dropping on a non-lexsorted multi-index without a level parameter may impact performance.\n",
            "  obj = obj._drop_axis(labels, axis, level=level, errors=errors)\n",
            "/Users/Kobi/Library/Caches/pypoetry/virtualenvs/summit-TfmmV07p-py3.7/lib/python3.7/site-packages/pandas/core/generic.py:4152: PerformanceWarning: dropping on a non-lexsorted multi-index without a level parameter may impact performance.\n",
            "  obj = obj._drop_axis(labels, axis, level=level, errors=errors)\n",
            "/Users/Kobi/Library/Caches/pypoetry/virtualenvs/summit-TfmmV07p-py3.7/lib/python3.7/site-packages/pandas/core/generic.py:4152: PerformanceWarning: dropping on a non-lexsorted multi-index without a level parameter may impact performance.\n",
            "  obj = obj._drop_axis(labels, axis, level=level, errors=errors)\n",
            "/Users/Kobi/Library/Caches/pypoetry/virtualenvs/summit-TfmmV07p-py3.7/lib/python3.7/site-packages/pandas/core/generic.py:4152: PerformanceWarning: dropping on a non-lexsorted multi-index without a level parameter may impact performance.\n",
            "  obj = obj._drop_axis(labels, axis, level=level, errors=errors)\n",
            "/Users/Kobi/Library/Caches/pypoetry/virtualenvs/summit-TfmmV07p-py3.7/lib/python3.7/site-packages/pandas/core/generic.py:4152: PerformanceWarning: dropping on a non-lexsorted multi-index without a level parameter may impact performance.\n",
            "  obj = obj._drop_axis(labels, axis, level=level, errors=errors)\n",
            "/Users/Kobi/Library/Caches/pypoetry/virtualenvs/summit-TfmmV07p-py3.7/lib/python3.7/site-packages/pandas/core/generic.py:4152: PerformanceWarning: dropping on a non-lexsorted multi-index without a level parameter may impact performance.\n",
            "  obj = obj._drop_axis(labels, axis, level=level, errors=errors)\n",
            "/Users/Kobi/Library/Caches/pypoetry/virtualenvs/summit-TfmmV07p-py3.7/lib/python3.7/site-packages/pandas/core/generic.py:4152: PerformanceWarning: dropping on a non-lexsorted multi-index without a level parameter may impact performance.\n",
            "  obj = obj._drop_axis(labels, axis, level=level, errors=errors)\n",
            "/Users/Kobi/Library/Caches/pypoetry/virtualenvs/summit-TfmmV07p-py3.7/lib/python3.7/site-packages/pandas/core/generic.py:4152: PerformanceWarning: dropping on a non-lexsorted multi-index without a level parameter may impact performance.\n",
            "  obj = obj._drop_axis(labels, axis, level=level, errors=errors)\n",
            "/Users/Kobi/Library/Caches/pypoetry/virtualenvs/summit-TfmmV07p-py3.7/lib/python3.7/site-packages/pandas/core/generic.py:4152: PerformanceWarning: dropping on a non-lexsorted multi-index without a level parameter may impact performance.\n",
            "  obj = obj._drop_axis(labels, axis, level=level, errors=errors)\n",
            "/Users/Kobi/Library/Caches/pypoetry/virtualenvs/summit-TfmmV07p-py3.7/lib/python3.7/site-packages/pandas/core/generic.py:4152: PerformanceWarning: dropping on a non-lexsorted multi-index without a level parameter may impact performance.\n",
            "  obj = obj._drop_axis(labels, axis, level=level, errors=errors)\n",
            "/Users/Kobi/Library/Caches/pypoetry/virtualenvs/summit-TfmmV07p-py3.7/lib/python3.7/site-packages/pandas/core/generic.py:4152: PerformanceWarning: dropping on a non-lexsorted multi-index without a level parameter may impact performance.\n",
            "  obj = obj._drop_axis(labels, axis, level=level, errors=errors)\n",
            "/Users/Kobi/Library/Caches/pypoetry/virtualenvs/summit-TfmmV07p-py3.7/lib/python3.7/site-packages/pandas/core/generic.py:4152: PerformanceWarning: dropping on a non-lexsorted multi-index without a level parameter may impact performance.\n",
            "  obj = obj._drop_axis(labels, axis, level=level, errors=errors)\n",
            "/Users/Kobi/Library/Caches/pypoetry/virtualenvs/summit-TfmmV07p-py3.7/lib/python3.7/site-packages/pandas/core/generic.py:4152: PerformanceWarning: dropping on a non-lexsorted multi-index without a level parameter may impact performance.\n",
            "  obj = obj._drop_axis(labels, axis, level=level, errors=errors)\n",
            "/Users/Kobi/Library/Caches/pypoetry/virtualenvs/summit-TfmmV07p-py3.7/lib/python3.7/site-packages/pandas/core/generic.py:4152: PerformanceWarning: dropping on a non-lexsorted multi-index without a level parameter may impact performance.\n",
            "  obj = obj._drop_axis(labels, axis, level=level, errors=errors)\n",
            "/Users/Kobi/Library/Caches/pypoetry/virtualenvs/summit-TfmmV07p-py3.7/lib/python3.7/site-packages/pandas/core/generic.py:4152: PerformanceWarning: dropping on a non-lexsorted multi-index without a level parameter may impact performance.\n",
            "  obj = obj._drop_axis(labels, axis, level=level, errors=errors)\n",
            "/Users/Kobi/Library/Caches/pypoetry/virtualenvs/summit-TfmmV07p-py3.7/lib/python3.7/site-packages/pandas/core/generic.py:4152: PerformanceWarning: dropping on a non-lexsorted multi-index without a level parameter may impact performance.\n",
            "  obj = obj._drop_axis(labels, axis, level=level, errors=errors)\n",
            "/Users/Kobi/Library/Caches/pypoetry/virtualenvs/summit-TfmmV07p-py3.7/lib/python3.7/site-packages/pandas/core/generic.py:4152: PerformanceWarning: dropping on a non-lexsorted multi-index without a level parameter may impact performance.\n",
            "  obj = obj._drop_axis(labels, axis, level=level, errors=errors)\n"
          ]
        }
      ],
      "execution_count": 25,
      "metadata": {
        "scrolled": true
      }
    },
    {
      "cell_type": "code",
      "source": [
        "stbo_results = [summit.Runner.load(f\"data/cross_coupling_similar/stbo_cn_noise_repeat_{i}.json\") \n",
        "                for i in range(N_REPEATS)]\n",
        "mtbo_results_list = [summit.Runner.load(f\"data/cross_coupling_similar/mtbo_pre-train_repeat_{i}.json\") \n",
        "                      for i in range(N_REPEATS)]\n",
        "fig, ax = make_comparison_plot(\n",
        "    dict(results=stbo_results, label=\"STBO\"),\n",
        "    dict(results=mtbo_results_list,label=f\"\"\"MTBO, n={datasets[\"Morpholine\"].shape[0]}\"\"\")\n",
        ")\n",
        "fig.savefig(\"figures/stbo_mtbo_cn_similar.png\", bbox_inches='tight', dpi=300)"
      ],
      "outputs": [
        {
          "output_type": "stream",
          "name": "stderr",
          "text": [
            "/Users/Kobi/Library/Caches/pypoetry/virtualenvs/summit-TfmmV07p-py3.7/lib/python3.7/site-packages/sklearn/metrics/_regression.py:682: UndefinedMetricWarning: R^2 score is not well-defined with less than two samples.\n",
            "  warnings.warn(msg, UndefinedMetricWarning)\n",
            "/Users/Kobi/Library/Caches/pypoetry/virtualenvs/summit-TfmmV07p-py3.7/lib/python3.7/site-packages/sklearn/metrics/_regression.py:682: UndefinedMetricWarning: R^2 score is not well-defined with less than two samples.\n",
            "  warnings.warn(msg, UndefinedMetricWarning)\n",
            "/Users/Kobi/Library/Caches/pypoetry/virtualenvs/summit-TfmmV07p-py3.7/lib/python3.7/site-packages/sklearn/metrics/_regression.py:682: UndefinedMetricWarning: R^2 score is not well-defined with less than two samples.\n",
            "  warnings.warn(msg, UndefinedMetricWarning)\n",
            "/Users/Kobi/Library/Caches/pypoetry/virtualenvs/summit-TfmmV07p-py3.7/lib/python3.7/site-packages/sklearn/metrics/_regression.py:682: UndefinedMetricWarning: R^2 score is not well-defined with less than two samples.\n",
            "  warnings.warn(msg, UndefinedMetricWarning)\n",
            "/Users/Kobi/Library/Caches/pypoetry/virtualenvs/summit-TfmmV07p-py3.7/lib/python3.7/site-packages/sklearn/metrics/_regression.py:682: UndefinedMetricWarning: R^2 score is not well-defined with less than two samples.\n",
            "  warnings.warn(msg, UndefinedMetricWarning)\n",
            "/Users/Kobi/Library/Caches/pypoetry/virtualenvs/summit-TfmmV07p-py3.7/lib/python3.7/site-packages/sklearn/metrics/_regression.py:682: UndefinedMetricWarning: R^2 score is not well-defined with less than two samples.\n",
            "  warnings.warn(msg, UndefinedMetricWarning)\n",
            "/Users/Kobi/Library/Caches/pypoetry/virtualenvs/summit-TfmmV07p-py3.7/lib/python3.7/site-packages/sklearn/metrics/_regression.py:682: UndefinedMetricWarning: R^2 score is not well-defined with less than two samples.\n",
            "  warnings.warn(msg, UndefinedMetricWarning)\n",
            "/Users/Kobi/Library/Caches/pypoetry/virtualenvs/summit-TfmmV07p-py3.7/lib/python3.7/site-packages/sklearn/metrics/_regression.py:682: UndefinedMetricWarning: R^2 score is not well-defined with less than two samples.\n",
            "  warnings.warn(msg, UndefinedMetricWarning)\n",
            "/Users/Kobi/Library/Caches/pypoetry/virtualenvs/summit-TfmmV07p-py3.7/lib/python3.7/site-packages/sklearn/metrics/_regression.py:682: UndefinedMetricWarning: R^2 score is not well-defined with less than two samples.\n",
            "  warnings.warn(msg, UndefinedMetricWarning)\n",
            "/Users/Kobi/Library/Caches/pypoetry/virtualenvs/summit-TfmmV07p-py3.7/lib/python3.7/site-packages/sklearn/metrics/_regression.py:682: UndefinedMetricWarning: R^2 score is not well-defined with less than two samples.\n",
            "  warnings.warn(msg, UndefinedMetricWarning)\n",
            "/Users/Kobi/Library/Caches/pypoetry/virtualenvs/summit-TfmmV07p-py3.7/lib/python3.7/site-packages/sklearn/metrics/_regression.py:682: UndefinedMetricWarning: R^2 score is not well-defined with less than two samples.\n",
            "  warnings.warn(msg, UndefinedMetricWarning)\n",
            "/Users/Kobi/Library/Caches/pypoetry/virtualenvs/summit-TfmmV07p-py3.7/lib/python3.7/site-packages/sklearn/metrics/_regression.py:682: UndefinedMetricWarning: R^2 score is not well-defined with less than two samples.\n",
            "  warnings.warn(msg, UndefinedMetricWarning)\n",
            "/Users/Kobi/Library/Caches/pypoetry/virtualenvs/summit-TfmmV07p-py3.7/lib/python3.7/site-packages/sklearn/metrics/_regression.py:682: UndefinedMetricWarning: R^2 score is not well-defined with less than two samples.\n",
            "  warnings.warn(msg, UndefinedMetricWarning)\n",
            "/Users/Kobi/Library/Caches/pypoetry/virtualenvs/summit-TfmmV07p-py3.7/lib/python3.7/site-packages/sklearn/metrics/_regression.py:682: UndefinedMetricWarning: R^2 score is not well-defined with less than two samples.\n",
            "  warnings.warn(msg, UndefinedMetricWarning)\n",
            "/Users/Kobi/Library/Caches/pypoetry/virtualenvs/summit-TfmmV07p-py3.7/lib/python3.7/site-packages/sklearn/metrics/_regression.py:682: UndefinedMetricWarning: R^2 score is not well-defined with less than two samples.\n",
            "  warnings.warn(msg, UndefinedMetricWarning)\n",
            "/Users/Kobi/Library/Caches/pypoetry/virtualenvs/summit-TfmmV07p-py3.7/lib/python3.7/site-packages/sklearn/metrics/_regression.py:682: UndefinedMetricWarning: R^2 score is not well-defined with less than two samples.\n",
            "  warnings.warn(msg, UndefinedMetricWarning)\n",
            "/Users/Kobi/Library/Caches/pypoetry/virtualenvs/summit-TfmmV07p-py3.7/lib/python3.7/site-packages/sklearn/metrics/_regression.py:682: UndefinedMetricWarning: R^2 score is not well-defined with less than two samples.\n",
            "  warnings.warn(msg, UndefinedMetricWarning)\n",
            "/Users/Kobi/Library/Caches/pypoetry/virtualenvs/summit-TfmmV07p-py3.7/lib/python3.7/site-packages/sklearn/metrics/_regression.py:682: UndefinedMetricWarning: R^2 score is not well-defined with less than two samples.\n",
            "  warnings.warn(msg, UndefinedMetricWarning)\n",
            "/Users/Kobi/Library/Caches/pypoetry/virtualenvs/summit-TfmmV07p-py3.7/lib/python3.7/site-packages/sklearn/metrics/_regression.py:682: UndefinedMetricWarning: R^2 score is not well-defined with less than two samples.\n",
            "  warnings.warn(msg, UndefinedMetricWarning)\n",
            "/Users/Kobi/Library/Caches/pypoetry/virtualenvs/summit-TfmmV07p-py3.7/lib/python3.7/site-packages/sklearn/metrics/_regression.py:682: UndefinedMetricWarning: R^2 score is not well-defined with less than two samples.\n",
            "  warnings.warn(msg, UndefinedMetricWarning)\n"
          ]
        },
        {
          "output_type": "display_data",
          "data": {
            "text/plain": [
              "<Figure size 432x288 with 1 Axes>"
            ],
            "image/png": "[encoded data removed]"
          },
          "metadata": {
            "needs_background": "light"
          }
        }
      ],
      "execution_count": 40,
      "metadata": {
        "scrolled": true
      }
    },
    {
      "cell_type": "code",
      "source": [
        "fig, axes = plt.subplots(1,2, figsize=(10,5))\n",
        "fig.subplots_adjust(wspace=0.2)\n",
        "data = [r.experiment.data for r in mtbo_results_list]\n",
        "big_data= pd.concat(data)\n",
        "big_data[\"nucleophile\", \"METADATA\"] = \"Phenylethylamine (optimization)\"\n",
        "pt_data = datasets[\"Morpholine\"].copy()\n",
        "pt_data[(\"task\", \"METADATA\")] = 0\n",
        "pt_data = pt_data.replace(\"≥90%\", 0.9)\n",
        "pt_data[\"nucleophile\", \"METADATA\"] = \"Morpholine (pretraining)\"\n",
        "big_data = big_data.append(pt_data)\n",
        "big_data[\"yield\"] = big_data[\"yield\"].astype(float)\n",
        "# Counts of different catalysts grouped by nucleophile\n",
        "(big_data.\n",
        " groupby([\"nucleophile\", \"catalyst\"])\n",
        " [\"yield\"].\n",
        " mean().\n",
        " unstack(0).\n",
        " plot.bar(ax=axes[0])\n",
        ")\n",
        "# Counts of different bases grouped by nucleophile\n",
        "(big_data.\n",
        " groupby([\"nucleophile\", \"base\"])\n",
        " [\"yield\"].\n",
        " mean().\n",
        " unstack(0).\n",
        " plot.bar(ax=axes[1])\n",
        ")\n",
        "for ax in axes:\n",
        "    ax.set_ylabel(\"average yield\")\n",
        "fig.tight_layout()\n",
        "fig.savefig(\"figures/yield_distribution_similar_catalyst_base.png\", dpi=300)"
      ],
      "outputs": [
        {
          "output_type": "display_data",
          "data": {
            "text/plain": [
              "<Figure size 720x360 with 2 Axes>"
            ],
            "image/png": "[encoded data removed]"
          },
          "metadata": {
            "needs_background": "light"
          }
        }
      ],
      "execution_count": 72,
      "metadata": {
        "collapsed": false,
        "outputHidden": false,
        "inputHidden": false
      }
    },
    {
      "cell_type": "code",
      "source": [
        "fig, axes = plt.subplots(1,3, figsize=(10,5))\n",
        "fig.subplots_adjust(wspace=0.2)\n",
        "data = [r.experiment.data for r in mtbo_results_list]\n",
        "big_data= pd.concat(data)\n",
        "big_data[\"nucleophile\", \"METADATA\"] = \"Phenylethylamine (optimization)\"\n",
        "pt_data = datasets[\"Morpholine\"].copy()\n",
        "pt_data[(\"task\", \"METADATA\")] = 0\n",
        "pt_data = pt_data.replace(\"≥90%\", 0.9)\n",
        "pt_data[\"nucleophile\", \"METADATA\"] = \"Morpholine (pretraining)\"\n",
        "big_data = big_data.append(pt_data)\n",
        "plots = [\"base_equivalents\", \"temperature\", \"t_res\"]\n",
        "for col in plots:\n",
        "    big_data[col, \"DATA\"] = big_data[col].astype(float)\n",
        "# Counts of different catalysts grouped by nucleophile\n",
        "(big_data.\n",
        " groupby([\"nucleophile\",])\n",
        " [\"base_equivalents\"].\n",
        " mean().\n",
        "#  unstack(0).\n",
        " plot.bar(ax=axes[0])\n",
        ")\n",
        "# Counts of different bases grouped by nucleophile\n",
        "(big_data.\n",
        " groupby([\"nucleophile\"])\n",
        " [\"temperature\"].\n",
        " mean().\n",
        "#  unstack(0).\n",
        " plot.bar(ax=axes[1])\n",
        ")\n",
        "(big_data.\n",
        " groupby([\"nucleophile\"])\n",
        " [\"t_res\"].\n",
        " mean().\n",
        "#  unstack(0).\n",
        " plot.bar(ax=axes[2])\n",
        ")\n",
        "for plot, ax in zip(plots, axes):\n",
        "    ax.set_ylabel(f\"average {plot}\")\n",
        "fig.tight_layout()\n",
        "fig.savefig(\"figures/yield_distribution_similar_equiv_time_temp.png\", dpi=300)"
      ],
      "outputs": [
        {
          "output_type": "display_data",
          "data": {
            "text/plain": [
              "<Figure size 720x360 with 3 Axes>"
            ],
            "image/png": "[encoded data removed]"
          },
          "metadata": {
            "needs_background": "light"
          }
        }
      ],
      "execution_count": 83,
      "metadata": {
        "collapsed": false,
        "outputHidden": false,
        "inputHidden": false
      }
    },
    {
      "cell_type": "code",
      "source": [
        "big_data.data_columsn"
      ],
      "outputs": [
        {
          "output_type": "error",
          "ename": "AttributeError",
          "evalue": "'DataSet' object has no attribute 'data_columsn'",
          "traceback": [
            "\u001b[0;31m---------------------------------------------------------------------------\u001b[0m",
            "\u001b[0;31mAttributeError\u001b[0m                            Traceback (most recent call last)",
            "\u001b[0;32m<ipython-input-78-cd79f908c9f7>\u001b[0m in \u001b[0;36m<module>\u001b[0;34m\u001b[0m\n\u001b[0;32m----> 1\u001b[0;31m \u001b[0mbig_data\u001b[0m\u001b[0;34m.\u001b[0m\u001b[0mdata_columsn\u001b[0m\u001b[0;34m\u001b[0m\u001b[0;34m\u001b[0m\u001b[0m\n\u001b[0m",
            "\u001b[0;32m~/Library/Caches/pypoetry/virtualenvs/summit-TfmmV07p-py3.7/lib/python3.7/site-packages/pandas/core/generic.py\u001b[0m in \u001b[0;36m__getattr__\u001b[0;34m(self, name)\u001b[0m\n\u001b[1;32m   5460\u001b[0m             \u001b[0;32mif\u001b[0m \u001b[0mself\u001b[0m\u001b[0;34m.\u001b[0m\u001b[0m_info_axis\u001b[0m\u001b[0;34m.\u001b[0m\u001b[0m_can_hold_identifiers_and_holds_name\u001b[0m\u001b[0;34m(\u001b[0m\u001b[0mname\u001b[0m\u001b[0;34m)\u001b[0m\u001b[0;34m:\u001b[0m\u001b[0;34m\u001b[0m\u001b[0;34m\u001b[0m\u001b[0m\n\u001b[1;32m   5461\u001b[0m                 \u001b[0;32mreturn\u001b[0m \u001b[0mself\u001b[0m\u001b[0;34m[\u001b[0m\u001b[0mname\u001b[0m\u001b[0;34m]\u001b[0m\u001b[0;34m\u001b[0m\u001b[0;34m\u001b[0m\u001b[0m\n\u001b[0;32m-> 5462\u001b[0;31m             \u001b[0;32mreturn\u001b[0m \u001b[0mobject\u001b[0m\u001b[0;34m.\u001b[0m\u001b[0m__getattribute__\u001b[0m\u001b[0;34m(\u001b[0m\u001b[0mself\u001b[0m\u001b[0;34m,\u001b[0m \u001b[0mname\u001b[0m\u001b[0;34m)\u001b[0m\u001b[0;34m\u001b[0m\u001b[0;34m\u001b[0m\u001b[0m\n\u001b[0m\u001b[1;32m   5463\u001b[0m \u001b[0;34m\u001b[0m\u001b[0m\n\u001b[1;32m   5464\u001b[0m     \u001b[0;32mdef\u001b[0m \u001b[0m__setattr__\u001b[0m\u001b[0;34m(\u001b[0m\u001b[0mself\u001b[0m\u001b[0;34m,\u001b[0m \u001b[0mname\u001b[0m\u001b[0;34m:\u001b[0m \u001b[0mstr\u001b[0m\u001b[0;34m,\u001b[0m \u001b[0mvalue\u001b[0m\u001b[0;34m)\u001b[0m \u001b[0;34m->\u001b[0m \u001b[0;32mNone\u001b[0m\u001b[0;34m:\u001b[0m\u001b[0;34m\u001b[0m\u001b[0;34m\u001b[0m\u001b[0m\n",
            "\u001b[0;31mAttributeError\u001b[0m: 'DataSet' object has no attribute 'data_columsn'"
          ]
        }
      ],
      "execution_count": 78,
      "metadata": {
        "collapsed": false,
        "outputHidden": false,
        "inputHidden": false
      }
    },
    {
      "cell_type": "code",
      "source": [],
      "outputs": [],
      "execution_count": null,
      "metadata": {
        "collapsed": false,
        "outputHidden": false,
        "inputHidden": false
      }
    }
  ],
  "metadata": {
    "kernel_info": {
      "name": "python37364bitsummittfmmv07ppy37venv6fc212842bc44e839a51e6623a646abd"
    },
    "kernelspec": {
      "name": "python37364bitsummittfmmv07ppy37venv6fc212842bc44e839a51e6623a646abd",
      "language": "python",
      "display_name": "Python 3.7.3 64-bit ('summit-TfmmV07p-py3.7': venv)"
    },
    "language_info": {
      "name": "python",
      "version": "3.7.3",
      "mimetype": "text/x-python",
      "codemirror_mode": {
        "name": "ipython",
        "version": 3
      },
      "pygments_lexer": "ipython3",
      "nbconvert_exporter": "python",
      "file_extension": ".py"
    },
    "nteract": {
      "version": "0.12.3"
    },
    "toc-autonumbering": true
  },
  "nbformat": 4,
  "nbformat_minor": 4
}