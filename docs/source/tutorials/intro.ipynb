{
 "cells": [
  {
   "cell_type": "markdown",
   "metadata": {},
   "source": [
    "# Intro to Summit"
   ]
  },
  {
   "cell_type": "markdown",
   "metadata": {},
   "source": [
    "In this tutorial, we demonstrate how Summit can be used to optimise reactions automatically. \n",
    "\n",
    "\n",
    "Summit introduces two key concepts: **benchmarks** and **strategies**. Benchmarks are simulations of reactions, and strategies are ML algorithms used to choose experiments. Two benchmarks are already implemented, and it is easy to add more. We are going to optimise a nucleophilic aromatic substitution (SnAr) benchmark.\n",
    "\n",
    "Summit provides access to six different optimisation strategies. And, it gives a common interface, so you can easily switch between strategies. We'll see that soon.\n"
   ]
  },
  {
   "cell_type": "markdown",
   "metadata": {},
   "source": [
    "## Google Colab\n",
    "\n",
    "If you would like to follow along with this tutorial, you can open it in Google Colab using the button below."
   ]
  },
  {
   "cell_type": "raw",
   "metadata": {
    "raw_mimetype": "text/restructuredtext"
   },
   "source": [
    "|colab_badge|"
   ]
  },
  {
   "cell_type": "markdown",
   "metadata": {},
   "source": [
    "You will need to run the following cell to make sure Summit and all its dependencies are installed. If prompted, restart the runtime."
   ]
  },
  {
   "cell_type": "code",
   "execution_count": null,
   "metadata": {},
   "outputs": [],
   "source": [
    "!pip install summit"
   ]
  },
  {
   "cell_type": "markdown",
   "metadata": {},
   "source": [
    "## SnAr Benchmark\n",
    "\n",
    "\n",
    "![Image from Hone et al.](../_static/hone_2016_snar_chemistry.png)\n",
    "\n",
    "Nucleophilic aromatic substitution reactions are commonly used in the fine chemicals industry. <!--Something about their frequncy from the Journal of medicinal chemistry letters paper --> In this case, 2,4 dinitrofluorobenzene (**1**) undergoes nucleophilic attack by pyrrolidine (**2**) to form the desired product **3**. Two side products **4** and **5** can also be formed. Overall, we want to maximise the amount of product formed and minimise side product formation and waste.\n",
    "\n",
    "The kinetics of this reaction were published by [Hone et al.](http://xlink.rsc.org/?DOI=C6RE00109B) We imagine a scenario where this reaction is to be optimised in a flow reactor. We have set up a \"virtual\" flow chemistry reactor in the `SnarBenchmark` using the published kinetics and standard chemical engineering equations. You simply supply the reaction conditions to `SnarBenchmark` and it will give back the results of a virtual reaction with those conditions. Think of it as your virtual experiment.\n",
    "\n",
    "Below, we start importing the needed packages and setting up the `SnarBenchamrk`."
   ]
  },
  {
   "cell_type": "code",
   "execution_count": 6,
   "metadata": {},
   "outputs": [],
   "source": [
    "from summit import Runner\n",
    "from summit.strategies import Random, SOBO, MultitoSingleObjective\n",
    "from summit.benchmarks import SnarBenchmark\n",
    "from summit.utils.dataset import DataSet\n",
    "import matplotlib.pyplot as plt"
   ]
  },
  {
   "cell_type": "code",
   "execution_count": 4,
   "metadata": {},
   "outputs": [
    {
     "data": {
      "text/html": [
       "<table id='domain' width=100%><tr><td><b>Name</b></td><td><b>Type</b></td><td><b>Description</b></td><td><b>Values</b></td></tr><tr><td>tau</td><td>continuous, input</td><td>residence time in minutes</td><td>[0.5,2]</td></tr><tr><td>equiv_pldn</td><td>continuous, input</td><td>equivalents of pyrrolidine</td><td>[1.0,5]</td></tr><tr><td>conc_dfnb</td><td>continuous, input</td><td>concentration of 2,4 dinitrofluorobenenze at reactor inlet (after mixing) in M</td><td>[0.1,0.5]</td></tr><tr><td>temperature</td><td>continuous, input</td><td>Reactor temperature in degress celsius</td><td>[30,120]</td></tr><tr><td>sty</td><td>continuous, maximize objective</td><td>space time yield (kg/m^3/h)</td><td>[0,100]</td></tr><tr><td>e_factor</td><td>continuous, minimize objective</td><td>E-factor</td><td>[0,10]</td></tr></table>"
      ],
      "text/plain": [
       "<summit.domain.Domain at 0x7fe95655cfd0>"
      ]
     },
     "execution_count": 4,
     "metadata": {},
     "output_type": "execute_result"
    }
   ],
   "source": [
    "exp = SnarBenchmark()\n",
    "exp.domain"
   ]
  },
  {
   "cell_type": "markdown",
   "metadata": {},
   "source": [
    "We print out the `domain` which describes the optimisation problem associated with `SnarBenchmark`.  The objectives are to maximize space-time yield (STY) and minimize E-factor. STY is the mass of product produced per reactor volume per time, and E-factor is the ratio of the mass of waste to mass of product. Waste is the amount of side product (**4** and **5**), unreacted starting material and solvent produced in the reactor outlet stream. By minimising E-factor, we are effectively maximising selectivity and reaction \"greeness\" at the same time. \n",
    "\n",
    "We optimize the reactions by changing the residence time, inlet concentration of 2,4-dinitrofluorobenzene (**1**), equivalences of of pyrrolidine (**2**), and temperature. "
   ]
  },
  {
   "cell_type": "markdown",
   "metadata": {},
   "source": [
    "### Running a single experiment\n",
    "\n",
    "Before we do any optimization, let's get a sense of how our virtual laboratory works. Below, we run one virtual experiment with relatively mild conditions (residence time = 0.5 minutes, equiv of **2** = 1.5, concentration of **1** = 0.1 M and T = 30.0°C)."
   ]
  },
  {
   "cell_type": "code",
   "execution_count": 5,
   "metadata": {},
   "outputs": [
    {
     "data": {
      "text/html": [
       "<div>\n",
       "<style scoped>\n",
       "    .dataframe tbody tr th:only-of-type {\n",
       "        vertical-align: middle;\n",
       "    }\n",
       "\n",
       "    .dataframe tbody tr th {\n",
       "        vertical-align: top;\n",
       "    }\n",
       "\n",
       "    .dataframe thead th {\n",
       "        text-align: right;\n",
       "    }\n",
       "</style>\n",
       "<table border=\"1\" class=\"dataframe\">\n",
       "  <thead>\n",
       "    <tr style=\"text-align: right;\">\n",
       "      <th></th>\n",
       "      <th>tau</th>\n",
       "      <th>equiv_pldn</th>\n",
       "      <th>conc_dfnb</th>\n",
       "      <th>temperature</th>\n",
       "      <th>sty</th>\n",
       "      <th>e_factor</th>\n",
       "      <th>computation_t</th>\n",
       "      <th>experiment_t</th>\n",
       "      <th>strategy</th>\n",
       "    </tr>\n",
       "  </thead>\n",
       "  <tbody>\n",
       "    <tr>\n",
       "      <th>0</th>\n",
       "      <td>1.5</td>\n",
       "      <td>0.5</td>\n",
       "      <td>0.1</td>\n",
       "      <td>30.0</td>\n",
       "      <td>168.96</td>\n",
       "      <td>191.26</td>\n",
       "      <td>0.0</td>\n",
       "      <td>0.01</td>\n",
       "      <td>NaN</td>\n",
       "    </tr>\n",
       "  </tbody>\n",
       "</table>\n",
       "</div>"
      ],
      "text/plain": [
       "NAME  tau equiv_pldn conc_dfnb temperature     sty e_factor computation_t  \\\n",
       "TYPE DATA       DATA      DATA        DATA    DATA     DATA      METADATA   \n",
       "0     1.5        0.5       0.1        30.0  168.96   191.26           0.0   \n",
       "\n",
       "NAME experiment_t strategy  \n",
       "TYPE     METADATA METADATA  \n",
       "0            0.01      NaN  "
      ]
     },
     "execution_count": 5,
     "metadata": {},
     "output_type": "execute_result"
    }
   ],
   "source": [
    "# Create some test conditions\n",
    "columns = [v.name for v in exp.domain.variables]\n",
    "values  =   {('tau', 'DATA'): 1.5,  # minutes\n",
    "             ('equiv_pldn', 'DATA'): 0.5,  \n",
    "             ('conc_dfnb', 'DATA'): 0.1, #molar\n",
    "             ('temperature', 'DATA'): 30.0, # degrees celsius\n",
    "            }\n",
    "conditions = DataSet([values], columns=columns)\n",
    "\n",
    "# Run the conditions\n",
    "exp.reset()\n",
    "results = exp.run_experiments(conditions)\n",
    "results.round(2)"
   ]
  },
  {
   "cell_type": "markdown",
   "metadata": {},
   "source": [
    "In the above code, we put our reaction conditions in a summit DataSet, which is a Pandas dataframe that allows us to specify certain columns as metadata. For example, the experiment time column is a metadata column. That's why the values dictionary has tuples that specify the type of columns (DATA vs. METADATA).  \n",
    "\n",
    "We run the virtual experiment using `exp.run_experiments`, which integrates the kinetic equations at the conditions given. The results are printed out.\n",
    "\n",
    "We can see that these conditions give a very low space-time yield (a good value would be around >10,000 kg/m^3/h) and high E-factor (a good value would be <10).  So, let's try to optimze the conditions. "
   ]
  },
  {
   "cell_type": "markdown",
   "metadata": {},
   "source": [
    "### Random Strategy\n",
    "\n",
    "In Summit, methods for optimizing reactions are called strategies. There are six strategies available, each with different capabilities. The advantage of using Summit is that we can quickly and easily test out different strategies on a problem to see which one performs best. \n",
    "\n",
    "We are going to first use a random strategy as a baseline, where each experiment is selected at random. Any advanced strategies should at least perform better than this.\n",
    "\n",
    "Note that in order to see the progress bar in jupyter, you'll need to install the jupyter or jupyterlab extension for ipywidgets. See [here](https://ipywidgets.readthedocs.io/en/latest/user_install.html#installing-the-jupyterlab-extension) for details."
   ]
  },
  {
   "cell_type": "code",
   "execution_count": 6,
   "metadata": {},
   "outputs": [
    {
     "data": {
      "text/html": [
       "\n",
       "    <div>\n",
       "        <style>\n",
       "            /* Turns off some styling */\n",
       "            progress {\n",
       "                /* gets rid of default border in Firefox and Opera. */\n",
       "                border: none;\n",
       "                /* Needs to be in here for Safari polyfill so background images work as expected. */\n",
       "                background-size: auto;\n",
       "            }\n",
       "            .progress-bar-interrupted, .progress-bar-interrupted::-webkit-progress-bar {\n",
       "                background: #F44336;\n",
       "            }\n",
       "        </style>\n",
       "      <progress value='50' class='' max='50' style='width:300px; height:20px; vertical-align: middle;'></progress>\n",
       "      100.00% [50/50 00:00<00:00]\n",
       "    </div>\n",
       "    "
      ],
      "text/plain": [
       "<IPython.core.display.HTML object>"
      ]
     },
     "metadata": {},
     "output_type": "display_data"
    },
    {
     "data": {
      "image/png": "[encoded data removed]",
      "text/plain": [
       "<Figure size 432x288 with 1 Axes>"
      ]
     },
     "metadata": {
      "needs_background": "light"
     },
     "output_type": "display_data"
    }
   ],
   "source": [
    "#Set up the experiment\n",
    "exp = SnarBenchmark()\n",
    "\n",
    "# Instantiate random sampling strategy\n",
    "strategy = Random(exp.domain)\n",
    "\n",
    "# Use the runner to run closed loop optimisation\n",
    "r = Runner(strategy=strategy, experiment=exp, max_iterations=50)\n",
    "r.run()\n",
    "\n",
    "# Plot the results\n",
    "fig, ax = exp.pareto_plot()\n",
    "_ = ax.set_xlabel('Space Time Yield ($kg \\; m^{-3} h^{-1}$)')\n",
    "_ = ax.set_ylabel('E-factor')"
   ]
  },
  {
   "cell_type": "markdown",
   "metadata": {},
   "source": [
    "In the above code, we start by creating the laboratory as we did before. We then setup the random strategy using `Random` which gets used by the runner for getting new experiments to perform using `strategy.suggest_experiments` internally. We run those experiments and plot the results. \n",
    "\n",
    "The above plot is a pareto plot. Each point in the above plot represents the objective values for a different set of reaction conditons. The pareto front shows the conditions that optimize space-time yield at the cost of E-factor and vice versa. "
   ]
  },
  {
   "cell_type": "markdown",
   "metadata": {},
   "source": [
    "### SOBO Strategy\n",
    "\n",
    "Now, let's see if we can do better by using machine learning.  We will use the Single-Objective Bayesian optimisation (SOBO) strategy. This builds a model of the objective."
   ]
  },
  {
   "cell_type": "code",
   "execution_count": 7,
   "metadata": {},
   "outputs": [
    {
     "data": {
      "text/html": [
       "\n",
       "    <div>\n",
       "        <style>\n",
       "            /* Turns off some styling */\n",
       "            progress {\n",
       "                /* gets rid of default border in Firefox and Opera. */\n",
       "                border: none;\n",
       "                /* Needs to be in here for Safari polyfill so background images work as expected. */\n",
       "                background-size: auto;\n",
       "            }\n",
       "            .progress-bar-interrupted, .progress-bar-interrupted::-webkit-progress-bar {\n",
       "                background: #F44336;\n",
       "            }\n",
       "        </style>\n",
       "      <progress value='50' class='' max='50' style='width:300px; height:20px; vertical-align: middle;'></progress>\n",
       "      100.00% [50/50 00:19<00:00]\n",
       "    </div>\n",
       "    "
      ],
      "text/plain": [
       "<IPython.core.display.HTML object>"
      ]
     },
     "metadata": {},
     "output_type": "display_data"
    },
    {
     "data": {
      "image/png": "[encoded data removed]",
      "text/plain": [
       "<Figure size 432x288 with 2 Axes>"
      ]
     },
     "metadata": {
      "needs_background": "light"
     },
     "output_type": "display_data"
    }
   ],
   "source": [
    "exp = SnarBenchmark()\n",
    "\n",
    "# Since the Snar benchmark has two objectives and SOBO is single objective, \n",
    "# we need a multi-to-single objective transform\n",
    "transform = MultitoSingleObjective(\n",
    "    exp.domain, expression=\"-sty/1e4+e_factor/100\", maximize=False\n",
    ")\n",
    "\n",
    "# Set up the strategy, passing in the optimisation domain and transform\n",
    "strategy = SOBO(exp.domain, transform=transform)\n",
    "\n",
    "# Use the runner to run closed loop optimisation\n",
    "r = Runner(\n",
    "    strategy=strategy, experiment=exp,max_iterations=50\n",
    ")\n",
    "r.run()\n",
    "\n",
    "# Plot the results\n",
    "fig, ax = exp.pareto_plot(colorbar=True)\n",
    "_ = ax.set_xlabel('Space Time Yield ($kg \\; m^{-3} h^{-1}$)')\n",
    "_ = ax.set_ylabel('E-factor')"
   ]
  },
  {
   "cell_type": "markdown",
   "metadata": {},
   "source": [
    "The code above is very similar to the random sampling code with one major addition. We use the `MultitoSingleObjective` transform since `SnarBenchmark` has two objectives, but `SOBO` can only optimise one objective. `MultitoSingleObjective` takes an expression that creates scalar value from the objectives. You simply use the names of the objectives and any expressions compatible with [Pandas eval](https://pandas.pydata.org/pandas-docs/stable/reference/api/pandas.eval.html). Now, let's see the optimal conditions. "
   ]
  },
  {
   "cell_type": "code",
   "execution_count": 8,
   "metadata": {},
   "outputs": [
    {
     "data": {
      "text/html": [
       "<div>\n",
       "<style scoped>\n",
       "    .dataframe tbody tr th:only-of-type {\n",
       "        vertical-align: middle;\n",
       "    }\n",
       "\n",
       "    .dataframe tbody tr th {\n",
       "        vertical-align: top;\n",
       "    }\n",
       "\n",
       "    .dataframe thead th {\n",
       "        text-align: right;\n",
       "    }\n",
       "</style>\n",
       "<table border=\"1\" class=\"dataframe\">\n",
       "  <thead>\n",
       "    <tr style=\"text-align: right;\">\n",
       "      <th></th>\n",
       "      <th>tau</th>\n",
       "      <th>equiv_pldn</th>\n",
       "      <th>conc_dfnb</th>\n",
       "      <th>temperature</th>\n",
       "      <th>sty</th>\n",
       "      <th>e_factor</th>\n",
       "      <th>computation_t</th>\n",
       "      <th>experiment_t</th>\n",
       "      <th>strategy</th>\n",
       "    </tr>\n",
       "  </thead>\n",
       "  <tbody>\n",
       "    <tr>\n",
       "      <th>5</th>\n",
       "      <td>0.52</td>\n",
       "      <td>2.19</td>\n",
       "      <td>0.5</td>\n",
       "      <td>66.23</td>\n",
       "      <td>10952.08</td>\n",
       "      <td>9.88</td>\n",
       "      <td>0.34</td>\n",
       "      <td>0.01</td>\n",
       "      <td>Single-objective BayOpt</td>\n",
       "    </tr>\n",
       "    <tr>\n",
       "      <th>10</th>\n",
       "      <td>0.50</td>\n",
       "      <td>2.32</td>\n",
       "      <td>0.5</td>\n",
       "      <td>66.23</td>\n",
       "      <td>11328.81</td>\n",
       "      <td>9.97</td>\n",
       "      <td>0.47</td>\n",
       "      <td>0.01</td>\n",
       "      <td>Single-objective BayOpt</td>\n",
       "    </tr>\n",
       "    <tr>\n",
       "      <th>42</th>\n",
       "      <td>0.50</td>\n",
       "      <td>5.00</td>\n",
       "      <td>0.5</td>\n",
       "      <td>30.00</td>\n",
       "      <td>11558.77</td>\n",
       "      <td>10.74</td>\n",
       "      <td>0.39</td>\n",
       "      <td>0.01</td>\n",
       "      <td>Single-objective BayOpt</td>\n",
       "    </tr>\n",
       "  </tbody>\n",
       "</table>\n",
       "</div>"
      ],
      "text/plain": [
       "NAME   tau equiv_pldn conc_dfnb temperature       sty e_factor computation_t  \\\n",
       "TYPE  DATA       DATA      DATA        DATA      DATA     DATA      METADATA   \n",
       "5     0.52       2.19       0.5       66.23  10952.08     9.88          0.34   \n",
       "10    0.50       2.32       0.5       66.23  11328.81     9.97          0.47   \n",
       "42    0.50       5.00       0.5       30.00  11558.77    10.74          0.39   \n",
       "\n",
       "NAME experiment_t                 strategy  \n",
       "TYPE     METADATA                 METADATA  \n",
       "5            0.01  Single-objective BayOpt  \n",
       "10           0.01  Single-objective BayOpt  \n",
       "42           0.01  Single-objective BayOpt  "
      ]
     },
     "execution_count": 8,
     "metadata": {},
     "output_type": "execute_result"
    }
   ],
   "source": [
    "exp.pareto_data.round(2)"
   ]
  },
  {
   "cell_type": "markdown",
   "metadata": {},
   "source": [
    "## From Virtual to Real Experiments"
   ]
  },
  {
   "cell_type": "markdown",
   "metadata": {},
   "source": [
    "In addition to running virtual experiments using benchmarks, Summit can be used to optimise real experiments. We will demonstrate how you might do that in this section. First, some imports:"
   ]
  },
  {
   "cell_type": "code",
   "execution_count": 9,
   "metadata": {},
   "outputs": [],
   "source": [
    "from summit import Runner\n",
    "from summit.strategies import SOBO, MultitoSingleObjective\n",
    "from summit.benchmarks import SnarBenchmark\n",
    "from summit.utils.dataset import DataSet\n",
    "import pathlib"
   ]
  },
  {
   "cell_type": "markdown",
   "metadata": {},
   "source": [
    "If you are running this yourself, uncomment the second line."
   ]
  },
  {
   "cell_type": "code",
   "execution_count": 8,
   "metadata": {},
   "outputs": [],
   "source": [
    "FOLDER = pathlib.Path(\"../_static/\")  # When using this in the context of docs\n",
    "# FOLDER = pathlib.Path(\".\")"
   ]
  },
  {
   "cell_type": "markdown",
   "metadata": {},
   "source": [
    "### Running Experiments Manually\n",
    "\n",
    " There is a simple set of commands that allows you to do this. Let's say we are going to run the SnarBenchmark manually instead of in a closed-loop setup. We'll use SOBO to demonstrate."
   ]
  },
  {
   "cell_type": "code",
   "execution_count": 9,
   "metadata": {},
   "outputs": [
    {
     "data": {
      "text/html": [
       "<div>\n",
       "<style scoped>\n",
       "    .dataframe tbody tr th:only-of-type {\n",
       "        vertical-align: middle;\n",
       "    }\n",
       "\n",
       "    .dataframe tbody tr th {\n",
       "        vertical-align: top;\n",
       "    }\n",
       "\n",
       "    .dataframe thead th {\n",
       "        text-align: right;\n",
       "    }\n",
       "</style>\n",
       "<table border=\"1\" class=\"dataframe\">\n",
       "  <thead>\n",
       "    <tr style=\"text-align: right;\">\n",
       "      <th></th>\n",
       "      <th>tau</th>\n",
       "      <th>equiv_pldn</th>\n",
       "      <th>conc_dfnb</th>\n",
       "      <th>temperature</th>\n",
       "      <th>strategy</th>\n",
       "    </tr>\n",
       "  </thead>\n",
       "  <tbody>\n",
       "    <tr>\n",
       "      <th>0</th>\n",
       "      <td>1.697277</td>\n",
       "      <td>2.376661</td>\n",
       "      <td>0.494231</td>\n",
       "      <td>81.356964</td>\n",
       "      <td>Single-objective BayOpt</td>\n",
       "    </tr>\n",
       "    <tr>\n",
       "      <th>1</th>\n",
       "      <td>1.934914</td>\n",
       "      <td>3.721557</td>\n",
       "      <td>0.288667</td>\n",
       "      <td>33.054666</td>\n",
       "      <td>Single-objective BayOpt</td>\n",
       "    </tr>\n",
       "  </tbody>\n",
       "</table>\n",
       "</div>"
      ],
      "text/plain": [
       "NAME       tau equiv_pldn conc_dfnb temperature                 strategy\n",
       "TYPE      DATA       DATA      DATA        DATA                 METADATA\n",
       "0     1.697277   2.376661  0.494231   81.356964  Single-objective BayOpt\n",
       "1     1.934914   3.721557  0.288667   33.054666  Single-objective BayOpt"
      ]
     },
     "execution_count": 9,
     "metadata": {},
     "output_type": "execute_result"
    }
   ],
   "source": [
    "# We are just going to get the domain from the SnarBenchmark\n",
    "exp = SnarBenchmark()\n",
    "\n",
    "transform = MultitoSingleObjective(\n",
    "    exp.domain, expression=\"-sty/1e4+e_factor/100\", maximize=False\n",
    ")\n",
    "\n",
    "# Instantiate SOBO\n",
    "strategy = SOBO(exp.domain, transform=transform)\n",
    "\n",
    "# To get the first experiments\n",
    "next_experiments = strategy.suggest_experiments(2)\n",
    "next_experiments"
   ]
  },
  {
   "cell_type": "markdown",
   "metadata": {},
   "source": [
    "Since it might be a while before we come back, let's save what we've done up until now. We save a file called `snar_sobo_external.json` which contains all of the information we need to reproduce our work up to this point.  We will also produce a CSV with the suggested conditions, which we can use to record the results of our experiments. "
   ]
  },
  {
   "cell_type": "code",
   "execution_count": 10,
   "metadata": {},
   "outputs": [],
   "source": [
    "# Save SOBO hyperparameters and internal state\n",
    "strategy.save(FOLDER / 'snar_sobo_external.json')\n",
    "\n",
    "# Save experiments to CSV\n",
    "next_experiments.to_csv(FOLDER / 'snar_experiments_external_0.csv')"
   ]
  },
  {
   "cell_type": "markdown",
   "metadata": {},
   "source": [
    "Normally, we would now go and run the experiments separately and add a column for sty and yield with our results. We could do that in Excel. However, since this is just a demonstration, we'll simulate the experiments using the SnarBenchmark class and save the results to a CSV. "
   ]
  },
  {
   "cell_type": "code",
   "execution_count": 11,
   "metadata": {},
   "outputs": [],
   "source": [
    "# \"Run\" the experiments and save to CSV.\n",
    "results = exp.run_experiments(next_experiments)\n",
    "results.to_csv(FOLDER / 'snar_experiments_external_1.csv')"
   ]
  },
  {
   "cell_type": "markdown",
   "metadata": {},
   "source": [
    "Now that we have run the conditions, we can load SOBO and the data back in from the files we saved."
   ]
  },
  {
   "cell_type": "code",
   "execution_count": 14,
   "metadata": {},
   "outputs": [
    {
     "data": {
      "text/html": [
       "<div>\n",
       "<style scoped>\n",
       "    .dataframe tbody tr th:only-of-type {\n",
       "        vertical-align: middle;\n",
       "    }\n",
       "\n",
       "    .dataframe tbody tr th {\n",
       "        vertical-align: top;\n",
       "    }\n",
       "\n",
       "    .dataframe thead th {\n",
       "        text-align: right;\n",
       "    }\n",
       "</style>\n",
       "<table border=\"1\" class=\"dataframe\">\n",
       "  <thead>\n",
       "    <tr style=\"text-align: right;\">\n",
       "      <th></th>\n",
       "      <th>tau</th>\n",
       "      <th>equiv_pldn</th>\n",
       "      <th>conc_dfnb</th>\n",
       "      <th>temperature</th>\n",
       "      <th>sty</th>\n",
       "      <th>e_factor</th>\n",
       "      <th>computation_t</th>\n",
       "      <th>experiment_t</th>\n",
       "      <th>strategy</th>\n",
       "    </tr>\n",
       "  </thead>\n",
       "  <tbody>\n",
       "    <tr>\n",
       "      <th>0</th>\n",
       "      <td>1.69728</td>\n",
       "      <td>2.37666</td>\n",
       "      <td>0.494231</td>\n",
       "      <td>81.357</td>\n",
       "      <td>2577.87</td>\n",
       "      <td>13.118</td>\n",
       "      <td>0</td>\n",
       "      <td>0.018846</td>\n",
       "      <td>Single-objective BayOpt</td>\n",
       "    </tr>\n",
       "    <tr>\n",
       "      <th>1</th>\n",
       "      <td>1.93491</td>\n",
       "      <td>3.72156</td>\n",
       "      <td>0.288667</td>\n",
       "      <td>33.0547</td>\n",
       "      <td>1694.33</td>\n",
       "      <td>16.5807</td>\n",
       "      <td>0</td>\n",
       "      <td>0.015223</td>\n",
       "      <td>Single-objective BayOpt</td>\n",
       "    </tr>\n",
       "  </tbody>\n",
       "</table>\n",
       "</div>"
      ],
      "text/plain": [
       "NAME      tau equiv_pldn conc_dfnb temperature      sty e_factor  \\\n",
       "TYPE     DATA       DATA      DATA        DATA     DATA     DATA   \n",
       "0     1.69728    2.37666  0.494231      81.357  2577.87   13.118   \n",
       "1     1.93491    3.72156  0.288667     33.0547  1694.33  16.5807   \n",
       "\n",
       "NAME computation_t experiment_t                 strategy  \n",
       "TYPE      METADATA     METADATA                 METADATA  \n",
       "0                0     0.018846  Single-objective BayOpt  \n",
       "1                0     0.015223  Single-objective BayOpt  "
      ]
     },
     "execution_count": 14,
     "metadata": {},
     "output_type": "execute_result"
    }
   ],
   "source": [
    "# Load in previous SOBO hyperparameters and internal state\n",
    "strategy = SOBO.load(FOLDER / 'snar_sobo_external.json')\n",
    "\n",
    "# Load in experimental results\n",
    "prev_res = DataSet.read_csv(FOLDER / 'snar_experiments_external_1.csv')\n",
    "prev_res"
   ]
  },
  {
   "cell_type": "markdown",
   "metadata": {},
   "source": [
    "Now, we can run SOBO again and ask for new suggested conditions based on the first set of experiments."
   ]
  },
  {
   "cell_type": "code",
   "execution_count": 15,
   "metadata": {},
   "outputs": [
    {
     "data": {
      "text/html": [
       "<div>\n",
       "<style scoped>\n",
       "    .dataframe tbody tr th:only-of-type {\n",
       "        vertical-align: middle;\n",
       "    }\n",
       "\n",
       "    .dataframe tbody tr th {\n",
       "        vertical-align: top;\n",
       "    }\n",
       "\n",
       "    .dataframe thead th {\n",
       "        text-align: right;\n",
       "    }\n",
       "</style>\n",
       "<table border=\"1\" class=\"dataframe\">\n",
       "  <thead>\n",
       "    <tr style=\"text-align: right;\">\n",
       "      <th></th>\n",
       "      <th>tau</th>\n",
       "      <th>equiv_pldn</th>\n",
       "      <th>conc_dfnb</th>\n",
       "      <th>temperature</th>\n",
       "      <th>strategy</th>\n",
       "    </tr>\n",
       "  </thead>\n",
       "  <tbody>\n",
       "    <tr>\n",
       "      <th>0</th>\n",
       "      <td>1.122319</td>\n",
       "      <td>3.164345</td>\n",
       "      <td>0.23599</td>\n",
       "      <td>34.448618</td>\n",
       "      <td>Single-objective BayOpt</td>\n",
       "    </tr>\n",
       "  </tbody>\n",
       "</table>\n",
       "</div>"
      ],
      "text/plain": [
       "NAME       tau equiv_pldn conc_dfnb temperature                 strategy\n",
       "TYPE      DATA       DATA      DATA        DATA                 METADATA\n",
       "0     1.122319   3.164345   0.23599   34.448618  Single-objective BayOpt"
      ]
     },
     "execution_count": 15,
     "metadata": {},
     "output_type": "execute_result"
    }
   ],
   "source": [
    "# Get experimental suggestions from SOBO\n",
    "second_experiments = strategy.suggest_experiments(1, prev_res=prev_res)\n",
    "\n",
    "# Save SOBO state\n",
    "strategy.save(FOLDER / 'snar_sobo_external_2.json')\n",
    "\n",
    "# Save experiments to CSV\n",
    "second_experiments.to_csv(FOLDER / 'snar_experiments_external_2.csv')\n",
    "second_experiments"
   ]
  },
  {
   "cell_type": "markdown",
   "metadata": {},
   "source": [
    "We can repeat the the cycle of saving and loading the SOBO paramters and next experiments until we are satisfied with the results."
   ]
  },
  {
   "cell_type": "markdown",
   "metadata": {},
   "source": [
    "### Running Closed Loop Experiments\n",
    "\n",
    "As you've seen above, Summit has special functionality for running closed-loop experiments.  The `Runner` class takes a strategy and experiment. It then get experiment suggestions from the strategy and runs the experiments.\n",
    "\n",
    "If you have an automated experiment (e.g., a flow reactor), you can create your own Runner that sends requests to your experimental setup. As an example of how to do this, look at  [NeptuneRunner](https://github.com/sustainable-processes/summit/blob/8d64f6f7705392242619d8ca393281af1a9d7e97/summit/run.py#L219), which we created to log the results of benchmarks to [Neptune.ai](https://neptune.ai/) during our own work. Primarily you need to override the `run` method.\n"
   ]
  }
 ],
 "metadata": {
  "kernelspec": {
   "display_name": "Python 3",
   "language": "python",
   "name": "python3"
  },
  "language_info": {
   "codemirror_mode": {
    "name": "ipython",
    "version": 3
   },
   "file_extension": ".py",
   "mimetype": "text/x-python",
   "name": "python",
   "nbconvert_exporter": "python",
   "pygments_lexer": "ipython3",
   "version": "3.7.3"
  },
  "toc-autonumbering": false,
  "toc-showcode": false,
  "toc-showmarkdowntxt": false
 },
 "nbformat": 4,
 "nbformat_minor": 4
}
