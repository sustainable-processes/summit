{
 "cells": [
  {
   "cell_type": "markdown",
   "metadata": {},
   "source": [
    "# Creating New Benchmarks\n",
    "\n",
    "Here we give a demonstration of how to create a new benchmark based on experimental data. We call these type of benchmarks emulators, and they use the class `ExperimentalEmulator`. \n",
    "\n",
    "Emulators contain machine learning models, which can learn patterns from experimental data. These models can then be used to predict the outcomes of reactions at conditions that have not been tested in the lab.\n",
    "\n",
    "Emulators are most applicable when a kinetic model is not available. This is common with reactions where catalysts, bases and acids are still being chosen.\n",
    "\n",
    "\n",
    "As an example, we are going to create a benchmark for the Suzuki-Miyaura Cross-Coupling reaction in [Reizman et al. (2016)](https://doi.org/10.1039/C6RE00153J).\n",
    "\n",
    "\n",
    "![Image from Hone et al.](../_static/suzuki_reizman.gif) \n",
    "\n",
    "Scheme reproduced from the paper."
   ]
  },
  {
   "cell_type": "markdown",
   "metadata": {},
   "source": [
    "## Google Colab\n",
    "\n",
    "If you would like to follow along with this tutorial, you can open it in Google Colab using the button below."
   ]
  },
  {
   "cell_type": "raw",
   "metadata": {
    "raw_mimetype": "text/restructuredtext"
   },
   "source": [
    "|colab_badge|"
   ]
  },
  {
   "cell_type": "markdown",
   "metadata": {},
   "source": [
    "You will need to run the following cell to make sure Summit and all its dependencies are installed. If prompted, restart the runtime."
   ]
  },
  {
   "cell_type": "code",
   "execution_count": null,
   "metadata": {},
   "outputs": [],
   "source": [
    "!pip install summit"
   ]
  },
  {
   "cell_type": "markdown",
   "metadata": {},
   "source": [
    "## Imports \n",
    "\n",
    "Let's first import the needed parts of Summit."
   ]
  },
  {
   "cell_type": "code",
   "execution_count": 2,
   "metadata": {},
   "outputs": [],
   "source": [
    "from summit.benchmarks import ExperimentalEmulator\n",
    "from summit.domain import *\n",
    "from summit.utils.dataset import DataSet\n",
    "import pkg_resources\n",
    "import pathlib"
   ]
  },
  {
   "cell_type": "code",
   "execution_count": 3,
   "metadata": {},
   "outputs": [
    {
     "name": "stdout",
     "output_type": "stream",
     "text": [
      "The autoreload extension is already loaded. To reload it, use:\n",
      "  %reload_ext autoreload\n"
     ]
    }
   ],
   "source": [
    "%load_ext autoreload\n",
    "%autoreload 2"
   ]
  },
  {
   "cell_type": "markdown",
   "metadata": {},
   "source": [
    "## Create the domain\n",
    "\n",
    "We first need to create a :class:`~summit.domain.Domain`. A domain specifies the aspects of the reaction we will be optimizing. In optimization speak, these are the decision variables (those that are manipulated), constraints and objectives for a benchmark."
   ]
  },
  {
   "cell_type": "code",
   "execution_count": 4,
   "metadata": {},
   "outputs": [],
   "source": [
    "domain = Domain()"
   ]
  },
  {
   "cell_type": "markdown",
   "metadata": {},
   "source": [
    "Above, we instantiate a new domain without any variables. Here, we are going to manipulate the catalyst, catalyst loading, base stoichiometry and temperature. Our objectives are to maximise yield and minimise turn over number (TON). We can use the increment operator `+=` to add variables to the domain. There are no constraints."
   ]
  },
  {
   "cell_type": "code",
   "execution_count": 5,
   "metadata": {},
   "outputs": [],
   "source": [
    "# Decision variables\n",
    "des_1 = \"Catalyst type - different ligands\"\n",
    "domain += CategoricalVariable(\n",
    "    name=\"catalyst\",\n",
    "    description=des_1,\n",
    "    levels=[\n",
    "        \"P1-L1\",\n",
    "        \"P2-L1\",\n",
    "        \"P1-L2\",\n",
    "        \"P1-L3\",\n",
    "        \"P1-L4\",\n",
    "        \"P1-L5\",\n",
    "        \"P1-L6\",\n",
    "        \"P1-L7\",\n",
    "    ],\n",
    ")"
   ]
  },
  {
   "cell_type": "markdown",
   "metadata": {},
   "source": [
    "We specify the catalyst as a `CategoricalVariable`, which can encapsulate discrete decisions such as choosing a catalyst, base, or acid from a list of potential options. We pass the list of potential options to the `levels` keyword argument. Our data should only include one of the catalysts in `levels`.\n",
    "\n",
    "Below, we use `ContinuousVariable` to specify the rest of the decision variables. Each has `bounds`, which represent the minimum and maximum values of each variable."
   ]
  },
  {
   "cell_type": "code",
   "execution_count": 6,
   "metadata": {},
   "outputs": [],
   "source": [
    "des_2 = \"Residence time in seconds (s)\"\n",
    "domain += ContinuousVariable(name=\"t_res\", description=des_2, bounds=[60, 600])\n",
    "\n",
    "des_3 = \"Reactor temperature in degrees Celsius (ºC)\"\n",
    "domain += ContinuousVariable(\n",
    "    name=\"temperature\", description=des_3, bounds=[30, 110]\n",
    ")\n",
    "\n",
    "des_4 = \"Catalyst loading in mol%\"\n",
    "domain += ContinuousVariable(\n",
    "    name=\"catalyst_loading\", description=des_4, bounds=[0.5, 2.5]\n",
    ")\n"
   ]
  },
  {
   "cell_type": "markdown",
   "metadata": {},
   "source": [
    "Finally, we specify the objectives. We use `ContinuousVariable` again, but set `is_objective` to `True` and specify whether to maximize (or minimize) each objective."
   ]
  },
  {
   "cell_type": "code",
   "execution_count": 7,
   "metadata": {},
   "outputs": [],
   "source": [
    "# Objectives\n",
    "des_5 = \"Yield\"\n",
    "domain += ContinuousVariable(\n",
    "    name=\"yld\",\n",
    "    description=des_5,\n",
    "    bounds=[0, 100],\n",
    "    is_objective=True,\n",
    "    maximize=True,\n",
    ")\n",
    "\n",
    "\n",
    "des_6 = (\n",
    "    \"Turnover number - moles product generated divided by moles catalyst used\"\n",
    ")\n",
    "domain += ContinuousVariable(\n",
    "    name=\"ton\",\n",
    "    description=des_6,\n",
    "    bounds=[0, 200],\n",
    "    is_objective=True,\n",
    "    maximize=True,\n",
    ")\n",
    "\n"
   ]
  },
  {
   "cell_type": "markdown",
   "metadata": {},
   "source": [
    "When working inside a Jupyter Notebook, we can view the domain by putting it at the end of a cell and pressing enter."
   ]
  },
  {
   "cell_type": "code",
   "execution_count": 8,
   "metadata": {},
   "outputs": [
    {
     "data": {
      "text/html": [
       "<table id='domain' width=100%><tr><td><b>Name</b></td><td><b>Type</b></td><td><b>Description</b></td><td><b>Values</b></td></tr><tr><td>catalyst</td><td>categorical, input</td><td>Catalyst type - different ligands</td><td>8 levels</td></tr><tr><td>t_res</td><td>continuous, input</td><td>Residence time in seconds (s)</td><td>[60,600]</td></tr><tr><td>temperature</td><td>continuous, input</td><td>Reactor temperature in degrees Celsius (ºC)</td><td>[30,110]</td></tr><tr><td>catalyst_loading</td><td>continuous, input</td><td>Catalyst loading in mol%</td><td>[0.5,2.5]</td></tr><tr><td>yld</td><td>continuous, maximize objective</td><td>Yield</td><td>[0,100]</td></tr><tr><td>ton</td><td>continuous, maximize objective</td><td>Turnover number - moles product generated divided by moles catalyst used</td><td>[0,200]</td></tr></table>"
      ],
      "text/plain": [
       "<summit.domain.Domain at 0x12d073c88>"
      ]
     },
     "execution_count": 8,
     "metadata": {},
     "output_type": "execute_result"
    }
   ],
   "source": [
    "domain"
   ]
  },
  {
   "cell_type": "markdown",
   "metadata": {},
   "source": [
    "## Load Data\n",
    "\n",
    "We now load in the data from past experiments, which we will use to train the emulator. Here, we import the data that we already have in the Summit package, but any data available in CSV format would work. "
   ]
  },
  {
   "cell_type": "code",
   "execution_count": 9,
   "metadata": {},
   "outputs": [],
   "source": [
    "# Get the data already available in Summit\n",
    "DATA_PATH = pathlib.Path(pkg_resources.resource_filename(\"summit\", \"benchmarks/data\"))\n",
    "\n",
    "# Read in data into a DataSEt.\n",
    "ds = DataSet.read_csv(DATA_PATH / \"reizman_suzuki_case_1.csv\",)"
   ]
  },
  {
   "cell_type": "markdown",
   "metadata": {},
   "source": [
    "Note that we are using a :class:`~summit.dataset.Dataset`. In the CSV, it is essential that the columns match the domain and an extra row is added below each column name with the word DATA (see [here](https://github.com/sustainable-processes/summit/blob/master/summit/benchmarks/data/reizman_suzuki_case_1.csv) for an example)."
   ]
  },
  {
   "cell_type": "markdown",
   "metadata": {},
   "source": [
    "## Train the Emulator\n",
    "\n",
    "Now we only need two lines to train the experimental emulator!  We first instantiate `ExperimentalEmulator` passing in the dataset, domain and a name for the model.  Next we train it with two-fold [cross-validation](https://machinelearningmastery.com/k-fold-cross-validation/) and a test set size of 25%.\n",
    "\n",
    "This step will take some time. Change verbose to 1 if you want streaming updates of the training."
   ]
  },
  {
   "cell_type": "code",
   "execution_count": 10,
   "metadata": {},
   "outputs": [
    {
     "data": {
      "text/plain": [
       "{'fit_time': array([9.62368822, 9.36741114, 8.81644607, 8.90442324, 8.75493693]),\n",
       " 'score_time': array([0.00828385, 0.00569177, 0.00601172, 0.00571394, 0.00531006]),\n",
       " 'val_r2': array([0.73406495, 0.79712705, 0.87009207, 0.8853467 , 0.71850636]),\n",
       " 'val_neg_root_mean_squared_error': array([-15.48383141, -12.27886391, -10.41021824,  -8.35124302,\n",
       "        -12.52505112])}"
      ]
     },
     "execution_count": 10,
     "metadata": {},
     "output_type": "execute_result"
    }
   ],
   "source": [
    "emul = ExperimentalEmulator(model_name='my_reizman', domain=domain, dataset=ds)\n",
    "emul.train(max_epochs=1000, cv_fold=2, test_size=0.1, verbose=0)"
   ]
  },
  {
   "cell_type": "markdown",
   "metadata": {},
   "source": [
    "The training returns a `scores` dictionary from [scikit-learn](https://scikit-learn.org/stable/modules/generated/sklearn.model_selection.cross_validate.html#sklearn.model_selection.cross_validate), which contains the results from each cross-validation fold. It might be difficult to understand these scores, so we show some more intuitive evaluation methods next. "
   ]
  },
  {
   "cell_type": "markdown",
   "metadata": {},
   "source": [
    "## Evaluate Emulator"
   ]
  },
  {
   "cell_type": "markdown",
   "metadata": {},
   "source": [
    "A [parity plot](https://en.wikipedia.org/wiki/Parity_plot) shows experimental data against model predictions. We can do this for both the train and test sets. The $r^2$ score is shown, which varies between 0 and 1 with 1 being perfect fit."
   ]
  },
  {
   "cell_type": "code",
   "execution_count": 11,
   "metadata": {},
   "outputs": [
    {
     "data": {
      "image/png": "[encoded data removed]",
      "text/plain": [
       "<Figure size 720x360 with 2 Axes>"
      ]
     },
     "metadata": {
      "needs_background": "light"
     },
     "output_type": "display_data"
    }
   ],
   "source": [
    "fig, ax = emul.parity_plot(include_test=True)"
   ]
  },
  {
   "cell_type": "markdown",
   "metadata": {},
   "source": [
    "We can also try running virtual experiments using the benchmark to see if they match our expectations."
   ]
  },
  {
   "cell_type": "code",
   "execution_count": 12,
   "metadata": {},
   "outputs": [
    {
     "data": {
      "text/html": [
       "<div>\n",
       "<style scoped>\n",
       "    .dataframe tbody tr th:only-of-type {\n",
       "        vertical-align: middle;\n",
       "    }\n",
       "\n",
       "    .dataframe tbody tr th {\n",
       "        vertical-align: top;\n",
       "    }\n",
       "\n",
       "    .dataframe thead th {\n",
       "        text-align: right;\n",
       "    }\n",
       "</style>\n",
       "<table border=\"1\" class=\"dataframe\">\n",
       "  <thead>\n",
       "    <tr style=\"text-align: right;\">\n",
       "      <th></th>\n",
       "      <th>catalyst</th>\n",
       "      <th>t_res</th>\n",
       "      <th>temperature</th>\n",
       "      <th>catalyst_loading</th>\n",
       "      <th>yld</th>\n",
       "      <th>ton</th>\n",
       "      <th>computation_t</th>\n",
       "      <th>experiment_t</th>\n",
       "      <th>strategy</th>\n",
       "    </tr>\n",
       "  </thead>\n",
       "  <tbody>\n",
       "    <tr>\n",
       "      <th>0</th>\n",
       "      <td>P1-L1</td>\n",
       "      <td>60</td>\n",
       "      <td>100</td>\n",
       "      <td>1.0</td>\n",
       "      <td>30.521872</td>\n",
       "      <td>29.758484</td>\n",
       "      <td>0.0</td>\n",
       "      <td>0.034721</td>\n",
       "      <td>NaN</td>\n",
       "    </tr>\n",
       "  </tbody>\n",
       "</table>\n",
       "</div>"
      ],
      "text/plain": [
       "NAME catalyst t_res temperature catalyst_loading      yld        ton  \\\n",
       "TYPE     DATA  DATA        DATA             DATA       DATA       DATA   \n",
       "0       P1-L1    60         100              1.0  30.521872  29.758484   \n",
       "\n",
       "NAME computation_t experiment_t strategy  \n",
       "TYPE      METADATA     METADATA METADATA  \n",
       "0              0.0     0.034721      NaN  "
      ]
     },
     "execution_count": 12,
     "metadata": {},
     "output_type": "execute_result"
    }
   ],
   "source": [
    "conditions = [[\"P1-L1\", 60, 100, 1.0]]\n",
    "conditions = DataSet(conditions, columns=[v.name for v in domain.input_variables])\n",
    "emul.run_experiments(conditions)"
   ]
  },
  {
   "cell_type": "markdown",
   "metadata": {},
   "source": [
    "## Saving and Loading Emulators\n",
    "\n",
    "We can save the trained emulator to disk, so we can reuse it later. The `save` method will do two things: \n",
    "\n",
    "- Create a JSON file `model_name.json` (where model_name is the name used when ExperimentalEmulator is called). The JSON file contains the domain, any experiments run using the emulator, and some important hyperparameters (e.g., the mean and standard deviation used for normalization).\n",
    "- Create several `.pt` files with the weights of the models trained using cross validation.\n",
    "\n",
    "We simply specify a directory where the files should be saved."
   ]
  },
  {
   "cell_type": "code",
   "execution_count": 13,
   "metadata": {},
   "outputs": [],
   "source": [
    "emul.save(save_dir=\"emulators_tutorial\")"
   ]
  },
  {
   "cell_type": "markdown",
   "metadata": {},
   "source": [
    "We can load the saved emulator and use it as expected."
   ]
  },
  {
   "cell_type": "code",
   "execution_count": 14,
   "metadata": {},
   "outputs": [
    {
     "data": {
      "text/html": [
       "<div>\n",
       "<style scoped>\n",
       "    .dataframe tbody tr th:only-of-type {\n",
       "        vertical-align: middle;\n",
       "    }\n",
       "\n",
       "    .dataframe tbody tr th {\n",
       "        vertical-align: top;\n",
       "    }\n",
       "\n",
       "    .dataframe thead th {\n",
       "        text-align: right;\n",
       "    }\n",
       "</style>\n",
       "<table border=\"1\" class=\"dataframe\">\n",
       "  <thead>\n",
       "    <tr style=\"text-align: right;\">\n",
       "      <th></th>\n",
       "      <th>catalyst</th>\n",
       "      <th>t_res</th>\n",
       "      <th>temperature</th>\n",
       "      <th>catalyst_loading</th>\n",
       "      <th>yld</th>\n",
       "      <th>ton</th>\n",
       "      <th>computation_t</th>\n",
       "      <th>experiment_t</th>\n",
       "      <th>strategy</th>\n",
       "    </tr>\n",
       "  </thead>\n",
       "  <tbody>\n",
       "    <tr>\n",
       "      <th>0</th>\n",
       "      <td>P1-L1</td>\n",
       "      <td>60</td>\n",
       "      <td>100</td>\n",
       "      <td>1.0</td>\n",
       "      <td>30.521872</td>\n",
       "      <td>29.758484</td>\n",
       "      <td>0.0</td>\n",
       "      <td>0.027989</td>\n",
       "      <td>NaN</td>\n",
       "    </tr>\n",
       "  </tbody>\n",
       "</table>\n",
       "</div>"
      ],
      "text/plain": [
       "NAME catalyst t_res temperature catalyst_loading      yld        ton  \\\n",
       "TYPE     DATA  DATA        DATA             DATA       DATA       DATA   \n",
       "0       P1-L1    60         100              1.0  30.521872  29.758484   \n",
       "\n",
       "NAME computation_t experiment_t strategy  \n",
       "TYPE      METADATA     METADATA METADATA  \n",
       "0              0.0     0.027989      NaN  "
      ]
     },
     "execution_count": 14,
     "metadata": {},
     "output_type": "execute_result"
    }
   ],
   "source": [
    "emul_new = ExperimentalEmulator.load(model_name=\"my_reizman\", save_dir=\"emulators_tutorial\")\n",
    "emul_new.run_experiments(conditions)"
   ]
  }
 ],
 "metadata": {
  "kernel_info": {
   "name": "python37364bitsummittfmmv07ppy37venv6fc212842bc44e839a51e6623a646abd"
  },
  "kernelspec": {
   "display_name": "Python 3.7.3 64-bit ('summit-TfmmV07p-py3.7': venv)",
   "language": "python",
   "name": "python37364bitsummittfmmv07ppy37venv6fc212842bc44e839a51e6623a646abd"
  },
  "language_info": {
   "codemirror_mode": {
    "name": "ipython",
    "version": 3
   },
   "file_extension": ".py",
   "mimetype": "text/x-python",
   "name": "python",
   "nbconvert_exporter": "python",
   "pygments_lexer": "ipython3",
   "version": "3.7.3"
  },
  "nteract": {
   "version": "0.12.3"
  }
 },
 "nbformat": 4,
 "nbformat_minor": 4
}
