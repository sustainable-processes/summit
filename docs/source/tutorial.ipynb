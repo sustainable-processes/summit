{
 "cells": [
  {
   "cell_type": "markdown",
   "metadata": {},
   "source": [
    "# Tutorial"
   ]
  },
  {
   "cell_type": "markdown",
   "metadata": {},
   "source": [
    "In this tutorial, we demonstrate how summit can be used to optimize reactions automatically. \n",
    "\n",
    "\n",
    "Summit introduces two key concepts: **benchmarks** and **strategies**. Benchmarks are simualations of reactions, and strategies are ML algorithms used to choose experiments. Two benchmarks are already implemented, and it is easy to add more. We are going to optimise a nucleophilic aromatic substitution (SnAr) benchmark.\n",
    "\n",
    "Summit provides access to six different optimisation strategies. And, it gives a common interface, so you can easily switch between strategies. We'll see that soon.\n"
   ]
  },
  {
   "cell_type": "markdown",
   "metadata": {},
   "source": [
    "## SnAr Benchmark\n",
    "\n",
    "\n",
    "![](_static/hone_2016_snar_chemistry.png)\n",
    "\n",
    "Nucleophilic aromatic substitution reactions are commonly used in the fine chemicals industry. <!--Something about their frequncy from the Journal of medicinal chemistry letters paper --> In this case, 2,4 dinitrofluorobenzene (**1**) undergoes nucleophilic attack by pyrrolidine (**2**) to form the desired product **3**. Two side products **4** and **5** can also be formed. Overall, we want to maximize the amount of product formed and minimze side product formation and waste.\n",
    "\n",
    "The kinetics of this reaction were published by [Hone et al.](http://xlink.rsc.org/?DOI=C6RE00109B) We imagine a scenario where this reaction is to be optimized in a flow reactor. We have set up a \"virtual\" flow chemistry reactor in the `SnarBenchmark` using the published kinetics and standard chemical engineering equations. You simply supply the reaction conditions to `SnarBenchmark` and it will give back the results of a virtual experiment with those conditions. Think of it as your virtual laboratory.\n",
    "\n",
    "Below, we start importing the needed packages and setting up the virtual lab."
   ]
  },
  {
   "cell_type": "code",
   "execution_count": 1,
   "metadata": {},
   "outputs": [],
   "source": [
    "from summit.benchmarks import SnarBenchmark\n",
    "from summit.utils.dataset import DataSet"
   ]
  },
  {
   "cell_type": "code",
   "execution_count": 2,
   "metadata": {},
   "outputs": [
    {
     "data": {
      "text/html": [
       "<table id='domain' width=100%><tr><td><b>Name</b></td><td><b>Type</b></td><td><b>Description</b></td><td><b>Values</b></td></tr><tr><td>tau</td><td>continuous, input</td><td>residence time in minutes</td><td>[0.5,2]</td></tr><tr><td>equiv_pldn</td><td>continuous, input</td><td>equivalents of pyrrolidine</td><td>[1.0,5]</td></tr><tr><td>conc_dfnb</td><td>continuous, input</td><td>concentration of 2,4 dinitrofluorobenenze at reactor inlet (after mixing) in M</td><td>[0.1,0.5]</td></tr><tr><td>temperature</td><td>continuous, input</td><td>Reactor temperature in degress celsius</td><td>[30,120]</td></tr><tr><td>sty</td><td>continuous, maximize objective</td><td>space time yield (kg/m^3/h)</td><td>[0,100]</td></tr><tr><td>e_factor</td><td>continuous, minimize objective</td><td>E-factor</td><td>[0,10]</td></tr></table>"
      ],
      "text/plain": [
       "<summit.domain.Domain at 0x151930d30>"
      ]
     },
     "execution_count": 2,
     "metadata": {},
     "output_type": "execute_result"
    }
   ],
   "source": [
    "lab = SnarBenchmark()\n",
    "lab.domain"
   ]
  },
  {
   "cell_type": "markdown",
   "metadata": {},
   "source": [
    "We print out the `domain` which describes the optimization problem associated with `SnarBenchmark`.  The objectives are to maximize space-time yield (STY) and minimize E-factor. STY is the mass of product produced per reactor volume per time, and E-factor is the ratio of the mass of waste to mass of product. Waste is the amount of side product produced (**4** and **5**), unreacted starting material and solvent in the reactor outlet stream. By minimizing E-factor, we are effectively maximizing selectivity and reaction \"greeness\" at the same time. \n",
    "\n",
    "We optimize the reactions by changing the residence time, inlet concentration of 2,4-dinitrofluorobenzene (**1**), equivalences of of pyrrolidine (**2**), and temperature. "
   ]
  },
  {
   "cell_type": "markdown",
   "metadata": {},
   "source": [
    "### Running a single experiment\n",
    "\n",
    "Before we do any optimization, let's get a sense of how our virtual laboratory works. Below, we run one virtual experiment with relatively mild conditions (residence time = 0.5 minutes, equiv of **2** = 1.5, concentration of **1** = 0.1 M and T = 30.0°C)."
   ]
  },
  {
   "cell_type": "code",
   "execution_count": 3,
   "metadata": {},
   "outputs": [
    {
     "data": {
      "text/html": [
       "<div>\n",
       "<style scoped>\n",
       "    .dataframe tbody tr th:only-of-type {\n",
       "        vertical-align: middle;\n",
       "    }\n",
       "\n",
       "    .dataframe tbody tr th {\n",
       "        vertical-align: top;\n",
       "    }\n",
       "\n",
       "    .dataframe thead th {\n",
       "        text-align: right;\n",
       "    }\n",
       "</style>\n",
       "<table border=\"1\" class=\"dataframe\">\n",
       "  <thead>\n",
       "    <tr style=\"text-align: right;\">\n",
       "      <th></th>\n",
       "      <th>tau</th>\n",
       "      <th>equiv_pldn</th>\n",
       "      <th>conc_dfnb</th>\n",
       "      <th>temperature</th>\n",
       "      <th>sty</th>\n",
       "      <th>e_factor</th>\n",
       "      <th>computation_t</th>\n",
       "      <th>experiment_t</th>\n",
       "      <th>strategy</th>\n",
       "    </tr>\n",
       "  </thead>\n",
       "  <tbody>\n",
       "    <tr>\n",
       "      <th>0</th>\n",
       "      <td>1.5</td>\n",
       "      <td>0.5</td>\n",
       "      <td>0.1</td>\n",
       "      <td>30.0</td>\n",
       "      <td>168.958672</td>\n",
       "      <td>191.260294</td>\n",
       "      <td>0.0</td>\n",
       "      <td>0.007143</td>\n",
       "      <td>NaN</td>\n",
       "    </tr>\n",
       "  </tbody>\n",
       "</table>\n",
       "</div>"
      ],
      "text/plain": [
       "NAME  tau equiv_pldn conc_dfnb temperature         sty    e_factor  \\\n",
       "TYPE DATA       DATA      DATA        DATA        DATA        DATA   \n",
       "0     1.5        0.5       0.1        30.0  168.958672  191.260294   \n",
       "\n",
       "NAME computation_t experiment_t strategy  \n",
       "TYPE      METADATA     METADATA METADATA  \n",
       "0              0.0     0.007143      NaN  "
      ]
     },
     "execution_count": 3,
     "metadata": {},
     "output_type": "execute_result"
    }
   ],
   "source": [
    "# Create some test conditions\n",
    "columns = [v.name for v in lab.domain.variables]\n",
    "values  =   {('tau', 'DATA'): 1.5,  # minutes\n",
    "             ('equiv_pldn', 'DATA'): 0.5,  \n",
    "             ('conc_dfnb', 'DATA'): 0.1, #molar\n",
    "             ('temperature', 'DATA'): 30.0, # degrees celsius\n",
    "              }\n",
    "conditions = DataSet([values], columns=columns)\n",
    "\n",
    "# Run the conditions\n",
    "lab.reset()\n",
    "results = lab.run_experiments(conditions)\n",
    "results"
   ]
  },
  {
   "cell_type": "markdown",
   "metadata": {},
   "source": [
    "In the above code, we put our reaction conditions in a summit DataSet, which is a Pandas dataframe that allows us to specify certain columns as metadata. For example, the experiment time column is a metadata column. That's why the values dictionary has tuples that specify the type of columns (DATA vs. METADATA).  \n",
    "\n",
    "We run the virtual experiment using `lab.run_experiments`, which integrates the kinetic equations at the conditions given. The results are printed out.\n",
    "\n",
    "We can see that these conditions give a very low space-time yield (a good value would be around >10,000 kg/m^3/h) and high E-factor (a good value would be <10).  So, let's try to optimze the conditions. "
   ]
  },
  {
   "cell_type": "markdown",
   "metadata": {},
   "source": [
    "### Random Strategy\n",
    "\n",
    "In Summit, methods for optimizing reactions are called strategies. There are six strategies available, each with different capabilities. The advantage of using Summit is that we can quickly and easily test out different strategies on a problem to see which one performs best. \n",
    "\n",
    "We are going to first use a random strategy as a baseline, where each experiment is selected at random. Any advanced strategies should at least perform better than this."
   ]
  },
  {
   "cell_type": "code",
   "execution_count": 4,
   "metadata": {},
   "outputs": [
    {
     "data": {
      "image/png": "[encoded data removed]",
      "text/plain": [
       "<Figure size 432x288 with 1 Axes>"
      ]
     },
     "metadata": {
      "needs_background": "light"
     },
     "output_type": "display_data"
    }
   ],
   "source": [
    "from summit.benchmarks import SnarBenchmark\n",
    "from summit.strategies import Random\n",
    "import matplotlib.pyplot as plt\n",
    "from IPython.display import clear_output\n",
    "\n",
    "#Set up the laboratory\n",
    "lab = SnarBenchmark()\n",
    "lab.reset()\n",
    "\n",
    "# Instantiate random sampling strategy\n",
    "random = Random(lab.domain)\n",
    "names = [r'Space Time Yield ($kg \\; m^{-3} h^{-1}$)', 'E-factor']\n",
    "\n",
    "# Run random sampling\n",
    "print(\"Running Random sampling\")\n",
    "for i in range(80):\n",
    "    \n",
    "    # Get Random suggestions\n",
    "    experiments = random.suggest_experiments(1)\n",
    "    \n",
    "    # Run experiments\n",
    "    results = lab.run_experiments(experiments)\n",
    "\n",
    "    # Update plot every 5 iterations\n",
    "    if i % 5 == 0:\n",
    "        clear_output(wait=True)\n",
    "        fig, ax = lab.pareto_plot()\n",
    "        ax.set_xlabel(names[0])\n",
    "        ax.set_ylabel(names[1])\n",
    " \n",
    "        ax.tick_params(direction='in')\n",
    "        plt.show(fig)\n",
    "        print(f\"Running random iterations {i+1} to {i+5}\")\n",
    "\n",
    "clear_output(wait=True)\n",
    "fig, ax = lab.pareto_plot()\n",
    "ax.set_xlabel(names[0])\n",
    "ax.set_ylabel(names[1])\n",
    "ax.set_title(f\"Random iteration {i}\")\n",
    "ax.tick_params(direction='in')\n",
    "plt.show(fig)"
   ]
  },
  {
   "cell_type": "markdown",
   "metadata": {},
   "source": [
    "In the above code, we start by creating the laboratory as we did before. We then setup the random strategy using `Random`and ask it for experiments using `suggest_experiments`. We run those experiments and plot the results. \n",
    "\n",
    "The above plot is a pareto plot. Each point in the above plot represents the objective values for a different set of reaction conditons. The pareto front shows the conditions that optimize space-time yield at the cost of E-factor and vice versa. "
   ]
  },
  {
   "cell_type": "markdown",
   "metadata": {},
   "source": [
    "### TSEMO Strategy\n",
    "\n",
    "TSEMO is a multiobjective optimization strategy, meaning that it can find the tradeoffs between two competing objectives. Below, is all the code needed to run TSEMO. Note that running this code will take a few minutes."
   ]
  },
  {
   "cell_type": "code",
   "execution_count": 12,
   "metadata": {},
   "outputs": [
    {
     "data": {
      "image/png": "[encoded data removed]",
      "text/plain": [
       "<Figure size 432x288 with 1 Axes>"
      ]
     },
     "metadata": {
      "needs_background": "light"
     },
     "output_type": "display_data"
    }
   ],
   "source": [
    "from summit.benchmarks import SnarBenchmark\n",
    "from summit.strategies import TSEMO\n",
    "import matplotlib.pyplot as plt\n",
    "import numpy as np\n",
    "from IPython.display import clear_output\n",
    "\n",
    "#Set up the laboratory\n",
    "lab = SnarBenchmark()\n",
    "lab.reset()\n",
    "\n",
    "# Set up the TSEMO strategy\n",
    "tsemo = TSEMO(lab.domain, n_spectral_samples=1500)\n",
    "names = [r'Space Time Yield ($kg \\; m^{-3} h^{-1}$)', 'E-factor']\n",
    "\n",
    "# Plot initial experiments\n",
    "fig, ax = lab.pareto_plot()\n",
    "ax.set_xlabel(names[0])\n",
    "ax.set_ylabel(names[1])\n",
    "plt.show(fig)\n",
    "\n",
    "# Run TSEMO\n",
    "print(\"Running TSEMO\")\n",
    "results=None\n",
    "for i in range(50):    \n",
    "    # Get TSEMO suggestions\n",
    "    experiments = tsemo.suggest_experiments(1, prev_res=results)\n",
    "    \n",
    "    # Run experiments\n",
    "    results = lab.run_experiments(experiments)\n",
    "\n",
    "    # Update plot every 5 iterations\n",
    "    if i % 5 == 0:\n",
    "        clear_output(wait=True) # Clear the previous plot\n",
    "        fig, ax = lab.pareto_plot()\n",
    "        ax.set_xlabel(names[0])\n",
    "        ax.set_ylabel(names[1])\n",
    "        ax.set_title(f\"TSEMO iteration {i}\")\n",
    "        ax.set_yscale('log')\n",
    "        ax.tick_params(direction='in')\n",
    "        plt.show(fig)\n",
    "        print(f\"Running TSEMO iteration {i+1}\")\n",
    "\n",
    "# Make final plot\n",
    "clear_output(wait=True)\n",
    "fig, ax = lab.pareto_plot()\n",
    "ax.set_xlabel(names[0])\n",
    "ax.set_ylabel(names[1])\n",
    "ax.set_title(f\"TSEMO iteration {i}\")\n",
    "ax.tick_params(direction='in')\n",
    "plt.show(fig)"
   ]
  },
  {
   "cell_type": "code",
   "execution_count": 6,
   "metadata": {},
   "outputs": [
    {
     "data": {
      "image/png": "[encoded data removed]",
      "text/plain": [
       "<Figure size 432x288 with 1 Axes>"
      ]
     },
     "metadata": {
      "needs_background": "light"
     },
     "output_type": "display_data"
    }
   ],
   "source": [
    "# Just showing the pareto front\n",
    "clear_output(wait=True)\n",
    "fig, ax = lab.pareto_plot()\n",
    "ax.set_xlabel(names[0])\n",
    "ax.set_ylabel(names[1])\n",
    "ax.set_title(f\"TSEMO iteration {i}\")\n",
    "ax.set_ylim(9, 11)\n",
    "ax.tick_params(direction='in')\n",
    "plt.show(fig)"
   ]
  },
  {
   "cell_type": "markdown",
   "metadata": {},
   "source": [
    "The code above is very similar to the random sampling code with some minor changes. We start by asking TSEMO for 30 experiments. Since we don't pass any previous results, it will use latin hypercube sampling, which is a space-filling random sampling technique, to get initial experiments. As shown in the above plot, the points choosen are quite random and give a good sampling of the space.\n",
    "\n",
    "Then, we run TSEMO in earnest for 50 more iterations, asking for one experiment each time. Note that we transform the objectives into log space, since this has been shown to improve the performance of optimization algorithms. \n",
    "\n",
    "As we ask for more experiments, we better see the pareto front, which represents the trade off between space-time yield and E-factor. We show the pareto front more clearly below. In the second plot, its clear how TSEMO chooses many more optimal or near optimal points than random sampling.\n",
    "\n",
    "Below we print out the pareto front conditions for the SnAr reaction."
   ]
  },
  {
   "cell_type": "code",
   "execution_count": 250,
   "metadata": {},
   "outputs": [
    {
     "data": {
      "text/html": [
       "<div>\n",
       "<style scoped>\n",
       "    .dataframe tbody tr th:only-of-type {\n",
       "        vertical-align: middle;\n",
       "    }\n",
       "\n",
       "    .dataframe tbody tr th {\n",
       "        vertical-align: top;\n",
       "    }\n",
       "\n",
       "    .dataframe thead th {\n",
       "        text-align: right;\n",
       "    }\n",
       "</style>\n",
       "<table border=\"1\" class=\"dataframe\">\n",
       "  <thead>\n",
       "    <tr style=\"text-align: right;\">\n",
       "      <th></th>\n",
       "      <th>tau</th>\n",
       "      <th>equiv_pldn</th>\n",
       "      <th>conc_dfnb</th>\n",
       "      <th>temperature</th>\n",
       "      <th>sty</th>\n",
       "      <th>e_factor</th>\n",
       "      <th>computation_time</th>\n",
       "      <th>experiment_time</th>\n",
       "      <th>strategy</th>\n",
       "    </tr>\n",
       "  </thead>\n",
       "  <tbody>\n",
       "    <tr>\n",
       "      <th>388</th>\n",
       "      <td>0.846752</td>\n",
       "      <td>1.817991</td>\n",
       "      <td>0.494767</td>\n",
       "      <td>47.544955</td>\n",
       "      <td>6663.547974</td>\n",
       "      <td>9.784374</td>\n",
       "      <td>4.712905</td>\n",
       "      <td>0.004277</td>\n",
       "      <td>TSEMO2</td>\n",
       "    </tr>\n",
       "    <tr>\n",
       "      <th>713</th>\n",
       "      <td>1.605081</td>\n",
       "      <td>1.293420</td>\n",
       "      <td>0.498311</td>\n",
       "      <td>69.999020</td>\n",
       "      <td>3535.282155</td>\n",
       "      <td>9.553033</td>\n",
       "      <td>3.900388</td>\n",
       "      <td>0.004382</td>\n",
       "      <td>TSEMO2</td>\n",
       "    </tr>\n",
       "    <tr>\n",
       "      <th>867</th>\n",
       "      <td>0.845041</td>\n",
       "      <td>1.296763</td>\n",
       "      <td>0.488834</td>\n",
       "      <td>84.814663</td>\n",
       "      <td>6564.653961</td>\n",
       "      <td>9.745980</td>\n",
       "      <td>4.398601</td>\n",
       "      <td>0.003978</td>\n",
       "      <td>TSEMO2</td>\n",
       "    </tr>\n",
       "    <tr>\n",
       "      <th>274</th>\n",
       "      <td>0.864869</td>\n",
       "      <td>1.324289</td>\n",
       "      <td>0.496886</td>\n",
       "      <td>92.616767</td>\n",
       "      <td>6466.718639</td>\n",
       "      <td>9.705964</td>\n",
       "      <td>4.014828</td>\n",
       "      <td>0.004296</td>\n",
       "      <td>TSEMO2</td>\n",
       "    </tr>\n",
       "    <tr>\n",
       "      <th>749</th>\n",
       "      <td>0.774055</td>\n",
       "      <td>1.353482</td>\n",
       "      <td>0.488045</td>\n",
       "      <td>87.629348</td>\n",
       "      <td>7135.611494</td>\n",
       "      <td>9.812046</td>\n",
       "      <td>4.073402</td>\n",
       "      <td>0.004100</td>\n",
       "      <td>TSEMO2</td>\n",
       "    </tr>\n",
       "    <tr>\n",
       "      <th>876</th>\n",
       "      <td>0.901703</td>\n",
       "      <td>1.131961</td>\n",
       "      <td>0.499655</td>\n",
       "      <td>93.398575</td>\n",
       "      <td>6236.145167</td>\n",
       "      <td>9.572239</td>\n",
       "      <td>6.082278</td>\n",
       "      <td>0.007380</td>\n",
       "      <td>TSEMO2</td>\n",
       "    </tr>\n",
       "    <tr>\n",
       "      <th>112</th>\n",
       "      <td>1.854376</td>\n",
       "      <td>1.141609</td>\n",
       "      <td>0.499815</td>\n",
       "      <td>74.038180</td>\n",
       "      <td>3063.583040</td>\n",
       "      <td>9.480495</td>\n",
       "      <td>6.756613</td>\n",
       "      <td>0.004294</td>\n",
       "      <td>TSEMO2</td>\n",
       "    </tr>\n",
       "    <tr>\n",
       "      <th>862</th>\n",
       "      <td>1.223413</td>\n",
       "      <td>1.281558</td>\n",
       "      <td>0.499545</td>\n",
       "      <td>79.013165</td>\n",
       "      <td>4636.978563</td>\n",
       "      <td>9.553696</td>\n",
       "      <td>6.201299</td>\n",
       "      <td>0.006104</td>\n",
       "      <td>TSEMO2</td>\n",
       "    </tr>\n",
       "  </tbody>\n",
       "</table>\n",
       "</div>"
      ],
      "text/plain": [
       "NAME       tau  equiv_pldn  conc_dfnb  temperature          sty  e_factor  \\\n",
       "388   0.846752    1.817991   0.494767    47.544955  6663.547974  9.784374   \n",
       "713   1.605081    1.293420   0.498311    69.999020  3535.282155  9.553033   \n",
       "867   0.845041    1.296763   0.488834    84.814663  6564.653961  9.745980   \n",
       "274   0.864869    1.324289   0.496886    92.616767  6466.718639  9.705964   \n",
       "749   0.774055    1.353482   0.488045    87.629348  7135.611494  9.812046   \n",
       "876   0.901703    1.131961   0.499655    93.398575  6236.145167  9.572239   \n",
       "112   1.854376    1.141609   0.499815    74.038180  3063.583040  9.480495   \n",
       "862   1.223413    1.281558   0.499545    79.013165  4636.978563  9.553696   \n",
       "\n",
       "NAME  computation_time  experiment_time strategy  \n",
       "388           4.712905         0.004277   TSEMO2  \n",
       "713           3.900388         0.004382   TSEMO2  \n",
       "867           4.398601         0.003978   TSEMO2  \n",
       "274           4.014828         0.004296   TSEMO2  \n",
       "749           4.073402         0.004100   TSEMO2  \n",
       "876           6.082278         0.007380   TSEMO2  \n",
       "112           6.756613         0.004294   TSEMO2  \n",
       "862           6.201299         0.006104   TSEMO2  "
      ]
     },
     "execution_count": 250,
     "metadata": {},
     "output_type": "execute_result"
    }
   ],
   "source": [
    "from summit.utils.multiobjective import pareto_efficient\n",
    "\n",
    "objectives = [v.name for v in lab.domain.variables\n",
    "              if v.is_objective]\n",
    "data = lab.data[objectives].copy()\n",
    "\n",
    "#Handle minimize objectives\n",
    "for objective in objectives:\n",
    "    if not lab.domain[objective].maximize:\n",
    "        data[objective] = -1.0*data[objective]\n",
    "\n",
    "values, indices = pareto_efficient(data.to_numpy(),\n",
    "                                   maximize=True)\n",
    "\n",
    "pareto_data = lab.data.iloc[indices]\n",
    "pareto_data"
   ]
  },
  {
   "cell_type": "markdown",
   "metadata": {},
   "source": [
    "## Runner"
   ]
  },
  {
   "cell_type": "markdown",
   "metadata": {},
   "source": [
    "### Running Experiments Externally\n",
    "\n",
    "Running experiments externally is the most common use of summit. There is a simple set of commands that allows you to do this. Let's say we are going to run the SnarBenchmark ourselves instead of in a closed-loop setup. We'll use TSEMO since this is a multiobjective problem."
   ]
  },
  {
   "cell_type": "code",
   "execution_count": 14,
   "metadata": {},
   "outputs": [],
   "source": [
    "# Import the necessary classes\n",
    "from summit.benchmarks import SnarBenchmark\n",
    "from summit.strategies import TSEMO2\n",
    "from summit.utils.dataset import DataSet"
   ]
  },
  {
   "cell_type": "code",
   "execution_count": 15,
   "metadata": {},
   "outputs": [
    {
     "data": {
      "text/html": [
       "<div>\n",
       "<style scoped>\n",
       "    .dataframe tbody tr th:only-of-type {\n",
       "        vertical-align: middle;\n",
       "    }\n",
       "\n",
       "    .dataframe tbody tr th {\n",
       "        vertical-align: top;\n",
       "    }\n",
       "\n",
       "    .dataframe thead th {\n",
       "        text-align: right;\n",
       "    }\n",
       "</style>\n",
       "<table border=\"1\" class=\"dataframe\">\n",
       "  <thead>\n",
       "    <tr style=\"text-align: right;\">\n",
       "      <th></th>\n",
       "      <th>tau</th>\n",
       "      <th>equiv_pldn</th>\n",
       "      <th>conc_dfnb</th>\n",
       "      <th>temperature</th>\n",
       "      <th>strategy</th>\n",
       "    </tr>\n",
       "  </thead>\n",
       "  <tbody>\n",
       "    <tr>\n",
       "      <th>0</th>\n",
       "      <td>0.65</td>\n",
       "      <td>2.2</td>\n",
       "      <td>0.46</td>\n",
       "      <td>75.0</td>\n",
       "      <td>LHS</td>\n",
       "    </tr>\n",
       "    <tr>\n",
       "      <th>1</th>\n",
       "      <td>0.95</td>\n",
       "      <td>3.0</td>\n",
       "      <td>0.38</td>\n",
       "      <td>111.0</td>\n",
       "      <td>LHS</td>\n",
       "    </tr>\n",
       "    <tr>\n",
       "      <th>2</th>\n",
       "      <td>1.25</td>\n",
       "      <td>4.6</td>\n",
       "      <td>0.14</td>\n",
       "      <td>57.0</td>\n",
       "      <td>LHS</td>\n",
       "    </tr>\n",
       "    <tr>\n",
       "      <th>3</th>\n",
       "      <td>1.85</td>\n",
       "      <td>3.8</td>\n",
       "      <td>0.30</td>\n",
       "      <td>39.0</td>\n",
       "      <td>LHS</td>\n",
       "    </tr>\n",
       "    <tr>\n",
       "      <th>4</th>\n",
       "      <td>1.55</td>\n",
       "      <td>1.4</td>\n",
       "      <td>0.22</td>\n",
       "      <td>93.0</td>\n",
       "      <td>LHS</td>\n",
       "    </tr>\n",
       "  </tbody>\n",
       "</table>\n",
       "</div>"
      ],
      "text/plain": [
       "NAME   tau  equiv_pldn  conc_dfnb  temperature strategy\n",
       "0     0.65         2.2       0.46         75.0      LHS\n",
       "1     0.95         3.0       0.38        111.0      LHS\n",
       "2     1.25         4.6       0.14         57.0      LHS\n",
       "3     1.85         3.8       0.30         39.0      LHS\n",
       "4     1.55         1.4       0.22         93.0      LHS"
      ]
     },
     "execution_count": 15,
     "metadata": {},
     "output_type": "execute_result"
    }
   ],
   "source": [
    "# We are just going to get the domain from the SnarBenchmark\n",
    "exp = SnarBenchmark()\n",
    "\n",
    "# Instatiate TSEMO\n",
    "tsemo = TSEMO2(exp.domain)\n",
    "\n",
    "# To get the first experiments\n",
    "next_experiments = tsemo.suggest_experiments(5)\n",
    "next_experiments"
   ]
  },
  {
   "cell_type": "markdown",
   "metadata": {},
   "source": [
    "You'll notice that the first set of experiments was generated by LHS or latin hypercube sampling. We'll need to go to the lab and run experiments at those conditions. \n",
    "\n",
    "Since it might be a while before we come back, let's save what we've done up until now. We save a file called `snar_tsemo_external.json` which contains all of the information we need to reproduce our work up to this point.  We will also produce a CSV with the suggested conditions, which we can use to record the results of our experiments. "
   ]
  },
  {
   "cell_type": "code",
   "execution_count": 16,
   "metadata": {},
   "outputs": [],
   "source": [
    "# Save TSEMO hyperparameters and internal state\n",
    "tsemo.save('assets/snar_tsemo_external.json')\n",
    "# Save experiments to CSV\n",
    "next_experiments.to_csv('assets/snar_experiments_external_0.csv')"
   ]
  },
  {
   "cell_type": "markdown",
   "metadata": {},
   "source": [
    "Normally, we would now go and run the experiments separately and add a column for sty and yield with our results. We could do that in Excel. However, since this is just a demonstration, we'll simulate the experiments using the SnarBenchmark class and save the results to a CSV. "
   ]
  },
  {
   "cell_type": "code",
   "execution_count": 17,
   "metadata": {},
   "outputs": [],
   "source": [
    "# \"Run\" the experiments and save to CSV.\n",
    "results = exp.run_experiments(next_experiments)\n",
    "results.to_csv('assets/snar_experiments_external_1.csv')"
   ]
  },
  {
   "cell_type": "markdown",
   "metadata": {},
   "source": [
    "Now that we have run the conditions, we can load TSEMO and the data back in from the files we saved."
   ]
  },
  {
   "cell_type": "code",
   "execution_count": 24,
   "metadata": {},
   "outputs": [
    {
     "data": {
      "text/html": [
       "<div>\n",
       "<style scoped>\n",
       "    .dataframe tbody tr th:only-of-type {\n",
       "        vertical-align: middle;\n",
       "    }\n",
       "\n",
       "    .dataframe tbody tr th {\n",
       "        vertical-align: top;\n",
       "    }\n",
       "\n",
       "    .dataframe thead th {\n",
       "        text-align: right;\n",
       "    }\n",
       "</style>\n",
       "<table border=\"1\" class=\"dataframe\">\n",
       "  <thead>\n",
       "    <tr style=\"text-align: right;\">\n",
       "      <th></th>\n",
       "      <th>tau</th>\n",
       "      <th>equiv_pldn</th>\n",
       "      <th>conc_dfnb</th>\n",
       "      <th>temperature</th>\n",
       "      <th>sty</th>\n",
       "      <th>e_factor</th>\n",
       "      <th>computation_t</th>\n",
       "      <th>experiment_t</th>\n",
       "      <th>strategy</th>\n",
       "    </tr>\n",
       "  </thead>\n",
       "  <tbody>\n",
       "    <tr>\n",
       "      <th>0</th>\n",
       "      <td>0.65</td>\n",
       "      <td>2.2</td>\n",
       "      <td>0.46</td>\n",
       "      <td>75</td>\n",
       "      <td>7786.66</td>\n",
       "      <td>10.987</td>\n",
       "      <td>0</td>\n",
       "      <td>0.0123229</td>\n",
       "      <td>LHS</td>\n",
       "    </tr>\n",
       "    <tr>\n",
       "      <th>1</th>\n",
       "      <td>0.95</td>\n",
       "      <td>3</td>\n",
       "      <td>0.38</td>\n",
       "      <td>111</td>\n",
       "      <td>2887.74</td>\n",
       "      <td>20.6038</td>\n",
       "      <td>0</td>\n",
       "      <td>0.011729</td>\n",
       "      <td>LHS</td>\n",
       "    </tr>\n",
       "    <tr>\n",
       "      <th>2</th>\n",
       "      <td>1.25</td>\n",
       "      <td>4.6</td>\n",
       "      <td>0.14</td>\n",
       "      <td>57</td>\n",
       "      <td>1249.55</td>\n",
       "      <td>32.8315</td>\n",
       "      <td>0</td>\n",
       "      <td>0.00975466</td>\n",
       "      <td>LHS</td>\n",
       "    </tr>\n",
       "    <tr>\n",
       "      <th>3</th>\n",
       "      <td>1.85</td>\n",
       "      <td>3.8</td>\n",
       "      <td>0.3</td>\n",
       "      <td>39</td>\n",
       "      <td>1796.91</td>\n",
       "      <td>16.4831</td>\n",
       "      <td>0</td>\n",
       "      <td>0.0111432</td>\n",
       "      <td>LHS</td>\n",
       "    </tr>\n",
       "    <tr>\n",
       "      <th>4</th>\n",
       "      <td>1.55</td>\n",
       "      <td>1.4</td>\n",
       "      <td>0.22</td>\n",
       "      <td>93</td>\n",
       "      <td>1595.83</td>\n",
       "      <td>20.4113</td>\n",
       "      <td>0</td>\n",
       "      <td>0.00985384</td>\n",
       "      <td>LHS</td>\n",
       "    </tr>\n",
       "  </tbody>\n",
       "</table>\n",
       "</div>"
      ],
      "text/plain": [
       "NAME   tau equiv_pldn conc_dfnb temperature      sty e_factor computation_t  \\\n",
       "0     0.65        2.2      0.46          75  7786.66   10.987             0   \n",
       "1     0.95          3      0.38         111  2887.74  20.6038             0   \n",
       "2     1.25        4.6      0.14          57  1249.55  32.8315             0   \n",
       "3     1.85        3.8       0.3          39  1796.91  16.4831             0   \n",
       "4     1.55        1.4      0.22          93  1595.83  20.4113             0   \n",
       "\n",
       "NAME experiment_t strategy  \n",
       "0       0.0123229      LHS  \n",
       "1        0.011729      LHS  \n",
       "2      0.00975466      LHS  \n",
       "3       0.0111432      LHS  \n",
       "4      0.00985384      LHS  "
      ]
     },
     "execution_count": 24,
     "metadata": {},
     "output_type": "execute_result"
    }
   ],
   "source": [
    "# Load in previous TSEMO hyperparameters and internal state\n",
    "tsemo = TSEMO2.load('assets/snar_tsemo_external.json')\n",
    "\n",
    "# Load in experimental results\n",
    "prev_res = DataSet.read_csv('assets/snar_experiments_external_1.csv')\n",
    "prev_res"
   ]
  },
  {
   "cell_type": "markdown",
   "metadata": {},
   "source": [
    "Now, we can run TSEMO again and ask for new suggested conditions based on the first set of experiments."
   ]
  },
  {
   "cell_type": "code",
   "execution_count": 26,
   "metadata": {},
   "outputs": [
    {
     "data": {
      "text/html": [
       "<div>\n",
       "<style scoped>\n",
       "    .dataframe tbody tr th:only-of-type {\n",
       "        vertical-align: middle;\n",
       "    }\n",
       "\n",
       "    .dataframe tbody tr th {\n",
       "        vertical-align: top;\n",
       "    }\n",
       "\n",
       "    .dataframe thead th {\n",
       "        text-align: right;\n",
       "    }\n",
       "</style>\n",
       "<table border=\"1\" class=\"dataframe\">\n",
       "  <thead>\n",
       "    <tr style=\"text-align: right;\">\n",
       "      <th></th>\n",
       "      <th>tau</th>\n",
       "      <th>equiv_pldn</th>\n",
       "      <th>conc_dfnb</th>\n",
       "      <th>temperature</th>\n",
       "      <th>sty</th>\n",
       "      <th>e_factor</th>\n",
       "      <th>strategy</th>\n",
       "    </tr>\n",
       "  </thead>\n",
       "  <tbody>\n",
       "    <tr>\n",
       "      <th>418</th>\n",
       "      <td>0.503062</td>\n",
       "      <td>2.159430</td>\n",
       "      <td>0.333136</td>\n",
       "      <td>39.349317</td>\n",
       "      <td>8571.641870</td>\n",
       "      <td>20.263332</td>\n",
       "      <td>TSEMO2</td>\n",
       "    </tr>\n",
       "    <tr>\n",
       "      <th>417</th>\n",
       "      <td>1.942759</td>\n",
       "      <td>2.438533</td>\n",
       "      <td>0.218445</td>\n",
       "      <td>40.658336</td>\n",
       "      <td>1900.742195</td>\n",
       "      <td>20.262234</td>\n",
       "      <td>TSEMO2</td>\n",
       "    </tr>\n",
       "    <tr>\n",
       "      <th>340</th>\n",
       "      <td>0.937271</td>\n",
       "      <td>2.522983</td>\n",
       "      <td>0.455450</td>\n",
       "      <td>102.966221</td>\n",
       "      <td>3068.119187</td>\n",
       "      <td>20.300237</td>\n",
       "      <td>TSEMO2</td>\n",
       "    </tr>\n",
       "    <tr>\n",
       "      <th>896</th>\n",
       "      <td>1.273378</td>\n",
       "      <td>4.840805</td>\n",
       "      <td>0.212085</td>\n",
       "      <td>68.186840</td>\n",
       "      <td>1260.200774</td>\n",
       "      <td>21.023510</td>\n",
       "      <td>TSEMO2</td>\n",
       "    </tr>\n",
       "    <tr>\n",
       "      <th>506</th>\n",
       "      <td>0.915507</td>\n",
       "      <td>3.835045</td>\n",
       "      <td>0.486018</td>\n",
       "      <td>109.584684</td>\n",
       "      <td>3397.920469</td>\n",
       "      <td>20.275177</td>\n",
       "      <td>TSEMO2</td>\n",
       "    </tr>\n",
       "  </tbody>\n",
       "</table>\n",
       "</div>"
      ],
      "text/plain": [
       "NAME       tau  equiv_pldn  conc_dfnb  temperature          sty   e_factor  \\\n",
       "418   0.503062    2.159430   0.333136    39.349317  8571.641870  20.263332   \n",
       "417   1.942759    2.438533   0.218445    40.658336  1900.742195  20.262234   \n",
       "340   0.937271    2.522983   0.455450   102.966221  3068.119187  20.300237   \n",
       "896   1.273378    4.840805   0.212085    68.186840  1260.200774  21.023510   \n",
       "506   0.915507    3.835045   0.486018   109.584684  3397.920469  20.275177   \n",
       "\n",
       "NAME strategy  \n",
       "418    TSEMO2  \n",
       "417    TSEMO2  \n",
       "340    TSEMO2  \n",
       "896    TSEMO2  \n",
       "506    TSEMO2  "
      ]
     },
     "execution_count": 26,
     "metadata": {},
     "output_type": "execute_result"
    }
   ],
   "source": [
    "# Get experimental suggestions from TSEMO\n",
    "second_experiments = tsemo.suggest_experiments(5, prev_res=prev_res)\n",
    "\n",
    "# Save TSEMO state\n",
    "tsemo.save('assets/snar_tsemo_external_2.json')\n",
    "\n",
    "# Save experiments to CSV\n",
    "second_experiments.to_csv('assets/snar_experiments_external_2.csv')\n",
    "second_experiments"
   ]
  },
  {
   "cell_type": "markdown",
   "metadata": {},
   "source": [
    "We can repeat the the cycle of saving and loading the TSEMO paramters and next experiments until we are satisfied with the results."
   ]
  },
  {
   "cell_type": "markdown",
   "metadata": {},
   "source": [
    "### Running Closed Loop Experiments\n",
    "\n",
    "Summit has special functionality for running closed-loop experiments.  The runner class takes a strategy and experiment. It then get experiment suggestions from the strategy and runs the experiments.\n",
    "\n",
    "Note that in order to see the progress bar in jupyter, you'll need to install the jupyter or jupyterlab extension for ipywidgets. See [here](https://ipywidgets.readthedocs.io/en/latest/user_install.html#installing-the-jupyterlab-extension) for details."
   ]
  },
  {
   "cell_type": "code",
   "execution_count": 5,
   "metadata": {},
   "outputs": [],
   "source": [
    "# Import the necessary classes\n",
    "from summit.benchmarks import Hartmann3D\n",
    "from summit.strategies import SNOBFIT, NelderMead\n",
    "from summit.utils.dataset import DataSet\n",
    "from summit.run import Runner"
   ]
  },
  {
   "cell_type": "code",
   "execution_count": 36,
   "metadata": {},
   "outputs": [
    {
     "data": {
      "text/html": [
       "\n",
       "    <div>\n",
       "        <style>\n",
       "            /* Turns off some styling */\n",
       "            progress {\n",
       "                /* gets rid of default border in Firefox and Opera. */\n",
       "                border: none;\n",
       "                /* Needs to be in here for Safari polyfill so background images work as expected. */\n",
       "                background-size: auto;\n",
       "            }\n",
       "            .progress-bar-interrupted, .progress-bar-interrupted::-webkit-progress-bar {\n",
       "                background: #F44336;\n",
       "            }\n",
       "        </style>\n",
       "      <progress value='5' class='' max='5' style='width:300px; height:20px; vertical-align: middle;'></progress>\n",
       "      100.00% [5/5 00:00<00:00]\n",
       "    </div>\n",
       "    "
      ],
      "text/plain": [
       "<IPython.core.display.HTML object>"
      ]
     },
     "metadata": {},
     "output_type": "display_data"
    }
   ],
   "source": [
    "# Establish the experiment. Here, we are using one of the single objective test functions\n",
    "exp = Hartmann3D(maximize=True, constraints=False)\n",
    "\n",
    "# Set up the strategy, passing in the experimental domain.\n",
    "nm = NelderMead(exp.domain)\n",
    "\n",
    "# Use the runner to run closed loop experiments\n",
    "r = Runner(strategy=nm, experiment=exp, \n",
    "           max_iterations=5)\n",
    "r.run()"
   ]
  },
  {
   "cell_type": "markdown",
   "metadata": {},
   "source": [
    "We can also save and load the state of the runner to disk."
   ]
  },
  {
   "cell_type": "code",
   "execution_count": 47,
   "metadata": {},
   "outputs": [
    {
     "data": {
      "text/plain": [
       "<summit.run.Runner at 0x11fd629b0>"
      ]
     },
     "execution_count": 47,
     "metadata": {},
     "output_type": "execute_result"
    }
   ],
   "source": [
    "# Save everything to a file\n",
    "r.save('assets/snobfit_hartmann.json')\n",
    "\n",
    "# Load everything from a file\n",
    "Runner.load('assets/snobfit_hartmann.json')"
   ]
  },
  {
   "cell_type": "markdown",
   "metadata": {},
   "source": [
    "# Transforms\n",
    "Transforms can be used to change the representation of a particular domain to match the needs of a particular strategy. For example, there is a MultitoSingleObjective transform that converts multiobjective problems to single objectives problems. This makes multiobjective problems solvable by single objective strategies (e.g., SNOBFIT)."
   ]
  },
  {
   "cell_type": "code",
   "execution_count": 6,
   "metadata": {},
   "outputs": [],
   "source": [
    "from summit.benchmarks import SnarBenchmark\n",
    "from summit.strategies import (TSEMO2, SNOBFIT, Transform, \n",
    "                               LogSpaceObjectives, MultitoSingleObjective)\n",
    "from summit.utils.dataset import DataSet\n",
    "from summit.utils.multiobjective import pareto_efficient, HvI\n",
    "from IPython.display import clear_output\n",
    "import matplotlib.pyplot as plt"
   ]
  },
  {
   "cell_type": "code",
   "execution_count": 7,
   "metadata": {},
   "outputs": [
    {
     "data": {
      "text/html": [
       "<table id='domain' width=100%><tr><td><b>Name</b></td><td><b>Type</b></td><td><b>Description</b></td><td><b>Values</b></td></tr><tr><td>tau</td><td>continuous, input</td><td>residence time in minutes</td><td>[0.5,2]</td></tr><tr><td>equiv_pldn</td><td>continuous, input</td><td>equivalents of pyrrolidine</td><td>[1.0,5]</td></tr><tr><td>conc_dfnb</td><td>continuous, input</td><td>concentration of 2,4 dinitrofluorobenenze at reactor inlet (after mixing) in M</td><td>[0.1,0.5]</td></tr><tr><td>temperature</td><td>continuous, input</td><td>Reactor temperature in degress celsius</td><td>[30,120]</td></tr><tr><td>sty</td><td>continuous, maximize objective</td><td>space time yield (kg/m^3/h)</td><td>[0,100]</td></tr><tr><td>e_factor</td><td>continuous, minimize objective</td><td>E-factor</td><td>[0,10]</td></tr></table>"
      ],
      "text/plain": [
       "<summit.domain.Domain at 0x1238f4a90>"
      ]
     },
     "execution_count": 7,
     "metadata": {},
     "output_type": "execute_result"
    }
   ],
   "source": [
    "lab = SnarBenchmark()\n",
    "lab.domain"
   ]
  },
  {
   "cell_type": "code",
   "execution_count": 8,
   "metadata": {},
   "outputs": [
    {
     "data": {
      "image/png": "[encoded data removed]",
      "text/plain": [
       "<Figure size 432x288 with 1 Axes>"
      ]
     },
     "metadata": {
      "needs_background": "light"
     },
     "output_type": "display_data"
    }
   ],
   "source": [
    "lab.reset()\n",
    "\n",
    "# Set up the SNOBFIT strategy\n",
    "transform = MultitoSingleObjective(lab.domain, \n",
    "                                   expression='-sty/1e4+e_factor/100', \n",
    "                                   maximize=False)\n",
    "snobfit = SNOBFIT(lab.domain, transform=transform)\n",
    "\n",
    "names = [r'Space Time Yield ($kg \\; m^{-3} h^{-1}$)', 'E-factor']\n",
    "results= None\n",
    "prev_param = None\n",
    "\n",
    "# Run SNOBFIT\n",
    "print(\"Running SNOBFIT iteration 1\")\n",
    "for i in range(16):\n",
    "    # Get SNOBFIT suggestions\n",
    "    experiments, _, _, prev_param = snobfit.suggest_experiments(5, \n",
    "                                                               prev_res=results,\n",
    "                                                               prev_param=prev_param)\n",
    "    \n",
    "    # Run experiments\n",
    "    results = lab.run_experiments(experiments)\n",
    "    \n",
    "    clear_output(wait=True) # Clear the previous plot\n",
    "    fig, ax = lab.pareto_plot()\n",
    "    ax.set_xlabel(names[0])\n",
    "    ax.set_ylabel(names[1])\n",
    "    ax.set_title(f\"SNOBFIT iteration {i+1}\")\n",
    "    ax.set_yscale('log')\n",
    "    ax.tick_params(direction='in')\n",
    "    plt.show(fig)\n",
    "    print(f\"Running SNOBFIT iteration {i+2}\")\n",
    "    \n",
    "\n",
    "# Make final plot\n",
    "clear_output(wait=True)\n",
    "fig, ax = lab.pareto_plot()\n",
    "ax.set_xlabel(names[0])\n",
    "ax.set_ylabel(names[1])\n",
    "ax.set_title(f\"SNOBFIT iteration {i+1}\")\n",
    "ax.tick_params(direction='in')\n",
    "plt.show(fig)"
   ]
  },
  {
   "cell_type": "code",
   "execution_count": 9,
   "metadata": {},
   "outputs": [
    {
     "data": {
      "image/png": "[encoded data removed]",
      "text/plain": [
       "<Figure size 432x288 with 1 Axes>"
      ]
     },
     "metadata": {
      "needs_background": "light"
     },
     "output_type": "display_data"
    }
   ],
   "source": [
    "# Just showing the pareto front\n",
    "clear_output(wait=True)\n",
    "fig, ax = lab.pareto_plot()\n",
    "ax.set_xlabel(names[0])\n",
    "ax.set_ylabel(names[1])\n",
    "ax.set_title(f\"SNOBFIT iteration {i}\")\n",
    "ax.set_ylim(9, 11)\n",
    "ax.set_xlim(1e4, 1.16e4)\n",
    "ax.tick_params(direction='in')\n",
    "plt.show(fig)"
   ]
  }
 ],
 "metadata": {
  "kernelspec": {
   "display_name": "Python 3.7.3 64-bit ('summit-TfmmV07p-py3.7': venv)",
   "language": "python",
   "name": "python37364bitsummittfmmv07ppy37venv6fc212842bc44e839a51e6623a646abd"
  },
  "language_info": {
   "codemirror_mode": {
    "name": "ipython",
    "version": 3
   },
   "file_extension": ".py",
   "mimetype": "text/x-python",
   "name": "python",
   "nbconvert_exporter": "python",
   "pygments_lexer": "ipython3",
   "version": "3.7.3"
  },
  "toc-autonumbering": false,
  "toc-showcode": false,
  "toc-showmarkdowntxt": false
 },
 "nbformat": 4,
 "nbformat_minor": 4
}
