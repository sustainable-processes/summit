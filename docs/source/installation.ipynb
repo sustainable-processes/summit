{
 "cells": [
  {
   "cell_type": "markdown",
   "metadata": {},
   "source": [
    "# Installation"
   ]
  },
  {
   "cell_type": "markdown",
   "metadata": {},
   "source": [
    "The easiest way to install Summit is using pip:\n",
    "\n",
    "```bash\n",
    "pip install git+https://github.com/sustainable-processes/summit_private.git#egg=summit\n",
    "```"
   ]
  }
 ],
 "metadata": {
  "kernelspec": {
   "display_name": "Python 3.7.3 64-bit ('summit-TfmmV07p-py3.7': venv)",
   "language": "python",
   "name": "python37364bitsummittfmmv07ppy37venv6fc212842bc44e839a51e6623a646abd"
  },
  "language_info": {
   "codemirror_mode": {
    "name": "ipython",
    "version": 3
   },
   "file_extension": ".py",
   "mimetype": "text/x-python",
   "name": "python",
   "nbconvert_exporter": "python",
   "pygments_lexer": "ipython3",
   "version": "3.7.3"
  }
 },
 "nbformat": 4,
 "nbformat_minor": 4
}
