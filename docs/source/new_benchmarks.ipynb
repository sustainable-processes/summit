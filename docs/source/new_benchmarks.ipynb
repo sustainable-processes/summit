{
 "cells": [
  {
   "cell_type": "markdown",
   "metadata": {},
   "source": [
    "# Creating New Benchmarks\n",
    "\n",
    "Here we give a demonstration of how to train a new benchmark based on experimental data. We call these type of benchmarks `ExperimentalEmulato`. As an example, we are going to create a benchmark for the Suzuki-Miyaura Cross-Coupling reaction in [Reizman et al. (2016)](https://doi.org.1039/C6RE00153J). "
   ]
  },
  {
   "cell_type": "code",
   "execution_count": 19,
   "metadata": {},
   "outputs": [],
   "source": [
    "from summit.benchmarks import ExperimentalEmulator\n",
    "from summit.domain import *\n",
    "from summit.utils.dataset import DataSet"
   ]
  },
  {
   "cell_type": "markdown",
   "metadata": {},
   "source": [
    "## Create the domain\n",
    "\n",
    "We first need to create a domain. A domain contains all the decision variables, constraints and objectives for a benchmark."
   ]
  },
  {
   "cell_type": "code",
   "execution_count": 20,
   "metadata": {},
   "outputs": [],
   "source": [
    "domain = Domain()"
   ]
  },
  {
   "cell_type": "markdown",
   "metadata": {},
   "source": [
    "Above we instantiate a new domain without any variables. Here, we are going to manipulate the catalyst, base, catalyst loading, base stoichiometry and temperature. Our objectives are to maximise yield and minimise turn over number (TON). We can use the increment operator `+=` to add variables to the domain."
   ]
  },
  {
   "cell_type": "code",
   "execution_count": 21,
   "metadata": {},
   "outputs": [
    {
     "data": {
      "text/html": [
       "<table id='domain' width=100%><tr><td><b>Name</b></td><td><b>Type</b></td><td><b>Description</b></td><td><b>Values</b></td></tr><tr><td>catalyst</td><td>categorical, input</td><td>Catalyst type - different ligands</td><td>8 levels</td></tr><tr><td>t_res</td><td>continuous, input</td><td>Residence time in seconds (s)</td><td>[60,600]</td></tr><tr><td>temperature</td><td>continuous, input</td><td>Reactor temperature in degrees Celsius (ºC)</td><td>[30,110]</td></tr><tr><td>catalyst_loading</td><td>continuous, input</td><td>Catalyst loading in mol%</td><td>[0.5,2.5]</td></tr><tr><td>ton</td><td>continuous, maximize objective</td><td>Turnover number - moles product generated divided by moles catalyst used</td><td>[0,200]</td></tr><tr><td>yield</td><td>continuous, maximize objective</td><td>Yield</td><td>[0,100]</td></tr></table>"
      ],
      "text/plain": [
       "<summit.domain.Domain at 0x14e47cf28>"
      ]
     },
     "execution_count": 21,
     "metadata": {},
     "output_type": "execute_result"
    }
   ],
   "source": [
    "# Decision variables\n",
    "des_1 = \"Catalyst type - different ligands\"\n",
    "domain += CategoricalVariable(\n",
    "    name=\"catalyst\",\n",
    "    description=des_1,\n",
    "    levels=[\n",
    "        \"P1-L1\",\n",
    "        \"P2-L1\",\n",
    "        \"P1-L2\",\n",
    "        \"P1-L3\",\n",
    "        \"P1-L4\",\n",
    "        \"P1-L5\",\n",
    "        \"P1-L6\",\n",
    "        \"P1-L7\",\n",
    "    ],\n",
    ")\n",
    "\n",
    "des_2 = \"Residence time in seconds (s)\"\n",
    "domain += ContinuousVariable(name=\"t_res\", description=des_2, bounds=[60, 600])\n",
    "\n",
    "des_3 = \"Reactor temperature in degrees Celsius (ºC)\"\n",
    "domain += ContinuousVariable(\n",
    "    name=\"temperature\", description=des_3, bounds=[30, 110]\n",
    ")\n",
    "\n",
    "des_4 = \"Catalyst loading in mol%\"\n",
    "domain += ContinuousVariable(\n",
    "    name=\"catalyst_loading\", description=des_4, bounds=[0.5, 2.5]\n",
    ")\n",
    "\n",
    "# Objectives\n",
    "des_5 = (\n",
    "    \"Turnover number - moles product generated divided by moles catalyst used\"\n",
    ")\n",
    "domain += ContinuousVariable(\n",
    "    name=\"ton\",\n",
    "    description=des_5,\n",
    "    bounds=[0, 200],  # TODO: not sure about bounds, maybe redefine\n",
    "    is_objective=True,\n",
    "    maximize=True,\n",
    ")\n",
    "\n",
    "des_6 = \"Yield\"\n",
    "domain += ContinuousVariable(\n",
    "    name=\"yield\",\n",
    "    description=des_6,\n",
    "    bounds=[0, 100],\n",
    "    is_objective=True,\n",
    "    maximize=True,\n",
    ")\n",
    "\n",
    "domain"
   ]
  },
  {
   "cell_type": "markdown",
   "metadata": {},
   "source": [
    "## Create the Experimental Emulator\n",
    "\n",
    "Now we just need two lines of code to train the experimental emulator!  We first instantiate `ExperimentalEmulator` passing in the domain and a name for the model.  Next we train it on this [dataset](_static/reizman_suzuki_case1_train_test.csv) with two-fold cross-validation and a test set size of 25%. Make sure to replace the `csv_dataset` keyword argument with the path to your csv file. When you run this code, you will see the outputs from the training loop."
   ]
  },
  {
   "cell_type": "code",
   "execution_count": null,
   "metadata": {},
   "outputs": [],
   "source": [
    "emul = ExperimentalEmulator(domain=domain, model_name='my_reizman')\n",
    "emul.train(csv_dataset=\"_static/reizman_suzuki_case1_train_test.csv\", cv_fold=2, test_size=0.25)"
   ]
  },
  {
   "cell_type": "markdown",
   "metadata": {},
   "source": [
    "Now that the interal model is trained, we can use the experimental emulator. I print out the domain again to remind us of the variables"
   ]
  },
  {
   "cell_type": "code",
   "execution_count": 36,
   "metadata": {},
   "outputs": [
    {
     "data": {
      "text/html": [
       "<table id='domain' width=100%><tr><td><b>Name</b></td><td><b>Type</b></td><td><b>Description</b></td><td><b>Values</b></td></tr><tr><td>catalyst</td><td>categorical, input</td><td>Catalyst type - different ligands</td><td>8 levels</td></tr><tr><td>t_res</td><td>continuous, input</td><td>Residence time in seconds (s)</td><td>[60,600]</td></tr><tr><td>temperature</td><td>continuous, input</td><td>Reactor temperature in degrees Celsius (ºC)</td><td>[30,110]</td></tr><tr><td>catalyst_loading</td><td>continuous, input</td><td>Catalyst loading in mol%</td><td>[0.5,2.5]</td></tr><tr><td>ton</td><td>continuous, maximize objective</td><td>Turnover number - moles product generated divided by moles catalyst used</td><td>[0,200]</td></tr><tr><td>yield</td><td>continuous, maximize objective</td><td>Yield</td><td>[0,100]</td></tr></table>"
      ],
      "text/plain": [
       "<summit.domain.Domain at 0x14e47cf28>"
      ]
     },
     "execution_count": 36,
     "metadata": {},
     "output_type": "execute_result"
    }
   ],
   "source": [
    "domain"
   ]
  },
  {
   "cell_type": "code",
   "execution_count": 37,
   "metadata": {},
   "outputs": [
    {
     "data": {
      "text/html": [
       "<div>\n",
       "<style scoped>\n",
       "    .dataframe tbody tr th:only-of-type {\n",
       "        vertical-align: middle;\n",
       "    }\n",
       "\n",
       "    .dataframe tbody tr th {\n",
       "        vertical-align: top;\n",
       "    }\n",
       "\n",
       "    .dataframe thead th {\n",
       "        text-align: right;\n",
       "    }\n",
       "</style>\n",
       "<table border=\"1\" class=\"dataframe\">\n",
       "  <thead>\n",
       "    <tr style=\"text-align: right;\">\n",
       "      <th></th>\n",
       "      <th>catalyst</th>\n",
       "      <th>t_res</th>\n",
       "      <th>temperature</th>\n",
       "      <th>catalyst_loading</th>\n",
       "      <th>ton</th>\n",
       "      <th>yield</th>\n",
       "      <th>computation_t</th>\n",
       "      <th>experiment_t</th>\n",
       "      <th>strategy</th>\n",
       "    </tr>\n",
       "  </thead>\n",
       "  <tbody>\n",
       "    <tr>\n",
       "      <th>0</th>\n",
       "      <td>P1-L1</td>\n",
       "      <td>60</td>\n",
       "      <td>100</td>\n",
       "      <td>1.0</td>\n",
       "      <td>29.324177</td>\n",
       "      <td>44.329929</td>\n",
       "      <td>0.0</td>\n",
       "      <td>0.032469</td>\n",
       "      <td>NaN</td>\n",
       "    </tr>\n",
       "  </tbody>\n",
       "</table>\n",
       "</div>"
      ],
      "text/plain": [
       "NAME catalyst t_res temperature catalyst_loading        ton      yield  \\\n",
       "TYPE     DATA  DATA        DATA             DATA       DATA       DATA   \n",
       "0       P1-L1    60         100              1.0  29.324177  44.329929   \n",
       "\n",
       "NAME computation_t experiment_t strategy  \n",
       "TYPE      METADATA     METADATA METADATA  \n",
       "0              0.0     0.032469      NaN  "
      ]
     },
     "execution_count": 37,
     "metadata": {},
     "output_type": "execute_result"
    }
   ],
   "source": [
    "conditions = [[\"P1-L1\", 60, 100, 1.0]]\n",
    "conditions = DataSet(conditions, columns=[v.name for v in domain.input_variables])\n",
    "emul.run_experiments(conditions)"
   ]
  },
  {
   "cell_type": "markdown",
   "metadata": {},
   "source": [
    "Now we have a benchmark that can accept conditions and predict the yield and TON!"
   ]
  }
 ],
 "metadata": {
  "kernelspec": {
   "display_name": "Python 3.7.3 64-bit ('summit-TfmmV07p-py3.7': venv)",
   "language": "python",
   "name": "python37364bitsummittfmmv07ppy37venv6fc212842bc44e839a51e6623a646abd"
  },
  "language_info": {
   "codemirror_mode": {
    "name": "ipython",
    "version": 3
   },
   "file_extension": ".py",
   "mimetype": "text/x-python",
   "name": "python",
   "nbconvert_exporter": "python",
   "pygments_lexer": "ipython3",
   "version": "3.7.3"
  }
 },
 "nbformat": 4,
 "nbformat_minor": 4
}
