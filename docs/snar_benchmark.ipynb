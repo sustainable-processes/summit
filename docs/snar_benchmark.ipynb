{
 "cells": [
  {
   "cell_type": "markdown",
   "metadata": {},
   "source": [
    "## Benchmarks Tutorial\n",
    "\n",
    "In this tutorial, we demonstrate how summit can be used to optimize reactions automatically. We are going to optimize a nucleophilic aromatic substitution (SnAr) reaction through virtual experiments.\n",
    "\n",
    "![](assets/hone_2016_snar_chemistry.png)\n",
    "\n",
    "2,4 dinitrofluorobenzene (**1**) undergoes nucleophilic attack by pyrrolidine (**2**) to form the desired product **3**. Two side products **4** and **5** can also be formed. Overall, we want to maximize the amount of product formed and minimze side product formation and waste.\n",
    "\n",
    "The kinetics of this reaction were published by [Hone et al.](http://xlink.rsc.org/?DOI=C6RE00109B) We imagine a scenario where this reaction is to be optimized in a flow reactor. We have set up a \"virtual\" flow chemistry reactor in the `SnarBenchmark` using the published kinetics and standard chemical engineering equations. You simply supply the reaction conditions to `SnarBenchmark` and it will give back the results of a virtual experiment with those conditions. Think of it as your virtual laboratory.\n",
    "\n",
    "Below, we start importing the needed packages and setting up the virtual lab."
   ]
  },
  {
   "cell_type": "code",
   "execution_count": 1,
   "metadata": {},
   "outputs": [],
   "source": [
    "from summit.benchmarks import SnarBenchmark\n",
    "from summit.utils.dataset import DataSet"
   ]
  },
  {
   "cell_type": "code",
   "execution_count": 2,
   "metadata": {},
   "outputs": [
    {
     "data": {
      "text/html": [
       "<table id='domain' width=100%><tr><td><b>Name</b></td><td><b>Type</b></td><td><b>Description</b></td><td><b>Values</b></td></tr><tr><td>tau</td><td>continuous, input</td><td>residence time in minutes</td><td>[0.5,2]</td></tr><tr><td>equiv_pldn</td><td>continuous, input</td><td>equivalents of pyrrolidine</td><td>[1.0,5]</td></tr><tr><td>conc_dfnb</td><td>continuous, input</td><td>concentration of 2,4 dinitrofluorobenenze at reactor inlet (after mixing) in M</td><td>[0.1,0.5]</td></tr><tr><td>temperature</td><td>continuous, input</td><td>Reactor temperature in degress celsius</td><td>[30,120]</td></tr><tr><td>sty</td><td>continuous, maximize objective</td><td>space time yield (kg/m^3/h)</td><td>[0,100]</td></tr><tr><td>e_factor</td><td>continuous, minimize objective</td><td>E-factor</td><td>[0,10]</td></tr></table>"
      ],
      "text/plain": [
       "<summit.domain.Domain at 0x11b532f60>"
      ]
     },
     "execution_count": 2,
     "metadata": {},
     "output_type": "execute_result"
    }
   ],
   "source": [
    "# Instantiate the lab\n",
    "lab = SnarBenchmark()\n",
    "lab.domain"
   ]
  },
  {
   "cell_type": "markdown",
   "metadata": {},
   "source": [
    "We print out the `domain` which describes the optimization problem associated with `SnarBenchmark`.  The objectives are to maximize space-time yield (STY) and minimize E-factor. STY is the mass of product produced per reactor volume per time, and E-factor is the ratio of the mass of waste to mass of product. Waste is the amount of side product produced (**4** and **5**), unreacted starting material and solvent in the reactor outlet stream. By minimizing E-factor, we are effectively maximizing selectivity and reaction \"greeness\" at the same time.  \n",
    "\n",
    "We optimize the reactions by changing the residence time, inlet concentration of 2,4-dinitrofluorobenzene (**1**), equivalences of of pyrrolidine (**2**), and temperature. \n",
    "\n",
    "## Running a single experiment\n",
    "\n",
    "Before we do any optimization, let's get a sense of how our virtual laboratory works. Below, we run one virtual experiment with relatively mild conditions (residence time = 0.5 minutes, equiv of **2** = 1.5, concentration of **1** = 0.1 M and T = 30.0°C)."
   ]
  },
  {
   "cell_type": "code",
   "execution_count": 3,
   "metadata": {},
   "outputs": [
    {
     "data": {
      "text/html": [
       "<div>\n",
       "<style scoped>\n",
       "    .dataframe tbody tr th:only-of-type {\n",
       "        vertical-align: middle;\n",
       "    }\n",
       "\n",
       "    .dataframe tbody tr th {\n",
       "        vertical-align: top;\n",
       "    }\n",
       "\n",
       "    .dataframe thead th {\n",
       "        text-align: right;\n",
       "    }\n",
       "</style>\n",
       "<table border=\"1\" class=\"dataframe\">\n",
       "  <thead>\n",
       "    <tr style=\"text-align: right;\">\n",
       "      <th></th>\n",
       "      <th>tau</th>\n",
       "      <th>equiv_pldn</th>\n",
       "      <th>conc_dfnb</th>\n",
       "      <th>temperature</th>\n",
       "      <th>sty</th>\n",
       "      <th>e_factor</th>\n",
       "      <th>computation_time</th>\n",
       "      <th>experiment_time</th>\n",
       "      <th>strategy</th>\n",
       "    </tr>\n",
       "  </thead>\n",
       "  <tbody>\n",
       "    <tr>\n",
       "      <th>0</th>\n",
       "      <td>1.5</td>\n",
       "      <td>0.5</td>\n",
       "      <td>0.1</td>\n",
       "      <td>30.0</td>\n",
       "      <td>168.958672</td>\n",
       "      <td>191.260294</td>\n",
       "      <td>0.0</td>\n",
       "      <td>0.006465</td>\n",
       "      <td>NaN</td>\n",
       "    </tr>\n",
       "  </tbody>\n",
       "</table>\n",
       "</div>"
      ],
      "text/plain": [
       "NAME  tau  equiv_pldn  conc_dfnb  temperature         sty    e_factor  \\\n",
       "0     1.5         0.5        0.1         30.0  168.958672  191.260294   \n",
       "\n",
       "NAME  computation_time  experiment_time  strategy  \n",
       "0                  0.0         0.006465       NaN  "
      ]
     },
     "execution_count": 3,
     "metadata": {},
     "output_type": "execute_result"
    }
   ],
   "source": [
    "# Create some test conditions\n",
    "columns = [v.name for v in lab.domain.variables]\n",
    "values  =   {('tau', 'DATA'): 1.5,  # minutes\n",
    "             ('equiv_pldn', 'DATA'): 0.5,  \n",
    "             ('conc_dfnb', 'DATA'): 0.1, #molar\n",
    "             ('temperature', 'DATA'): 30.0, # degrees celsius\n",
    "              }\n",
    "conditions = DataSet([values], columns=columns)\n",
    "\n",
    "# Run the conditions\n",
    "lab.reset()\n",
    "results = lab.run_experiments(conditions)\n",
    "results"
   ]
  },
  {
   "cell_type": "markdown",
   "metadata": {},
   "source": [
    "In the above code, we put our reaction conditions in a summit DataSet, which is a Pandas dataframe that allows us to specify certain columns as metadata. For example, the experiment time column is a metadata column. That's why the values dictionary has tuples that specify the type of columns (DATA vs. METADATA).  \n",
    "\n",
    "We run the virtual experiment using `lab.run_experiments`, which integrates the kinetic equations at the conditions given. The results are printed out.\n",
    "\n",
    "We can see that these conditions give a relatively low space-time yield (a good value would be around 3,000 kg/m^3/h) and high E-factor (a good value would be <30).  So, let's try to optimze the conditions. "
   ]
  },
  {
   "cell_type": "markdown",
   "metadata": {},
   "source": [
    "## Optimization using TSEMO\n",
    "\n",
    "In summit, methods for optimizing reactions are called strategies. There are X strategies available, each with different capabilities. The advantage of using summit is that we can quickly and easily test out different strategies on a problem to see which one performs best. \n",
    "\n",
    "We are going to first use a random strategy as a baseline, where each experiment is selected at random. Any advanced strategies should at least perform better than this."
   ]
  },
  {
   "cell_type": "code",
   "execution_count": 4,
   "metadata": {},
   "outputs": [
    {
     "data": {
      "image/png": "[encoded data removed]",
      "text/plain": [
       "<Figure size 432x288 with 1 Axes>"
      ]
     },
     "metadata": {
      "needs_background": "light"
     },
     "output_type": "display_data"
    }
   ],
   "source": [
    "from summit.benchmarks import SnarBenchmark\n",
    "from summit.strategies import Random\n",
    "import matplotlib.pyplot as plt\n",
    "from IPython.display import clear_output\n",
    "\n",
    "#Set up the laboratory\n",
    "lab = SnarBenchmark()\n",
    "lab.reset()\n",
    "\n",
    "# Instantiate random sampling strategy\n",
    "random = Random(lab.domain)\n",
    "names = [r'Space Time Yield ($kg \\; m^{-3} h^{-1}$)', 'E-factor']\n",
    "\n",
    "# Run random sampling\n",
    "print(\"Running Random sampling\")\n",
    "for i in range(80):\n",
    "    \n",
    "    # Get TSEMO suggestions\n",
    "    experiments = random.suggest_experiments(1)\n",
    "    \n",
    "    # Run experiments\n",
    "    results = lab.run_experiments(experiments)\n",
    "\n",
    "    # Update plot every 5 iterations\n",
    "    if i % 5 == 0:\n",
    "        clear_output(wait=True)\n",
    "        fig, ax = lab.pareto_plot()\n",
    "        ax.set_xlabel(names[0])\n",
    "        ax.set_ylabel(names[1])\n",
    " \n",
    "        ax.tick_params(direction='in')\n",
    "        plt.show(fig)\n",
    "        print(f\"Running random iterations {i+1} to {i+5}\")\n",
    "\n",
    "clear_output(wait=True)\n",
    "fig, ax = lab.pareto_plot()\n",
    "ax.set_xlabel(names[0])\n",
    "ax.set_ylabel(names[1])\n",
    "ax.set_title(f\"Random iteration {i}\")\n",
    "ax.tick_params(direction='in')\n",
    "plt.show(fig)"
   ]
  },
  {
   "cell_type": "markdown",
   "metadata": {},
   "source": [
    "In the above code, we start by creating the laboratory as we did before. We then setup the random strategy using `Random`and ask it for experiments using `suggest_experiments`. We run those experiments and plot the results. \n",
    "\n",
    "The above plot is a pareto plot. Each point in the above plot represents a different set of reaction conditons. The pareto front shows the conditions that optimize space-time yield at the cost of E-factor and vice versa. \n",
    "\n",
    "Let's now try something more advances. TSEMO is a multiobjective optimization strategy, meaning that it can find the tradeoffs between two competing objectives. Below, is all the code needed to run TSEMO. Note that running this code will take a few minutes."
   ]
  },
  {
   "cell_type": "code",
   "execution_count": 5,
   "metadata": {},
   "outputs": [
    {
     "data": {
      "image/png": "[encoded data removed]",
      "text/plain": [
       "<Figure size 432x288 with 1 Axes>"
      ]
     },
     "metadata": {
      "needs_background": "light"
     },
     "output_type": "display_data"
    }
   ],
   "source": [
    "from summit.benchmarks import SnarBenchmark\n",
    "from summit.strategies import TSEMO2\n",
    "import matplotlib.pyplot as plt\n",
    "import numpy as np\n",
    "from IPython.display import clear_output\n",
    "\n",
    "#Set up the laboratory\n",
    "lab = SnarBenchmark()\n",
    "lab.reset()\n",
    "\n",
    "# Set up the TSEMO strategy\n",
    "tsemo = TSEMO2(lab.domain, random_rate=0.25)\n",
    "names = [r'Space Time Yield ($kg \\; m^{-3} h^{-1}$)', 'E-factor']\n",
    "\n",
    "# Get and run initial experiments. TSEMO uses latin hypercube for initial designs\n",
    "print(\"Starting initial design\")\n",
    "experiments = tsemo.suggest_experiments(30)\n",
    "lab.run_experiments(experiments)\n",
    "\n",
    "# Plot initial experiments\n",
    "fig, ax = lab.pareto_plot()\n",
    "ax.set_xlabel(names[0])\n",
    "ax.set_ylabel(names[1])\n",
    "plt.show(fig)\n",
    "\n",
    "# Run TSEMO\n",
    "print(\"Running TSEMO\")\n",
    "for i in range(50):\n",
    "    # Transform objective data to log\n",
    "    previous_results = lab.data.copy()\n",
    "    previous_results[('sty', 'DATA')] = np.log(previous_results['sty'])\n",
    "    previous_results[('e_factor', 'DATA')] = np.log(previous_results['e_factor'])\n",
    "    \n",
    "    # Get TSEMO suggestions\n",
    "    experiments = tsemo.suggest_experiments(1, previous_results=previous_results)\n",
    "    \n",
    "    # Run experiments\n",
    "    results = lab.run_experiments(experiments)\n",
    "\n",
    "    # Update plot every 5 iterations\n",
    "    if i % 5 == 0:\n",
    "        clear_output(wait=True) # Clear the previous plot\n",
    "        fig, ax = lab.pareto_plot()\n",
    "        ax.set_xlabel(names[0])\n",
    "        ax.set_ylabel(names[1])\n",
    "        ax.set_title(f\"TSEMO iteration {i}\")\n",
    "        ax.set_yscale('log')\n",
    "        ax.tick_params(direction='in')\n",
    "        plt.show(fig)\n",
    "        print(f\"Running TSEMO iterations {i+1} to {i+5}\")\n",
    "\n",
    "# Make final plot\n",
    "clear_output(wait=True)\n",
    "fig, ax = lab.pareto_plot()\n",
    "ax.set_xlabel(names[0])\n",
    "ax.set_ylabel(names[1])\n",
    "ax.set_title(f\"TSEMO iteration {i}\")\n",
    "ax.tick_params(direction='in')\n",
    "plt.show(fig)"
   ]
  },
  {
   "cell_type": "code",
   "execution_count": 6,
   "metadata": {},
   "outputs": [
    {
     "data": {
      "image/png": "[encoded data removed]",
      "text/plain": [
       "<Figure size 432x288 with 1 Axes>"
      ]
     },
     "metadata": {
      "needs_background": "light"
     },
     "output_type": "display_data"
    }
   ],
   "source": [
    "# Just showing the pareto front\n",
    "clear_output(wait=True)\n",
    "fig, ax = lab.pareto_plot()\n",
    "ax.set_xlabel(names[0])\n",
    "ax.set_ylabel(names[1])\n",
    "ax.set_title(f\"TSEMO iteration {i}\")\n",
    "ax.set_ylim(9, 11)\n",
    "ax.tick_params(direction='in')\n",
    "plt.show(fig)"
   ]
  },
  {
   "cell_type": "markdown",
   "metadata": {},
   "source": [
    "The code above is very similar to the random sampling code with some minor changes. We start by asking TSEMO for 30 experiments. Since we don't pass any previous results, it will use latin hypercube sampling, which is a space-filling random sampling technique, to get initial experiments. As shown in the above plot, the points choosen are quite random and give a good sampling of the space.\n",
    "\n",
    "Then, we run TSEMO in earnest for 50 more iterations, asking for one experiment each time. Note that we transform the objectives into log space, since this has been shown to improve the performance of optimization algorithms. \n",
    "\n",
    "As we ask for more experiments, we better see the pareto front, which represents the trade off between space-time yield and E-factor. We show the pareto front more clearly below. In the second plot, its clear how TSEMO chooses many more optimal or near optimal points than random sampling.\n",
    "\n",
    "Below we print out the pareto front conditions for the SnAr reaction."
   ]
  },
  {
   "cell_type": "code",
   "execution_count": 250,
   "metadata": {},
   "outputs": [
    {
     "data": {
      "text/html": [
       "<div>\n",
       "<style scoped>\n",
       "    .dataframe tbody tr th:only-of-type {\n",
       "        vertical-align: middle;\n",
       "    }\n",
       "\n",
       "    .dataframe tbody tr th {\n",
       "        vertical-align: top;\n",
       "    }\n",
       "\n",
       "    .dataframe thead th {\n",
       "        text-align: right;\n",
       "    }\n",
       "</style>\n",
       "<table border=\"1\" class=\"dataframe\">\n",
       "  <thead>\n",
       "    <tr style=\"text-align: right;\">\n",
       "      <th></th>\n",
       "      <th>tau</th>\n",
       "      <th>equiv_pldn</th>\n",
       "      <th>conc_dfnb</th>\n",
       "      <th>temperature</th>\n",
       "      <th>sty</th>\n",
       "      <th>e_factor</th>\n",
       "      <th>computation_time</th>\n",
       "      <th>experiment_time</th>\n",
       "      <th>strategy</th>\n",
       "    </tr>\n",
       "  </thead>\n",
       "  <tbody>\n",
       "    <tr>\n",
       "      <th>388</th>\n",
       "      <td>0.846752</td>\n",
       "      <td>1.817991</td>\n",
       "      <td>0.494767</td>\n",
       "      <td>47.544955</td>\n",
       "      <td>6663.547974</td>\n",
       "      <td>9.784374</td>\n",
       "      <td>4.712905</td>\n",
       "      <td>0.004277</td>\n",
       "      <td>TSEMO2</td>\n",
       "    </tr>\n",
       "    <tr>\n",
       "      <th>713</th>\n",
       "      <td>1.605081</td>\n",
       "      <td>1.293420</td>\n",
       "      <td>0.498311</td>\n",
       "      <td>69.999020</td>\n",
       "      <td>3535.282155</td>\n",
       "      <td>9.553033</td>\n",
       "      <td>3.900388</td>\n",
       "      <td>0.004382</td>\n",
       "      <td>TSEMO2</td>\n",
       "    </tr>\n",
       "    <tr>\n",
       "      <th>867</th>\n",
       "      <td>0.845041</td>\n",
       "      <td>1.296763</td>\n",
       "      <td>0.488834</td>\n",
       "      <td>84.814663</td>\n",
       "      <td>6564.653961</td>\n",
       "      <td>9.745980</td>\n",
       "      <td>4.398601</td>\n",
       "      <td>0.003978</td>\n",
       "      <td>TSEMO2</td>\n",
       "    </tr>\n",
       "    <tr>\n",
       "      <th>274</th>\n",
       "      <td>0.864869</td>\n",
       "      <td>1.324289</td>\n",
       "      <td>0.496886</td>\n",
       "      <td>92.616767</td>\n",
       "      <td>6466.718639</td>\n",
       "      <td>9.705964</td>\n",
       "      <td>4.014828</td>\n",
       "      <td>0.004296</td>\n",
       "      <td>TSEMO2</td>\n",
       "    </tr>\n",
       "    <tr>\n",
       "      <th>749</th>\n",
       "      <td>0.774055</td>\n",
       "      <td>1.353482</td>\n",
       "      <td>0.488045</td>\n",
       "      <td>87.629348</td>\n",
       "      <td>7135.611494</td>\n",
       "      <td>9.812046</td>\n",
       "      <td>4.073402</td>\n",
       "      <td>0.004100</td>\n",
       "      <td>TSEMO2</td>\n",
       "    </tr>\n",
       "    <tr>\n",
       "      <th>876</th>\n",
       "      <td>0.901703</td>\n",
       "      <td>1.131961</td>\n",
       "      <td>0.499655</td>\n",
       "      <td>93.398575</td>\n",
       "      <td>6236.145167</td>\n",
       "      <td>9.572239</td>\n",
       "      <td>6.082278</td>\n",
       "      <td>0.007380</td>\n",
       "      <td>TSEMO2</td>\n",
       "    </tr>\n",
       "    <tr>\n",
       "      <th>112</th>\n",
       "      <td>1.854376</td>\n",
       "      <td>1.141609</td>\n",
       "      <td>0.499815</td>\n",
       "      <td>74.038180</td>\n",
       "      <td>3063.583040</td>\n",
       "      <td>9.480495</td>\n",
       "      <td>6.756613</td>\n",
       "      <td>0.004294</td>\n",
       "      <td>TSEMO2</td>\n",
       "    </tr>\n",
       "    <tr>\n",
       "      <th>862</th>\n",
       "      <td>1.223413</td>\n",
       "      <td>1.281558</td>\n",
       "      <td>0.499545</td>\n",
       "      <td>79.013165</td>\n",
       "      <td>4636.978563</td>\n",
       "      <td>9.553696</td>\n",
       "      <td>6.201299</td>\n",
       "      <td>0.006104</td>\n",
       "      <td>TSEMO2</td>\n",
       "    </tr>\n",
       "  </tbody>\n",
       "</table>\n",
       "</div>"
      ],
      "text/plain": [
       "NAME       tau  equiv_pldn  conc_dfnb  temperature          sty  e_factor  \\\n",
       "388   0.846752    1.817991   0.494767    47.544955  6663.547974  9.784374   \n",
       "713   1.605081    1.293420   0.498311    69.999020  3535.282155  9.553033   \n",
       "867   0.845041    1.296763   0.488834    84.814663  6564.653961  9.745980   \n",
       "274   0.864869    1.324289   0.496886    92.616767  6466.718639  9.705964   \n",
       "749   0.774055    1.353482   0.488045    87.629348  7135.611494  9.812046   \n",
       "876   0.901703    1.131961   0.499655    93.398575  6236.145167  9.572239   \n",
       "112   1.854376    1.141609   0.499815    74.038180  3063.583040  9.480495   \n",
       "862   1.223413    1.281558   0.499545    79.013165  4636.978563  9.553696   \n",
       "\n",
       "NAME  computation_time  experiment_time strategy  \n",
       "388           4.712905         0.004277   TSEMO2  \n",
       "713           3.900388         0.004382   TSEMO2  \n",
       "867           4.398601         0.003978   TSEMO2  \n",
       "274           4.014828         0.004296   TSEMO2  \n",
       "749           4.073402         0.004100   TSEMO2  \n",
       "876           6.082278         0.007380   TSEMO2  \n",
       "112           6.756613         0.004294   TSEMO2  \n",
       "862           6.201299         0.006104   TSEMO2  "
      ]
     },
     "execution_count": 250,
     "metadata": {},
     "output_type": "execute_result"
    }
   ],
   "source": [
    "from summit.utils.multiobjective import pareto_efficient\n",
    "\n",
    "objectives = [v.name for v in lab.domain.variables\n",
    "              if v.is_objective]\n",
    "data = lab.data[objectives].copy()\n",
    "\n",
    "#Handle minimize objectives\n",
    "for objective in objectives:\n",
    "    if not lab.domain[objective].maximize:\n",
    "        data[objective] = -1.0*data[objective]\n",
    "\n",
    "values, indices = pareto_efficient(data.to_numpy(),\n",
    "                                   maximize=True)\n",
    "\n",
    "pareto_data = lab.data.iloc[indices]\n",
    "pareto_data"
   ]
  }
 ],
 "metadata": {
  "kernelspec": {
   "display_name": "Python 3",
   "language": "python",
   "name": "python3"
  },
  "language_info": {
   "codemirror_mode": {
    "name": "ipython",
    "version": 3
   },
   "file_extension": ".py",
   "mimetype": "text/x-python",
   "name": "python",
   "nbconvert_exporter": "python",
   "pygments_lexer": "ipython3",
   "version": "3.7.3"
  }
 },
 "nbformat": 4,
 "nbformat_minor": 4
}
