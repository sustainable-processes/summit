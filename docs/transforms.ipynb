{
 "cells": [
  {
   "cell_type": "code",
   "execution_count": 1,
   "metadata": {},
   "outputs": [],
   "source": [
    "%load_ext autoreload\n",
    "%autoreload 2"
   ]
  },
  {
   "cell_type": "code",
   "execution_count": 2,
   "metadata": {},
   "outputs": [],
   "source": [
    "from summit.benchmarks import SnarBenchmark\n",
    "from summit.strategies import TSEMO2, SNOBFIT, Transform, LogSpaceObjectives, MultitoSingleObjective\n",
    "from summit.utils.dataset import DataSet\n",
    "from IPython.display import clear_output\n",
    "import matplotlib.pyplot as plt"
   ]
  },
  {
   "cell_type": "code",
   "execution_count": 3,
   "metadata": {},
   "outputs": [
    {
     "data": {
      "text/html": [
       "<table id='domain' width=100%><tr><td><b>Name</b></td><td><b>Type</b></td><td><b>Description</b></td><td><b>Values</b></td></tr><tr><td>tau</td><td>continuous, input</td><td>residence time in minutes</td><td>[0.5,2]</td></tr><tr><td>equiv_pldn</td><td>continuous, input</td><td>equivalents of pyrrolidine</td><td>[1.0,5]</td></tr><tr><td>conc_dfnb</td><td>continuous, input</td><td>concentration of 2,4 dinitrofluorobenenze at reactor inlet (after mixing) in M</td><td>[0.1,0.5]</td></tr><tr><td>temperature</td><td>continuous, input</td><td>Reactor temperature in degress celsius</td><td>[30,120]</td></tr><tr><td>sty</td><td>continuous, maximize objective</td><td>space time yield (kg/m^3/h)</td><td>[0,100]</td></tr><tr><td>e_factor</td><td>continuous, minimize objective</td><td>E-factor</td><td>[0,10]</td></tr></table>"
      ],
      "text/plain": [
       "<summit.domain.Domain at 0x109c63390>"
      ]
     },
     "execution_count": 3,
     "metadata": {},
     "output_type": "execute_result"
    }
   ],
   "source": [
    "lab = SnarBenchmark()\n",
    "lab.domain"
   ]
  },
  {
   "cell_type": "code",
   "execution_count": null,
   "metadata": {},
   "outputs": [],
   "source": [
    "lab.reset()\n",
    "\n",
    "# Set up the TSEMO strategy with log transform of the objectives\n",
    "transform = Transform(lab.domain)\n",
    "tsemo = TSEMO2(lab.domain, transform=transform, random_rate=0.05)\n",
    "names = [r'Space Time Yield ($kg \\; m^{-3} h^{-1}$)', 'E-factor']\n",
    "\n",
    "# Get and run initial experiments. TSEMO uses latin hypercube for initial designs\n",
    "print(\"Starting initial design\")\n",
    "experiments = tsemo.suggest_experiments(30)\n",
    "lab.run_experiments(experiments)\n",
    "\n",
    "# Plot initial experiments\n",
    "fig, ax = lab.pareto_plot()\n",
    "ax.set_xlabel(names[0])\n",
    "ax.set_ylabel(names[1])\n",
    "plt.show(fig)\n",
    "\n",
    "# Run TSEMO\n",
    "print(\"Running TSEMO iteration 1\")\n",
    "for i in range(10):\n",
    "    # Transform objective data to log\n",
    "    previous_results = lab.data.copy()\n",
    "    \n",
    "    # Get TSEMO suggestions\n",
    "    experiments = tsemo.suggest_experiments(5, previous_results=previous_results)\n",
    "    \n",
    "    # Run experiments\n",
    "    results = lab.run_experiments(experiments)\n",
    "\n",
    "    clear_output(wait=True) # Clear the previous plot\n",
    "    fig, ax = lab.pareto_plot()\n",
    "    ax.set_xlabel(names[0])\n",
    "    ax.set_ylabel(names[1])\n",
    "    ax.set_title(f\"TSEMO iteration {i+1}\")\n",
    "    ax.set_yscale('log')\n",
    "    ax.tick_params(direction='in')\n",
    "    plt.show(fig)\n",
    "    print(f\"Running TSEMO iteration {i+2}\")\n",
    "\n",
    "# Make final plot\n",
    "clear_output(wait=True)\n",
    "fig, ax = lab.pareto_plot()\n",
    "ax.set_xlabel(names[0])\n",
    "ax.set_ylabel(names[1])\n",
    "ax.set_title(f\"TSEMO iteration {i}\")\n",
    "ax.tick_params(direction='in')\n",
    "plt.show(fig)"
   ]
  },
  {
   "cell_type": "code",
   "execution_count": 10,
   "metadata": {},
   "outputs": [
    {
     "data": {
      "image/png": "[encoded data removed]",
      "text/plain": [
       "<Figure size 432x288 with 1 Axes>"
      ]
     },
     "metadata": {
      "needs_background": "light"
     },
     "output_type": "display_data"
    }
   ],
   "source": [
    "lab.reset()\n",
    "\n",
    "# Set up the SNOBFIT strategy\n",
    "transform = MultitoSingleObjective(lab.domain, expression='-sty/1e4+e_factor/100')\n",
    "snobfit = SNOBFIT(lab.domain, transform=transform)\n",
    "\n",
    "names = [r'Space Time Yield ($kg \\; m^{-3} h^{-1}$)', 'E-factor']\n",
    "results= None\n",
    "prev_param = None\n",
    "\n",
    "# Run SNOBFIT\n",
    "print(\"Running SNOBFIT iteration 1\")\n",
    "for i in range(16):\n",
    "    # Get SNOBFIT suggestions\n",
    "    experiments, _, _, prev_param = snobfit.suggest_experiments(5, \n",
    "                                                               prev_res=results,\n",
    "                                                               prev_param=prev_param)\n",
    "    \n",
    "    # Run experiments\n",
    "    results = lab.run_experiments(experiments)\n",
    "    \n",
    "    clear_output(wait=True) # Clear the previous plot\n",
    "    fig, ax = lab.pareto_plot()\n",
    "    ax.set_xlabel(names[0])\n",
    "    ax.set_ylabel(names[1])\n",
    "    ax.set_title(f\"SNOBFIT iteration {i+1}\")\n",
    "    ax.set_yscale('log')\n",
    "    ax.tick_params(direction='in')\n",
    "    plt.show(fig)\n",
    "    print(f\"Running SNOBFIT iteration {i+2}\")\n",
    "    \n",
    "\n",
    "# Make final plot\n",
    "clear_output(wait=True)\n",
    "fig, ax = lab.pareto_plot()\n",
    "ax.set_xlabel(names[0])\n",
    "ax.set_ylabel(names[1])\n",
    "ax.set_title(f\"SNOBFIT iteration {i+1}\")\n",
    "ax.tick_params(direction='in')\n",
    "plt.show(fig)"
   ]
  },
  {
   "cell_type": "code",
   "execution_count": 13,
   "metadata": {},
   "outputs": [
    {
     "data": {
      "image/png": "[encoded data removed]",
      "text/plain": [
       "<Figure size 432x288 with 1 Axes>"
      ]
     },
     "metadata": {
      "needs_background": "light"
     },
     "output_type": "display_data"
    }
   ],
   "source": [
    "# Just showing the pareto front\n",
    "clear_output(wait=True)\n",
    "fig, ax = lab.pareto_plot()\n",
    "ax.set_xlabel(names[0])\n",
    "ax.set_ylabel(names[1])\n",
    "ax.set_title(f\"SNOBFIT iteration {i}\")\n",
    "ax.set_ylim(9, 11)\n",
    "ax.set_xlim(1e4, 1.16e4)\n",
    "ax.tick_params(direction='in')\n",
    "plt.show(fig)"
   ]
  },
  {
   "cell_type": "code",
   "execution_count": null,
   "metadata": {},
   "outputs": [],
   "source": []
  }
 ],
 "metadata": {
  "kernelspec": {
   "display_name": "Python 3",
   "language": "python",
   "name": "python3"
  },
  "language_info": {
   "codemirror_mode": {
    "name": "ipython",
    "version": 3
   },
   "file_extension": ".py",
   "mimetype": "text/x-python",
   "name": "python",
   "nbconvert_exporter": "python",
   "pygments_lexer": "ipython3",
   "version": "3.7.3"
  }
 },
 "nbformat": 4,
 "nbformat_minor": 4
}
